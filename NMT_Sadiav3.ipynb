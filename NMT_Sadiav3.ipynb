{
  "nbformat": 4,
  "nbformat_minor": 0,
  "metadata": {
    "colab": {
      "name": " NMT_Sadiav3.ipynb",
      "provenance": []
    },
    "kernelspec": {
      "name": "python3",
      "display_name": "Python 3"
    },
    "language_info": {
      "name": "python"
    },
    "accelerator": "GPU"
  },
  "cells": [
    {
      "cell_type": "markdown",
      "source": [
        "The code is inspired from this github link:\n",
        "https://github.com/tensorflow/text/blob/master/docs/tutorials/nmt_with_attention.ipynb"
      ],
      "metadata": {
        "id": "rjUPPQxlywPH"
      }
    },
    {
      "cell_type": "markdown",
      "source": [
        "Neural machine Translation with Attention"
      ],
      "metadata": {
        "id": "EtGot9JjzBHW"
      }
    },
    {
      "cell_type": "code",
      "execution_count": null,
      "metadata": {
        "colab": {
          "base_uri": "https://localhost:8080/"
        },
        "id": "TdBFku8_3aFh",
        "outputId": "c52bd1c0-1024-49de-f9d1-dae69f0daae3"
      },
      "outputs": [
        {
          "output_type": "stream",
          "name": "stdout",
          "text": [
            "Requirement already satisfied: tensorflow in /usr/local/lib/python3.7/dist-packages (2.8.0)\n",
            "Requirement already satisfied: typing-extensions>=3.6.6 in /usr/local/lib/python3.7/dist-packages (from tensorflow) (4.2.0)\n",
            "Requirement already satisfied: six>=1.12.0 in /usr/local/lib/python3.7/dist-packages (from tensorflow) (1.15.0)\n",
            "Requirement already satisfied: libclang>=9.0.1 in /usr/local/lib/python3.7/dist-packages (from tensorflow) (14.0.1)\n",
            "Requirement already satisfied: wrapt>=1.11.0 in /usr/local/lib/python3.7/dist-packages (from tensorflow) (1.14.0)\n",
            "Requirement already satisfied: grpcio<2.0,>=1.24.3 in /usr/local/lib/python3.7/dist-packages (from tensorflow) (1.44.0)\n",
            "Collecting tf-estimator-nightly==2.8.0.dev2021122109\n",
            "  Downloading tf_estimator_nightly-2.8.0.dev2021122109-py2.py3-none-any.whl (462 kB)\n",
            "\u001b[K     |████████████████████████████████| 462 kB 12.0 MB/s \n",
            "\u001b[?25hRequirement already satisfied: gast>=0.2.1 in /usr/local/lib/python3.7/dist-packages (from tensorflow) (0.5.3)\n",
            "Requirement already satisfied: h5py>=2.9.0 in /usr/local/lib/python3.7/dist-packages (from tensorflow) (3.1.0)\n",
            "Requirement already satisfied: termcolor>=1.1.0 in /usr/local/lib/python3.7/dist-packages (from tensorflow) (1.1.0)\n",
            "Requirement already satisfied: google-pasta>=0.1.1 in /usr/local/lib/python3.7/dist-packages (from tensorflow) (0.2.0)\n",
            "Requirement already satisfied: astunparse>=1.6.0 in /usr/local/lib/python3.7/dist-packages (from tensorflow) (1.6.3)\n",
            "Requirement already satisfied: numpy>=1.20 in /usr/local/lib/python3.7/dist-packages (from tensorflow) (1.21.6)\n",
            "Requirement already satisfied: keras<2.9,>=2.8.0rc0 in /usr/local/lib/python3.7/dist-packages (from tensorflow) (2.8.0)\n",
            "Requirement already satisfied: tensorflow-io-gcs-filesystem>=0.23.1 in /usr/local/lib/python3.7/dist-packages (from tensorflow) (0.25.0)\n",
            "Requirement already satisfied: absl-py>=0.4.0 in /usr/local/lib/python3.7/dist-packages (from tensorflow) (1.0.0)\n",
            "Requirement already satisfied: flatbuffers>=1.12 in /usr/local/lib/python3.7/dist-packages (from tensorflow) (2.0)\n",
            "Requirement already satisfied: keras-preprocessing>=1.1.1 in /usr/local/lib/python3.7/dist-packages (from tensorflow) (1.1.2)\n",
            "Requirement already satisfied: protobuf>=3.9.2 in /usr/local/lib/python3.7/dist-packages (from tensorflow) (3.17.3)\n",
            "Requirement already satisfied: setuptools in /usr/local/lib/python3.7/dist-packages (from tensorflow) (57.4.0)\n",
            "Requirement already satisfied: tensorboard<2.9,>=2.8 in /usr/local/lib/python3.7/dist-packages (from tensorflow) (2.8.0)\n",
            "Requirement already satisfied: opt-einsum>=2.3.2 in /usr/local/lib/python3.7/dist-packages (from tensorflow) (3.3.0)\n",
            "Requirement already satisfied: wheel<1.0,>=0.23.0 in /usr/local/lib/python3.7/dist-packages (from astunparse>=1.6.0->tensorflow) (0.37.1)\n",
            "Requirement already satisfied: cached-property in /usr/local/lib/python3.7/dist-packages (from h5py>=2.9.0->tensorflow) (1.5.2)\n",
            "Requirement already satisfied: tensorboard-data-server<0.7.0,>=0.6.0 in /usr/local/lib/python3.7/dist-packages (from tensorboard<2.9,>=2.8->tensorflow) (0.6.1)\n",
            "Requirement already satisfied: markdown>=2.6.8 in /usr/local/lib/python3.7/dist-packages (from tensorboard<2.9,>=2.8->tensorflow) (3.3.6)\n",
            "Requirement already satisfied: requests<3,>=2.21.0 in /usr/local/lib/python3.7/dist-packages (from tensorboard<2.9,>=2.8->tensorflow) (2.23.0)\n",
            "Requirement already satisfied: werkzeug>=0.11.15 in /usr/local/lib/python3.7/dist-packages (from tensorboard<2.9,>=2.8->tensorflow) (1.0.1)\n",
            "Requirement already satisfied: google-auth-oauthlib<0.5,>=0.4.1 in /usr/local/lib/python3.7/dist-packages (from tensorboard<2.9,>=2.8->tensorflow) (0.4.6)\n",
            "Requirement already satisfied: google-auth<3,>=1.6.3 in /usr/local/lib/python3.7/dist-packages (from tensorboard<2.9,>=2.8->tensorflow) (1.35.0)\n",
            "Requirement already satisfied: tensorboard-plugin-wit>=1.6.0 in /usr/local/lib/python3.7/dist-packages (from tensorboard<2.9,>=2.8->tensorflow) (1.8.1)\n",
            "Requirement already satisfied: cachetools<5.0,>=2.0.0 in /usr/local/lib/python3.7/dist-packages (from google-auth<3,>=1.6.3->tensorboard<2.9,>=2.8->tensorflow) (4.2.4)\n",
            "Requirement already satisfied: pyasn1-modules>=0.2.1 in /usr/local/lib/python3.7/dist-packages (from google-auth<3,>=1.6.3->tensorboard<2.9,>=2.8->tensorflow) (0.2.8)\n",
            "Requirement already satisfied: rsa<5,>=3.1.4 in /usr/local/lib/python3.7/dist-packages (from google-auth<3,>=1.6.3->tensorboard<2.9,>=2.8->tensorflow) (4.8)\n",
            "Requirement already satisfied: requests-oauthlib>=0.7.0 in /usr/local/lib/python3.7/dist-packages (from google-auth-oauthlib<0.5,>=0.4.1->tensorboard<2.9,>=2.8->tensorflow) (1.3.1)\n",
            "Requirement already satisfied: importlib-metadata>=4.4 in /usr/local/lib/python3.7/dist-packages (from markdown>=2.6.8->tensorboard<2.9,>=2.8->tensorflow) (4.11.3)\n",
            "Requirement already satisfied: zipp>=0.5 in /usr/local/lib/python3.7/dist-packages (from importlib-metadata>=4.4->markdown>=2.6.8->tensorboard<2.9,>=2.8->tensorflow) (3.8.0)\n",
            "Requirement already satisfied: pyasn1<0.5.0,>=0.4.6 in /usr/local/lib/python3.7/dist-packages (from pyasn1-modules>=0.2.1->google-auth<3,>=1.6.3->tensorboard<2.9,>=2.8->tensorflow) (0.4.8)\n",
            "Requirement already satisfied: urllib3!=1.25.0,!=1.25.1,<1.26,>=1.21.1 in /usr/local/lib/python3.7/dist-packages (from requests<3,>=2.21.0->tensorboard<2.9,>=2.8->tensorflow) (1.24.3)\n",
            "Requirement already satisfied: idna<3,>=2.5 in /usr/local/lib/python3.7/dist-packages (from requests<3,>=2.21.0->tensorboard<2.9,>=2.8->tensorflow) (2.10)\n",
            "Requirement already satisfied: certifi>=2017.4.17 in /usr/local/lib/python3.7/dist-packages (from requests<3,>=2.21.0->tensorboard<2.9,>=2.8->tensorflow) (2021.10.8)\n",
            "Requirement already satisfied: chardet<4,>=3.0.2 in /usr/local/lib/python3.7/dist-packages (from requests<3,>=2.21.0->tensorboard<2.9,>=2.8->tensorflow) (3.0.4)\n",
            "Requirement already satisfied: oauthlib>=3.0.0 in /usr/local/lib/python3.7/dist-packages (from requests-oauthlib>=0.7.0->google-auth-oauthlib<0.5,>=0.4.1->tensorboard<2.9,>=2.8->tensorflow) (3.2.0)\n",
            "Installing collected packages: tf-estimator-nightly\n",
            "Successfully installed tf-estimator-nightly-2.8.0.dev2021122109\n",
            "Requirement already satisfied: keras in /usr/local/lib/python3.7/dist-packages (2.8.0)\n"
          ]
        }
      ],
      "source": [
        "!pip install tensorflow\n",
        "!pip install keras"
      ]
    },
    {
      "cell_type": "code",
      "source": [
        "!pip install \"tensorflow-text==2.8.*\""
      ],
      "metadata": {
        "colab": {
          "base_uri": "https://localhost:8080/"
        },
        "id": "R3V7vVj15CnT",
        "outputId": "def21b11-4e3a-43f8-dafb-ae7faee0f66a"
      },
      "execution_count": null,
      "outputs": [
        {
          "output_type": "stream",
          "name": "stdout",
          "text": [
            "Collecting tensorflow-text==2.8.*\n",
            "  Downloading tensorflow_text-2.8.2-cp37-cp37m-manylinux_2_12_x86_64.manylinux2010_x86_64.whl (4.9 MB)\n",
            "\u001b[K     |████████████████████████████████| 4.9 MB 11.9 MB/s \n",
            "\u001b[?25hRequirement already satisfied: tensorflow<2.9,>=2.8.0 in /usr/local/lib/python3.7/dist-packages (from tensorflow-text==2.8.*) (2.8.0)\n",
            "Requirement already satisfied: tensorflow-hub>=0.8.0 in /usr/local/lib/python3.7/dist-packages (from tensorflow-text==2.8.*) (0.12.0)\n",
            "Requirement already satisfied: numpy>=1.20 in /usr/local/lib/python3.7/dist-packages (from tensorflow<2.9,>=2.8.0->tensorflow-text==2.8.*) (1.21.6)\n",
            "Requirement already satisfied: astunparse>=1.6.0 in /usr/local/lib/python3.7/dist-packages (from tensorflow<2.9,>=2.8.0->tensorflow-text==2.8.*) (1.6.3)\n",
            "Requirement already satisfied: keras<2.9,>=2.8.0rc0 in /usr/local/lib/python3.7/dist-packages (from tensorflow<2.9,>=2.8.0->tensorflow-text==2.8.*) (2.8.0)\n",
            "Requirement already satisfied: tf-estimator-nightly==2.8.0.dev2021122109 in /usr/local/lib/python3.7/dist-packages (from tensorflow<2.9,>=2.8.0->tensorflow-text==2.8.*) (2.8.0.dev2021122109)\n",
            "Requirement already satisfied: typing-extensions>=3.6.6 in /usr/local/lib/python3.7/dist-packages (from tensorflow<2.9,>=2.8.0->tensorflow-text==2.8.*) (4.2.0)\n",
            "Requirement already satisfied: tensorflow-io-gcs-filesystem>=0.23.1 in /usr/local/lib/python3.7/dist-packages (from tensorflow<2.9,>=2.8.0->tensorflow-text==2.8.*) (0.25.0)\n",
            "Requirement already satisfied: grpcio<2.0,>=1.24.3 in /usr/local/lib/python3.7/dist-packages (from tensorflow<2.9,>=2.8.0->tensorflow-text==2.8.*) (1.44.0)\n",
            "Requirement already satisfied: protobuf>=3.9.2 in /usr/local/lib/python3.7/dist-packages (from tensorflow<2.9,>=2.8.0->tensorflow-text==2.8.*) (3.17.3)\n",
            "Requirement already satisfied: h5py>=2.9.0 in /usr/local/lib/python3.7/dist-packages (from tensorflow<2.9,>=2.8.0->tensorflow-text==2.8.*) (3.1.0)\n",
            "Requirement already satisfied: google-pasta>=0.1.1 in /usr/local/lib/python3.7/dist-packages (from tensorflow<2.9,>=2.8.0->tensorflow-text==2.8.*) (0.2.0)\n",
            "Requirement already satisfied: gast>=0.2.1 in /usr/local/lib/python3.7/dist-packages (from tensorflow<2.9,>=2.8.0->tensorflow-text==2.8.*) (0.5.3)\n",
            "Requirement already satisfied: setuptools in /usr/local/lib/python3.7/dist-packages (from tensorflow<2.9,>=2.8.0->tensorflow-text==2.8.*) (57.4.0)\n",
            "Requirement already satisfied: libclang>=9.0.1 in /usr/local/lib/python3.7/dist-packages (from tensorflow<2.9,>=2.8.0->tensorflow-text==2.8.*) (14.0.1)\n",
            "Requirement already satisfied: tensorboard<2.9,>=2.8 in /usr/local/lib/python3.7/dist-packages (from tensorflow<2.9,>=2.8.0->tensorflow-text==2.8.*) (2.8.0)\n",
            "Requirement already satisfied: opt-einsum>=2.3.2 in /usr/local/lib/python3.7/dist-packages (from tensorflow<2.9,>=2.8.0->tensorflow-text==2.8.*) (3.3.0)\n",
            "Requirement already satisfied: keras-preprocessing>=1.1.1 in /usr/local/lib/python3.7/dist-packages (from tensorflow<2.9,>=2.8.0->tensorflow-text==2.8.*) (1.1.2)\n",
            "Requirement already satisfied: six>=1.12.0 in /usr/local/lib/python3.7/dist-packages (from tensorflow<2.9,>=2.8.0->tensorflow-text==2.8.*) (1.15.0)\n",
            "Requirement already satisfied: absl-py>=0.4.0 in /usr/local/lib/python3.7/dist-packages (from tensorflow<2.9,>=2.8.0->tensorflow-text==2.8.*) (1.0.0)\n",
            "Requirement already satisfied: termcolor>=1.1.0 in /usr/local/lib/python3.7/dist-packages (from tensorflow<2.9,>=2.8.0->tensorflow-text==2.8.*) (1.1.0)\n",
            "Requirement already satisfied: wrapt>=1.11.0 in /usr/local/lib/python3.7/dist-packages (from tensorflow<2.9,>=2.8.0->tensorflow-text==2.8.*) (1.14.0)\n",
            "Requirement already satisfied: flatbuffers>=1.12 in /usr/local/lib/python3.7/dist-packages (from tensorflow<2.9,>=2.8.0->tensorflow-text==2.8.*) (2.0)\n",
            "Requirement already satisfied: wheel<1.0,>=0.23.0 in /usr/local/lib/python3.7/dist-packages (from astunparse>=1.6.0->tensorflow<2.9,>=2.8.0->tensorflow-text==2.8.*) (0.37.1)\n",
            "Requirement already satisfied: cached-property in /usr/local/lib/python3.7/dist-packages (from h5py>=2.9.0->tensorflow<2.9,>=2.8.0->tensorflow-text==2.8.*) (1.5.2)\n",
            "Requirement already satisfied: requests<3,>=2.21.0 in /usr/local/lib/python3.7/dist-packages (from tensorboard<2.9,>=2.8->tensorflow<2.9,>=2.8.0->tensorflow-text==2.8.*) (2.23.0)\n",
            "Requirement already satisfied: werkzeug>=0.11.15 in /usr/local/lib/python3.7/dist-packages (from tensorboard<2.9,>=2.8->tensorflow<2.9,>=2.8.0->tensorflow-text==2.8.*) (1.0.1)\n",
            "Requirement already satisfied: google-auth-oauthlib<0.5,>=0.4.1 in /usr/local/lib/python3.7/dist-packages (from tensorboard<2.9,>=2.8->tensorflow<2.9,>=2.8.0->tensorflow-text==2.8.*) (0.4.6)\n",
            "Requirement already satisfied: tensorboard-plugin-wit>=1.6.0 in /usr/local/lib/python3.7/dist-packages (from tensorboard<2.9,>=2.8->tensorflow<2.9,>=2.8.0->tensorflow-text==2.8.*) (1.8.1)\n",
            "Requirement already satisfied: markdown>=2.6.8 in /usr/local/lib/python3.7/dist-packages (from tensorboard<2.9,>=2.8->tensorflow<2.9,>=2.8.0->tensorflow-text==2.8.*) (3.3.6)\n",
            "Requirement already satisfied: tensorboard-data-server<0.7.0,>=0.6.0 in /usr/local/lib/python3.7/dist-packages (from tensorboard<2.9,>=2.8->tensorflow<2.9,>=2.8.0->tensorflow-text==2.8.*) (0.6.1)\n",
            "Requirement already satisfied: google-auth<3,>=1.6.3 in /usr/local/lib/python3.7/dist-packages (from tensorboard<2.9,>=2.8->tensorflow<2.9,>=2.8.0->tensorflow-text==2.8.*) (1.35.0)\n",
            "Requirement already satisfied: cachetools<5.0,>=2.0.0 in /usr/local/lib/python3.7/dist-packages (from google-auth<3,>=1.6.3->tensorboard<2.9,>=2.8->tensorflow<2.9,>=2.8.0->tensorflow-text==2.8.*) (4.2.4)\n",
            "Requirement already satisfied: pyasn1-modules>=0.2.1 in /usr/local/lib/python3.7/dist-packages (from google-auth<3,>=1.6.3->tensorboard<2.9,>=2.8->tensorflow<2.9,>=2.8.0->tensorflow-text==2.8.*) (0.2.8)\n",
            "Requirement already satisfied: rsa<5,>=3.1.4 in /usr/local/lib/python3.7/dist-packages (from google-auth<3,>=1.6.3->tensorboard<2.9,>=2.8->tensorflow<2.9,>=2.8.0->tensorflow-text==2.8.*) (4.8)\n",
            "Requirement already satisfied: requests-oauthlib>=0.7.0 in /usr/local/lib/python3.7/dist-packages (from google-auth-oauthlib<0.5,>=0.4.1->tensorboard<2.9,>=2.8->tensorflow<2.9,>=2.8.0->tensorflow-text==2.8.*) (1.3.1)\n",
            "Requirement already satisfied: importlib-metadata>=4.4 in /usr/local/lib/python3.7/dist-packages (from markdown>=2.6.8->tensorboard<2.9,>=2.8->tensorflow<2.9,>=2.8.0->tensorflow-text==2.8.*) (4.11.3)\n",
            "Requirement already satisfied: zipp>=0.5 in /usr/local/lib/python3.7/dist-packages (from importlib-metadata>=4.4->markdown>=2.6.8->tensorboard<2.9,>=2.8->tensorflow<2.9,>=2.8.0->tensorflow-text==2.8.*) (3.8.0)\n",
            "Requirement already satisfied: pyasn1<0.5.0,>=0.4.6 in /usr/local/lib/python3.7/dist-packages (from pyasn1-modules>=0.2.1->google-auth<3,>=1.6.3->tensorboard<2.9,>=2.8->tensorflow<2.9,>=2.8.0->tensorflow-text==2.8.*) (0.4.8)\n",
            "Requirement already satisfied: chardet<4,>=3.0.2 in /usr/local/lib/python3.7/dist-packages (from requests<3,>=2.21.0->tensorboard<2.9,>=2.8->tensorflow<2.9,>=2.8.0->tensorflow-text==2.8.*) (3.0.4)\n",
            "Requirement already satisfied: certifi>=2017.4.17 in /usr/local/lib/python3.7/dist-packages (from requests<3,>=2.21.0->tensorboard<2.9,>=2.8->tensorflow<2.9,>=2.8.0->tensorflow-text==2.8.*) (2021.10.8)\n",
            "Requirement already satisfied: urllib3!=1.25.0,!=1.25.1,<1.26,>=1.21.1 in /usr/local/lib/python3.7/dist-packages (from requests<3,>=2.21.0->tensorboard<2.9,>=2.8->tensorflow<2.9,>=2.8.0->tensorflow-text==2.8.*) (1.24.3)\n",
            "Requirement already satisfied: idna<3,>=2.5 in /usr/local/lib/python3.7/dist-packages (from requests<3,>=2.21.0->tensorboard<2.9,>=2.8->tensorflow<2.9,>=2.8.0->tensorflow-text==2.8.*) (2.10)\n",
            "Requirement already satisfied: oauthlib>=3.0.0 in /usr/local/lib/python3.7/dist-packages (from requests-oauthlib>=0.7.0->google-auth-oauthlib<0.5,>=0.4.1->tensorboard<2.9,>=2.8->tensorflow<2.9,>=2.8.0->tensorflow-text==2.8.*) (3.2.0)\n",
            "Installing collected packages: tensorflow-text\n",
            "Successfully installed tensorflow-text-2.8.2\n"
          ]
        }
      ]
    },
    {
      "cell_type": "code",
      "source": [
        "import collections\n",
        "import helper\n",
        "import numpy as np\n",
        "import tensorflow as tf\n",
        "import tensorflow_text as tf_text\n",
        "import re\n",
        "import typing\n",
        "from typing import Any, Tuple\n",
        "\n",
        "from numpy import array\n",
        "from keras.utils.np_utils import to_categorical\n",
        "from keras.utils.vis_utils import plot_model\n",
        "from keras.models import Sequential\n",
        "from keras.layers import LSTM\n",
        "from keras.layers import Dense\n",
        "from keras.layers import Embedding\n",
        "from keras.layers import RepeatVector\n",
        "from keras.layers import TimeDistributed\n",
        "from keras.callbacks import ModelCheckpoint\n",
        "from numpy import argmax\n",
        "from keras.models import load_model\n",
        "from keras.layers import Dropout\n",
        " \n",
        "from keras.optimizers import gradient_descent_v2\n",
        "from keras.preprocessing.text import Tokenizer\n",
        "from keras.preprocessing.sequence import pad_sequences\n",
        "from keras.models import Model\n",
        "from keras.layers import GRU, Input, Dense, TimeDistributed, Activation, RepeatVector, Bidirectional\n",
        "from keras.layers.embeddings import Embedding\n",
        "from keras.losses import sparse_categorical_crossentropy\n",
        "\n",
        "import matplotlib.pyplot as plt\n",
        "import matplotlib.ticker as ticker"
      ],
      "metadata": {
        "id": "kjxjMazG4upi"
      },
      "execution_count": null,
      "outputs": []
    },
    {
      "cell_type": "code",
      "source": [
        "#@title Shape checker\n",
        "class ShapeChecker():\n",
        "  def __init__(self):\n",
        "    # Keep a cache of every axis-name seen\n",
        "    self.shapes = {}\n",
        "\n",
        "  def __call__(self, tensor, names, broadcast=False):\n",
        "    if not tf.executing_eagerly():\n",
        "      return\n",
        "\n",
        "    if isinstance(names, str):\n",
        "      names = (names,)\n",
        "\n",
        "    shape = tf.shape(tensor)\n",
        "    rank = tf.rank(tensor)\n",
        "\n",
        "    if rank != len(names):\n",
        "      raise ValueError(f'Rank mismatch:\\n'\n",
        "                       f'    found {rank}: {shape.numpy()}\\n'\n",
        "                       f'    expected {len(names)}: {names}\\n')\n",
        "\n",
        "    for i, name in enumerate(names):\n",
        "      if isinstance(name, int):\n",
        "        old_dim = name\n",
        "      else:\n",
        "        old_dim = self.shapes.get(name, None)\n",
        "      new_dim = shape[i]\n",
        "\n",
        "      if (broadcast and new_dim == 1):\n",
        "        continue\n",
        "\n",
        "      if old_dim is None:\n",
        "        # If the axis name is new, add its length to the cache.\n",
        "        self.shapes[name] = new_dim\n",
        "        continue\n",
        "\n",
        "      if new_dim != old_dim:\n",
        "        raise ValueError(f\"Shape mismatch for dimension: '{name}'\\n\"\n",
        "                         f\"    found: {new_dim}\\n\"\n",
        "                         f\"    expected: {old_dim}\\n\")"
      ],
      "metadata": {
        "id": "LHACenLY5Lxy"
      },
      "execution_count": null,
      "outputs": []
    },
    {
      "cell_type": "code",
      "source": [
        "def load_data(path):\n",
        "  source_file = \"/content/drive/MyDrive/NLP/sentencesTrain.txt\"\n",
        "  target_file = \"/content/drive/MyDrive/NLP/tokensTrain.txt\"\n",
        "\n",
        "  text_pairs_source = []\n",
        "  text_pairs_target = []\n",
        "\n",
        "  with open(source_file,encoding=\"cp1252\") as file1, open(target_file,encoding=\"cp1252\") as file2:\n",
        "      for line1, line2 in zip(file1, file2):\n",
        "          line1 = line1.replace(\"\\n\", \" \")\n",
        "          line1 = line1.strip()\n",
        "          \n",
        "          line2 = line2.replace(\",\", \" \")\n",
        "          line2 = line2.replace(\"\\n\", \" \")\n",
        "          line2 = line2.strip()\n",
        "          text_pairs_source.append(line1)\n",
        "          text_pairs_target.append(line2)\n",
        "          print(line2)\n",
        "  return text_pairs_target,text_pairs_source"
      ],
      "metadata": {
        "id": "VsBeWHt95UBi"
      },
      "execution_count": null,
      "outputs": []
    },
    {
      "cell_type": "code",
      "source": [
        "target, inp = load_data(\"\")"
      ],
      "metadata": {
        "colab": {
          "base_uri": "https://localhost:8080/"
        },
        "id": "6lmm63336Ie2",
        "outputId": "8d103e5e-b13e-4096-9c25-f515aa145b06"
      },
      "execution_count": null,
      "outputs": [
        {
          "output_type": "stream",
          "name": "stdout",
          "text": [
            "(P)PARTY START WHICH TIME EIGHT TIME NINE (P)PARTY START WHICH TIME\n",
            "(G/Q)POSS-1p SISTER (2h)IX-3p:i tube skipping on water IX-1p GO-BY-BOAT IX-1p LOOK MAKE REALLY person flips off IX-1p STOP SISTER (2h)IX-3p:i tube skipping on water GO-BY-BOAT MAKE STOP\n",
            "MOTHER IX-loc:i #IF+ (1h)HAVE TIME+ IX-3p:i FUTURE BRING COOKIE TIME+ BRING COOKIE\n",
            "#NO+ IX-1p NOT OLD ENOUGH TO/UNTIL VOTE THAT TIME part:indef ENOUGH TO/UNTIL VOTE TIME part:indef\n",
            "FRIEND WANT_2 BUY PLAID (2h)SHIRT FRIEND WANT_2 BUY (2h)SHIRT\n",
            "#IF TOMORROW SNOW GUARANTEE SCHOOL FUTURE CLOSE-DOOR SNOW GUARANTEE SCHOOL CLOSE-DOOR\n",
            "IX-1p RECENT-PAST DRINK TASTE FINE++ (1h)part:indef\n",
            "#IF MOTHERwg IX-3p:i NOT person walking SELL IX-1p-pl-arc REFUSE (1h)HAVE MILK part:indef SELL (1h)part:indef part:indef\n",
            "FINEwg MOTHERwg FUTURE GIVE-1p TWENTY DOLLAR #IF IX-1p NICE/CLEAN (K)KITCHEN DOLLAR NICE/CLEAN (K)KITCHEN\n",
            "TEACH+AGENT IX-loc:i IX-3p-pl-arc HEAR/LISTEN IX-3p:i WHO TEACH AGENT BUOY IX-3p:j\n",
            "IX-1p RECENT-PAST READ+ BOOK IX-1p READ+ BOOK\n",
            "EXPRESS THROUGH_2 (2h)TALKwg MINOR EXPRESS SIGN CURRENT-TOPIC ROAD EXPRESS THROUGH_2 (2h)TALKwg MINOR EXPRESS SIGN CURRENT-TOPIC ROAD\n",
            "IX-1p LIKE MAYBE (2h)THING (2h)ANY+(2h)THING I don't know MAYBE (2h)THING (2h)ANY (2h)THING I don't know\n",
            "wave no NOW THURSDAY+ MEAN TOMORROW FRIDAY+ NOW MEAN\n",
            "FRIEND GROUP/TOGETHER DRIVE WHERE FRIEND GROUP/TOGETHER DRIVE\n",
            "FRIEND NOW IX-3p:i PLAY VIDEO-GAME FRIEND NOW PLAY VIDEO-GAME\n",
            "POSS-1p SISTER WANT FOR POSS-3p:i BIRTHDAY (1h)DO-DO (1h)part:indef SISTER WANT\n",
            "FRIEND FINISH EXPERIENCE+ TRIP QMwg FRIEND FINISH\n",
            "fs-BOB IX-loc:i NOT-YET SEND LETTER/MAIL SEND LETTER/MAIL\n",
            "#IF IX-3p:i FAMILY DECIDE VACATION EVERY-YEAR IX-3p:i FUTURE EVERY-YEAR DEPART+ ns-#PR FAMILY DECIDE VACATION EVERY-YEAR\n",
            "fs-NETFLIX RECENT-PAST SEND IX-1p recieve DVD fs-DVD DVD (1h)SCRAPE (1h)part:indef SEND recieve DVD DVD\n",
            "IX-3p-pl-2:i/j fs-JACK fs-SUE MEET PAST+ FINISH QMwg MEET FINISH\n",
            "GAME FINISH BEFORE_2 TIME SIX part:indef WHICH GAME FINISH BEFORE_2 TIME part:indef WHICH\n",
            "IX-2p LEAVE NOT-MIND+ CLOSE-GATE LEAVE CLOSE-GATE\n",
            "IX-3p:i NOT FINISH (25)WHY IX-3p:i REST+++ FINISH REST+++\n",
            "DRESS/CLOTHES IX-loc:i #SALE IX-1p FRIEND GROUP/TOGETHER group go together #MALL DRESS/CLOTHES FRIEND GROUP/TOGETHER group go together\n",
            "IX-1p NOT SEE (5)ACCIDENT part:indef IX-1p SLEEP part:indef (5)ACCIDENT part:indef\n",
            "PLAN SURPRISE fs-BOB WHO PLAN SURPRISE\n",
            "TOMORROW RAIN++ MEAN ARRIVE UNCLE HOUSE STAY IN+ RAIN++ MEAN ARRIVE HOUSE STAY IN+\n",
            "RAIN++ (1h)WOW/AWFUL RAIN++\n",
            "#WHEN FATHERwg IX-loc:i ARRIVE HOME fs-LATE MOTHER IX-loc:i REFUSE MAKE DINNER+ ARRIVE MAKE\n",
            "#WHEN POSS-1p SISTER IX-3p:i WATER+TUBING IX-loc:i IX-1p-pl-arc MUST MAKE REALLY (2h)LOOK-FORWARD NOT person sliding off tube SISTER TUBING MAKE (2h)LOOK-FORWARD person sliding off tube\n",
            "IX-1p (2h)LOOK MOVIE PAST+NIGHT ACT+AGENT (1h)GOOD/THANK-YOU (2h)LOOK MOVIE NIGHT ACT AGENT\n",
            "MOTHER SICK HOW part:indef SICK HOW part:indef\n",
            "FRIEND ' GO-OUT fs-BEACH (2h)NOT-YET FRIEND ' (2h)NOT-YET\n",
            "MOTHER IX-3p:i SICK NOW NOT SICK NOW\n",
            "POSS-1p MOTHER+ IX-loc:i KISS-FIST GLASSES_2 WHY+ FACE fs-BAD NEAT GLASSES_2\n",
            "#NO+ IX-3p:i many games #ALL GAME (1h)part:indef LOSE-COMPETITION many games GAME\n",
            "WANT_2 #BQQ (P)PARTY FOR (1h)part:indef WANT_2 (P)PARTY\n",
            "IX-2p BUY CAR WHERE BUY CAR\n",
            "THAT IDEA SET-UP REALLY BELOW_2 DIFFERENT-arc CULTURE HAVE DIFFERENT-arc ALLOW INTERPRET #OR GIFT MEAN TO/UNTIL DIFFERENT-arc fs-SENSORY EXPERIENCE you know SET-UP BELOW_2 DIFFERENT-arc CULTURE HAVE DIFFERENT-arc ALLOW INTERPRET GIFT MEAN TO/UNTIL DIFFERENT-arc you know\n",
            "fs-LOTTERY IX-loc:i SOMETHING/ONE WIN QMwg WIN\n",
            "PEOPLE IX-1p 1p-MEET+++:i/j/k/l PAST+NIGHT WOW (L-X)INTERESTING PEOPLE 1p-MEET+++:i/j/k/l NIGHT (L-X)INTERESTING\n",
            "IX-1p PROCEED START FILL-OUT FRIEND (2h)alt.INVITE/HIRE FOR #BBQ GROUP/TOGETHER IX-1p MAKE REALLY LIST #ALL CORRECT PROCEED START FILL-OUT FRIEND (2h)alt.INVITE/HIRE GROUP/TOGETHER MAKE LIST CORRECT\n",
            "POSS-2p FRIEND ADDICTED LAPTOP TYPE INTERNET WHY+ part:indef FRIEND LAPTOP TYPE INTERNET part:indef\n",
            "IX-loc:i START opening can #NO+ wave no NOT IX-1p START opening can\n",
            "#IF IX-1p LOOK FRIEND IX-loc:i FINISH HOMEWORK EMPTY/EARLY (1h)TEND SURF-INTERNET INTERNET ALL-NIGHT FRIEND FINISH HOMEWORK EMPTY/EARLY INTERNET ALL-NIGHT\n",
            "BELOW_2 ON THAT ANALYZE_3 FROM (1)GENERATIONS-AGO+ IDEA SUGGEST fs-EDWARD fs-HALL BELOW_2 ON ANALYZE_3 FROM (1)GENERATIONS-AGO+ SUGGEST\n",
            "GO-OUT+ NOT SNOW SCHOOL NORMAL OPEN STAY++ SNOW SCHOOL NORMAL OPEN STAY++\n",
            "POSS-1p FRIEND IX-3p:i person passed out PAST+NIGHT (25)WHY (2h)(Y)DRINK PARTY-HARD IX-3p:i FRIEND person passed out NIGHT (2h)(Y)DRINK PARTY-HARD\n",
            "FRIEND LOVE SURF-INTERNET REALLY+WORK+ QMwg FRIEND LOVE WORK+\n",
            "IX-1p KISS-FIST APPLE DURING/WHILE AUTUMN DURING/WHILE AUTUMN\n",
            "PICK-1p GROUP #CLUB JOIN (2h)WOW HONOR GROUP JOIN (2h)WOW HONOR\n",
            "IX-1p WARM wave no IX-1p HOT\n",
            "fs-JOHN READ BOOK wave no IX-3p:i fs-JOHN NEVER START BOOK READ BOOK START BOOK\n",
            "#IF IX-1p ARRIVE WORK fs-LATE WOW+ BOSS FUTURE STOP FIRED IX-1p WOW ARRIVE WORK STOP FIRED\n",
            "(1h)INFORM-2p IX-3p:i CAR BREAK-DOWN IX-1p USE_2 CORRECT KEY_2 CAR BREAK-DOWN USE_2 CORRECT\n",
            "IX-1p (1h)part:indef NOT EXPERT MEMORIZE PEOPLE NAME MEET-3p-pl-arc MEMORIZE NAME (1h)DO-DO IX-1p NOT IX-1p PEOPLE NAME MEET-3p-pl-arc (1h)part:indef NAME\n",
            "#WHEN FATHER IX-loc:i ARRIVE HOME fs-LATE IX-1p-pl-arc (1h)TEND EAT PIZZA_4 ARRIVE\n",
            "DRESS/CLOTHES IX-3p:i #SALE WHERE DRESS/CLOTHES\n",
            "#IF+ (fanned-flat-O)POSS-1p FRIEND DRIVE IX-1p (1h)SIT BACK SLEEP FRIEND DRIVE\n",
            "IX-1p WASHING-MACHINE+ NONE/NOTHING_2 part:indef WASHING-MACHINE+ NONE/NOTHING_2 part:indef\n",
            "#IF++ fs-JACK IX-loc:i GET CAT+ FUTURE KEEP++++ GET KEEP++++\n",
            "GAME FINISH BEFORE_2 TIME SIX part:indef WHICH GAME FINISH BEFORE_2 TIME part:indef WHICH\n",
            "#IF FATHERwg IX-loc:i ARRIVE HOME fs-LATE IX-3p:i CANNOT HELP-1p IX-1p WITH POSS-1p-pl-arc HOMEWORK (1h)part:indef ARRIVE CANNOT HELP-1p WITH HOMEWORK\n",
            "NOW IX-1p STUDY GO-OUT SCHOOL+ NOW STUDY SCHOOL+\n",
            "WHO WANT_2 PLAY FRISBEE part:indef WANT_2 PLAY part:indef\n",
            "TIME+ FRIEND IX-3p:i (5)CRASH (P)PARTY TIME+ (1h)part:indef TIME+ FRIEND (5)CRASH (P)PARTY TIME+\n",
            "#WHEN POSS-1p FAMILY REALLY+WORK TAKE-UP fs-PUPPIES IX-1p FUTURE ZOOM PET/SPOILED+ SELL (25)WHY IX-1p BUY COLLAR COLOR fs-COLLARS DIFFERENT-arc COLOR FAMILY WORK TAKE-UP ZOOM PET/SPOILED+ SELL BUY COLLAR DIFFERENT-arc\n",
            "FRIEND IX-loc:i MUST DRIVE WHY IX-1p TIRED IX-1p FRIEND DRIVE TIRED\n",
            "fs-JACK IX-loc:i HAVE MONEY HAVE MONEY\n",
            "WHO (1)SEND LETTER/MAIL_2 (1h)part:indef LETTER/MAIL_2\n",
            "BUY CAR WHO part:indef BUY CAR part:indef\n",
            "#IF IX-1p GO-OUT fs-PUBLIC SCHOOL+ GUARANTEE IX-1p look around and around (25)WHY NONE/NOTHING COMMUNICATE+ SCHOOL+ GUARANTEE look around and around NONE/NOTHING COMMUNICATE+\n",
            "#IF IX-3p:i STUDENT IX-loc:i WIN TROPHY GET ONE+HUNDRED DOLLAR_2 PAPER-CHECK/CARD STUDENT WIN TROPHY GET DOLLAR_2 PAPER-CHECK/CARD\n",
            "#WHEN IX-1p MAKE LIST FOR #BQQ (P)PARTY IX-1p MUST MAKE REALLY IX-1p (2h)INVITE/HIRE ALL POSS-1p FRIEND MAKE LIST (P)PARTY MAKE (2h)INVITE/HIRE ALL FRIEND\n",
            "fs-BRIDE AND fs-GROOM END WEDDING (25)WHY (1h)part:indef END WEDDING\n",
            "MUST MOVE-AWAY ns-#SD WHY (1h)part:indef MOVE-AWAY\n",
            "#IF hesitation IX-3p:i STUDENT PROCEED HEAR/LISTEN TEACH+AGENT LOOK-UP FUTURE LEARN SOMETHING/ONE STUDENT PROCEED TEACH AGENT LEARN\n",
            "HORSE IX-loc:i VOMIT/HATE RAIN+ PLAY GO-OUT horses running NOT LIKE VOMIT/HATE RAIN+ PLAY horses running\n",
            "BACK-OF-MIND AUTOMATIC (1h)part:indef AUTOMATIC\n",
            "ALCOHOL+ SELF-3p:i+ NOT ALWAYS (1h)GOOD/THANK-YOU part:indef ALCOHOL+ BUOY part:indef\n",
            "IX-2p (1h)TEND CHAT WITH IX-3p-pl-2:i/j WHY (1h)part:indef CHAT WITH\n",
            "#IF fs-OBAMA CHOOSE REPUBLICAN IX-3p:i fs-OBAMA FUTURE SORRY IX-3p:i CHOOSE\n",
            "#IF POSS-1p FRIEND IX-3p:i (1h)(flat-O)PAY/SPEND PLAID (2h)SHIRT IX-1p MUST MAKE REALLY OPPOSITE IX-1p (4)STRIPES FRIEND (2h)SHIRT MAKE OPPOSITE\n",
            "MUST (P)PAY fs-RENT WHO (P)PAY\n",
            "fs-BILL IX-loc:i MOVE ns-NEW-YORK FUTURE MOVE ns-NEW-YORK\n",
            "IX-1p NOT-YET (P)PAY EVERY-MONTH/RENT++ (P)PAY EVERY-MONTH/RENT++\n",
            "#IF FATHER IX-loc:i ARRIVE HOME fs-LATE IX-3p:j MOTHERwg GUARANTEE BAWL-OUT+ (25)WHY CHILDREN WANT_2 SEE FATHER IX-3p:i ARRIVE GUARANTEE BAWL-OUT+ CHILDREN WANT_2\n",
            "#IF IX-3p-pl-2:i/j fs-BRIDE AND fs-GROOM IX-3p-pl-2:i/j DANCE LAST WEDDING PEOPLE MUST people gathering in a circle QUIET (2h)LOOK-FORWARD BUOY_2 DANCE LAST WEDDING PEOPLE people gathering in a circle QUIET (2h)LOOK-FORWARD\n",
            "WHO KISS-FIST LOOK FIREWORKS\n",
            "fs-BOB IX-loc:i (1h)VOMIT/HATE READ BOOK+ READ BOOK+\n",
            "#IF+ POSS-1p FRIEND MAKE-IT SURPRISE fs-BOB IX-1p tip hat WHY+ fs-BOB IX-3p:i REALLY IMPOSSIBLE SURPRISE IX-3p:i FRIEND MAKE-IT SURPRISE IMPOSSIBLE SURPRISE\n",
            "SURPRISE (P)PARTY TIME START #WHEN part:indef SURPRISE (P)PARTY TIME START part:indef\n",
            "#IF RAIN+ (Y)YESTERDAY whoa REALLY #GO (nd-1)MOVIE RAIN+ (nd-1)MOVIE\n",
            "IX-2p WORK WHERE WORK\n",
            "#NO++ POSS-1p ROOMMATE NOT (1h)GRAB RECENT-PAST HAVE EAT+MORNING WITH IX-3p:i part:indef ROOMMATE MORNING WITH part:indef\n",
            "IX-1p WANT+NEG BUY SHORTS WANT NEG BUY SHORTS\n",
            "FATHER LAZY++ MOW GRASS REFUSE IX-3p:i MOW\n",
            "KISS-FIST LOOK-UP STAR+BOMB++ WHO part:indef STAR BOMB++ (1h)part:indef part:indef\n",
            "IX-1p THINK (Y)WOW BORE IX-1p\n",
            "(1h)TEND IX-1p GO UNCLE HOUSE IX-3p:i UNCLE ALWAYS (1h)STAY IN+ IX-3p:j GO HOUSE IN+\n",
            "IX-1p GO SCHOOL++ GO SCHOOL++\n",
            "IX-2p FINISH (L)LIVE THROUGH COLD IN ns-BOSTON wow SNOW+ A-LOT (1h)part:indef FINISH (L)LIVE THROUGH COLD IN SNOW+ A-LOT\n",
            "IX-1p NOW READ+ BOOK NOW READ+ BOOK\n",
            "KNOW+ FUTURE RAIN TOMORROW RAIN\n",
            "IX-2p NOT PASS-OUT_2 IX-2p DRUNK NOT IX-2p\n",
            "IX-1p FINISH DECIDE fs-MARY NOT INVITE/HIRE GO-OUT #BQQ (P)PARTY (25)WHY IX-3p:i NOT HAPPEN (5)SOCIAL/INTERACT FINISH DECIDE (P)PARTY HAPPEN (5)SOCIAL/INTERACT\n",
            "ATTENTION-WAVE #IF ATTENTION-WAVE fs-BOB IX-3p:i STUDY fs-LIT BOOK IX-3p:i FUTURE PASS LAST fs-EXAM ATTENTION-WAVE STUDY BOOK PASS LAST\n",
            "IX-1p MUST REQUEST DIRECT/EXPLAIN (25)WHY IX-1p KNOW-NOTHING WHERE GO-OUT IX-1p REQUEST DIRECT/EXPLAIN\n",
            "(1h)part:indef IX-1p LIKE IX-3p:i #IF IX-3p:i (1h)HAVE BUTTER IN+ oh well FINE IX-1p part:indef BUTTER IN+ oh well part:indef\n",
            "VEGETABLE #IF++ fs-JOHN (2h)alt.EAT+ fs-SPINACH BECOME SICK (2h)alt.EAT+ BECOME SICK\n",
            "what's going on? NONE/NOTHING BOOK-pl TABLE IX-honorific:i (1h)NONE/NOTHING (1h)part:indef NONE/NOTHING BOOK-pl TABLE\n",
            "(P)PARTY START WHICH TIME EIGHT TIME NINE (P)PARTY START WHICH TIME\n",
            "NOT HAVE TIME TOMORROW not a big deal wash car CAR MONDAY HAVE TIME not a big deal wash car CAR\n",
            "AUNT EXPERT MAKE (1h)DO-DO MAKE\n",
            "WHO IX-3p-pl-arc FIND/FIND-OUT IX-1p KEY (1h)part:indef KEY\n",
            "(P)PARTY_2 NIGHT START EIGHT NINE part:indef (P)PARTY_2 NIGHT START part:indef\n",
            "POSS-1p FAMILY IX-3p:i EVERY-YEAR VACATION+ part:indef (2h)#NO+MORE (1h)part:indef FAMILY EVERY-YEAR VACATION+ part:indef (2h)#NO MORE\n",
            "#NO IX-1p VOMIT/HATE++ #IF IX-1p EAT PINEAPPLE fs-CREAM CHEESE wave no IX-1p FAVORITE/PREFER+ fs-LOX VOMIT/HATE++ CHEESE\n",
            "IX-1p NOT THINK IX-3p:i PLAN GO part:indef IF+ SEE part:indef IX-1p FUTURE (1h)INFORM i:CALL-BY-PHONE:j IX-2p PLAN GO part:indef\n",
            "#IF fs-BOB IX-loc:i GO-OUT #PO IX-1p FUTURE GIVE:i ALL POSS-1p LETTER/MAIL_2 (25)WHY IX-3p:i CAN (1h)DROP fs-OFF BUOY ALL LETTER/MAIL_2 CAN\n",
            "#WHEN FRIEND GO-OUT (P)PARTY IX-1p GRAB-CHANCE 1p-INFORM:i ROOMMATE+ IX-1p JOIN FRIEND (P)PARTY GRAB-CHANCE 1p-INFORM:i ROOMMATE+ JOIN\n",
            "IX-3p:i BUY CAR WHAT KIND BUY CAR WHAT KIND\n",
            "POSS-1p FRIEND WANT PLAID (2h)SHIRT (25)WHY IX-3p:i FUTURE HAVE DRESS/CLOTHES (P)PARTY GROUP/TOGETHER DEPART FRIEND WANT (2h)SHIRT DRESS/CLOTHES (P)PARTY GROUP/TOGETHER\n",
            "THAT TWO DIFFERENT (B)NEXT-TOPIC #ORIENTATION CURRENT-TOPIC SET-UP FROM WHAT DIFFERENT (B)NEXT-TOPIC CURRENT-TOPIC SET-UP FROM WHAT\n",
            "TEACH+AGENT IX-3p:i SICK-OF NICE/CLEAN CLASS+BOX/ROOM IX-3p:i FORGET-IT NOT NICE/CLEAN NOW+ TEACH AGENT NICE/CLEAN CLASS BOX/ROOM NICE/CLEAN NOW+\n",
            "IX-2p START TRIP #WHEN (1h)part:indef START\n",
            "SEND LETTER/MAIL WHO SEND LETTER/MAIL\n",
            "whoa #IF+ ORDER PIZZA_4 HERE FUTURE DELICIOUS whoa HERE\n",
            "POSS-1p GIRL CORRECT IX-3p:i WANT+NEG HEADBAND FOR BIRTHDAY (1h)WANT+NEG CORRECT BUOY WANT NEG HEADBAND\n",
            "#HS IX-2p GO WHERE GO\n",
            "FATHER UPSET WHY (1h)part:indef\n",
            "POSS-1p PAY IX-1p INCREASE LITTLE-BIT SMALL-AMOUNT INCREASE part:indef PAY INCREASE part:indef\n",
            "WHEN IX-3p:i FRIEND LAPTOP TYPE INTERNET hey IX-1p REMIND:i GRAB-CHANCE HOME+WORK++ WHEN FRIEND LAPTOP TYPE INTERNET GRAB-CHANCE WORK++\n",
            "MAN WHO throw out of plane AIRPLANE WHO IX-3p:i fs-ALEC-BALDWIN throw out of plane\n",
            "IX-1p VOLUNTEER/SHIRT HELP+ OTHER ORGANIZATION HELP+ ORGANIZATION\n",
            "#WHEN MOTHER IX-loc:i GO-OUT SELL IX-1p FUTURE REMIND-2p+ MAKE+REALLY GET IX-1p-pl-arc MILK SELL MAKE GET\n",
            "#NO+ IX-3p:i many games #ALL GAME (1h)part:indef LOSE-COMPETITION many games GAME\n",
            "IX-1p ANALYZE MATH+ PROBLEM_2 IX-1p LOOK-OVER ANALYZE MATH+ PROBLEM_2\n",
            "FRIEND GO-OUT FISHING FRIEND FISHING\n",
            "#WHEN IX-1p FINISH NICE/CLEAN+ (K)KITCHEN MOTHER FUTURE TAKE IX-1p GO-OUT FRIEND HOUSE IX-1p FINISH NICE/CLEAN+ (K)KITCHEN FRIEND HOUSE\n",
            "IX-3p:i FEEL NONE/NOTHING_2 (1h)part:indef FEEL (F)NONE/NOTHING_2 (1h)part:indef NONE/NOTHING_2 (F)NONE/NOTHING_2\n",
            "IX-1p GO-OUT SWIM+ fs-BEACH IX-1p GUARANTEE fs-SUN+#BURN (25)WHY IX-1p BLANK-OUT POSS-1p applying suncreen fs-SUNSCREEN SWIM+ GUARANTEE applying suncreen\n",
            "exasperation fs-JOHN NOT HERE part:indef FUTURE ANY+ONE IX-3p-pl-arc KNOW+ WHERE IX-3p:i (1h)part:indef HERE part:indef\n",
            "IX-3p:i (1)GUILTY+ NONE/NOTHING_2+ part:indef NONE/NOTHING_2+ part:indef\n",
            "KNOW-THAT SOMETHING/ONE BUY CAR hey WHO++ BUY CAR\n",
            "(2h)HORSE (1h)TEND PLAY-continuative WHERE (2h)HORSE PLAY-continuative\n",
            "VEGETABLE IX-loc:i IF+ fs-JOHN EAT+++ fs-SPINACH FUTURE BECOME DISGUST+ SICK BECOME SICK\n",
            "#IF IX-3p:i fs-BOB IX-loc:i SUCCEED (2h)alt.FIRE+ IX-1p MUST STAY (2h)LOOK fs-BONFIRE MAKE+REALLY CONTINUE (2h)alt.FIRE++ SUCCEED (2h)alt.FIRE+ STAY (2h)LOOK MAKE CONTINUE (2h)alt.FIRE++\n",
            "(P)PARTY+ (1h)DO-DO KIND (1h)DO-DO (P)PARTY+ KIND\n",
            "GO-OUT+ NOT SNOW SCHOOL NORMAL NOT CANCEL/CRITICIZE SNOW SCHOOL NORMAL CANCEL/CRITICIZE\n",
            "AND MORE COOPERATE/UNITE HOW DEAF PEOPLE POSS-pl-arc EXPERIENCE IN THAT WORLD MORE COOPERATE/UNITE HOW PEOPLE IN WORLD\n",
            "#WHEN POSS-1p FRIEND START HAIR_2+DYE etcetera GUARANTEE MANY PEOPLE FUTURE FOLLOW FRIEND START HAIR_2 DYE etcetera GUARANTEE MANY PEOPLE FOLLOW\n",
            "(1h)WOW/AWFUL IX-1p person passed out PAST+NIGHT EACH+ONE (2h)alt.CHEER WOW person passed out NIGHT EACH (2h)alt.CHEER\n",
            "INTERNET IX-2p SURF-INTERNET (1h)DO-DO (1h)part:indef INTERNET\n",
            "IX-2p NOT ORDER PIZZA_4 part:indef CAN ORDER SPAGHETTI part:indef CAN SPAGHETTI\n",
            "WHO SEND LETTER/MAIL SEND LETTER/MAIL\n",
            "BOX/ROOM BIG_2 wave no NOT SMALL wave no BOX/ROOM BIG_2 SMALL\n",
            "#TV IX-loc:i HOW-MANY/MANY+ IX-loc:i HOW-MANY/MANY+\n",
            "IX-1p NOTICE BABY VOMIT/HATE STAR BOMB+ AFRAID NOTICE BABY VOMIT/HATE STAR BOMB+ AFRAID\n",
            "fs-JOHN IX-3p:i PAY/BUY TURKEY NONE/NOTHING_2 PAY/BUY NONE/NOTHING_2\n",
            "FRIEND PROCEED TAKE-UP PIZZA_4 DINNER (25)WHY IX-3p:i KISS-FIST PIZZA_4 FRIEND PROCEED TAKE-UP BUOY\n",
            "(1h)TEND COMMUTE+ BICYCLE (1h)part:indef WHO BICYCLE\n",
            "BEFORE_2 fs-ISSUE fs-DESDJ #VOL ONE NUMBER ONE IX-1p FOCUS/NARROW (2h)alt.SEE FEEL+ fs-TACTILE MAJOR fs-ORIENTATION TALK-OVER STILL BEFORE_2 NUMBER FOCUS/NARROW (2h)alt.SEE MAJOR TALK-OVER STILL\n",
            "IX-1p LOVE FIREWORKS (25)WHY FIREWORKS BEAUTIFUL LOUD LOVE FIREWORKS LOUD\n",
            "fs-BOB IX-loc:i (2h)NOT-YET GO-OUT #PO (1h)part:indef (2h)NOT-YET\n",
            "IX-2p (1h)WANT KNOW+ (1h)part:indef #IF fs-JOHN IX-loc:i WIN IX-3p:i GET BEAR size of bear WIN GET BEAR size of bear\n",
            "BOX/ROOM IX-loc:i NOT-YET ARRIVE IX-loc:i SHOULD CONTACT+ fs-FEDEX BOX/ROOM ARRIVE CONTACT+\n",
            "FRIEND IX-3p:i DEPART FISHING #WHEN FRIEND FISHING\n",
            "KID IX-loc-pl-arc VOMIT/HATE IX-3p:i PRINCIPAL (25)WHY++ #IF IX-3p:j NOT ACTION HOMEWORK IX-3p:i i:BAWL-OUT-distributive-3p-pl-arc VOMIT/HATE PRINCIPAL ACTION HOMEWORK i:BAWL-OUT-distributive-3p-pl-arc\n",
            "#IF FATHERwg IX-loc:i NOT ARRIVE HOME fs-TOO fs-LATE IX-3p:i CAN HELP IX-1p-pl-arc WITH POSS-1p-pl-arc HOMEWORK ARRIVE CAN HELP WITH HOMEWORK\n",
            "ARRIVE #LATE WHO ARRIVE\n",
            "(1h)TEND COMMUTE WORK BICYCLE WHO WORK BICYCLE\n",
            "fs-BRIDE AND fs-GROOM IX-3p-pl-2:i/j DANCE LAST POSS-1p WEDDING CLOSE-DOOR HOW (1h)part:indef PICK POSS-1p fs-OWN MUSIC BUOY_2 DANCE LAST WEDDING CLOSE-DOOR HOW MUSIC\n",
            "WHO FALL-IN-LOVE fs-BILL FALL-IN-LOVE\n",
            "IX-1p TIRED (1h)WOW/AWFUL TIRED\n",
            "#IF IX-3p:i fs-BOB (1)SEND POSS-3p:i RESUME FUTURE GET WORK BUOY RESUME GET WORK\n",
            "IX-2p GRADUATE #HS #WHEN GRADUATE\n",
            "IF LEARN+AGENT IX-3p:i HEAR/LISTEN TEACH+AGENT FUTURE LEARN SOMETHING/ONE LEARN AGENT TEACH AGENT LEARN\n",
            "#IF POSS-1p FRIEND GROUP/TOGETHER GO-OUT IX-1p FUTURE JOIN FRIEND GROUP/TOGETHER JOIN\n",
            "FRIEND PLAN+ SURPRISE fs-BOB (25)WHY IX-3p:i fs-BOB SOON AGE-TWENTY-ONE FRIEND PLAN+ SURPRISE BUOY\n",
            "HAVE HOMEWORK MUST WRITE THREE BOOK-PAGE (1)REPORT part:indef HAVE HOMEWORK WRITE BOOK-PAGE (1)REPORT part:indef\n",
            "#IF POSS-1p FRIEND PROCEED BRAVE/RECOVER ASK DIRECT/EXPLAIN WHERE IX-1p MUST ACCEPT DRIVE IX-1p FRIEND PROCEED BRAVE/RECOVER DIRECT/EXPLAIN ACCEPT DRIVE\n",
            "IX-3p:i WANT_2 NONE/NOTHING_2 DOUBT IX-1p NONE/NOTHING_2 dismissive gesture WANT_2 NONE/NOTHING_2 dismissive gesture\n",
            "RECENT-PAST IX-2p BUY GIFT FOR POSS-2p MOTHER IX-3p:i FUTURE KISS-FIST BUY GIFT BUOY\n",
            "WHEN IX-1p TRIP ARRIVE ns-INDIA IX-1p MUST WRITE PAPER-CHECK/CARD (2h)SEND/MAIL MOTHER+FATHER THANK-YOU+ IX-3p:i i:HELP-1p SUPPORT MONEY TRIP WHEN ARRIVE WRITE PAPER-CHECK/CARD (2h)SEND/MAIL THANK-YOU+ i:HELP-1p SUPPORT MONEY\n",
            "START WORK IX-2p #WHEN START WORK\n",
            "IX-3p-pl-2:i/j fs-JEN fs-JOE MARRY IX-3p-pl-2:i/j QMwg MARRY\n",
            "ORDER PIZZA_4 HERE GUARANTEE DELICIOUS HERE GUARANTEE\n",
            "#ALL_2 LEARN+AGENT ARRIVE ON TIME NONE TEST LEARN AGENT ARRIVE ON TIME NONE TEST\n",
            "SURPRISE (P)PARTY+ IX-loc:i TIME START part:indef SURPRISE (P)PARTY+ TIME START part:indef\n",
            "fs-SUE IX-3p:i MOVE WHERE++ MOVE\n",
            "#NO++ POSS-1p ROOMMATE NOT (1h)GRAB RECENT-PAST HAVE EAT+MORNING WITH IX-3p:i part:indef ROOMMATE MORNING WITH part:indef\n",
            "POSS-1p FRIEND PROCEED CROWD (5)CRASH (P)PARTY (25)WHY RECENT-PAST FINISH LAST fs-EXAM FRIEND PROCEED CROWD (5)CRASH (P)PARTY FINISH LAST\n",
            "IX-2p ARTICLE IX-2p WRITE FOR ns-BOSTON fs-GLOBE IX-1p READ WOW (1h)GOOD/THANK-YOU IX-3p:i ARTICLE WRITE READ\n",
            "NOW+AFTERNOON+ IX-1p FUTURE GO SELL+ NOW AFTERNOON+ GO SELL+\n",
            "SISTER IX-loc:i #IF++ IX-3p:i NEGLECT++ HOME+WORK REFUSE SUCCEED IN SCHOOL (1h)part:indef SISTER NEGLECT++ WORK SUCCEED IN SCHOOL\n",
            "#IF POSS-1p FAMILY IX-loc:i DECIDE NOT TAKE-UP fs-PUPPIES POSS-1p FRIEND IX-3p:j FUTURE IX-3p:j MAYBE FAMILY DECIDE TAKE-UP FRIEND BUOY MAYBE\n",
            "fs-JOHN IX-loc:i BREAK WINDOW+ BREAK WINDOW+\n",
            "IX-3p:i fs-MARY STOP ROWING wave no IX-3p:i NEVER ROWING UP-TO-NOW NOW STOP ROWING UP-TO-NOW NOW\n",
            "GO-OUT SNOW+ STOP SCHOOL FUTURE fs-RE+OPEN TOMORROW SNOW+ STOP SCHOOL OPEN\n",
            "FRIEND KISS-FIST GO-OUT FISHING (25)WHY IX-3p:i LOVE EAT (1h)FISH FRIEND FISHING LOVE\n",
            "FRIEND IX-loc:i (P)PARTY (1h)GOOD/THANK-YOU QMwg FRIEND (P)PARTY\n",
            "IDEA REALLY MORE TWO DIFFERENT SEPARATE ROAD SET-UP ON let's see FIRST-IN-LIST STORY SYSTEM HOW EXPRESS MORE DIFFERENT SEPARATE ROAD SET-UP ON let's see FIRST-IN-LIST STORY SYSTEM HOW EXPRESS\n",
            "ASK DIRECT/EXPLAIN part:indef WHO part:indef DIRECT/EXPLAIN part:indef\n",
            "(Y)YESTERDAY IX-1p PLAY GOLF NONE/NOTHING PLAY GOLF NONE/NOTHING\n",
            "#IF+ fs-JOHN SMILE MEAN GET WORK+ IX-3p:i SMILE MEAN GET WORK+\n",
            "#NO++ IX-3p:i NOT VEGETABLE IX-3p:i EAT MEAT YES MEAT\n",
            "WHO ARRIVE LATE+ part:indef WHO ARRIVE part:indef\n",
            "fs-BOB IX-loc:i READ (1h)DO-DO READ\n",
            "IX-1p LOVE ACTION MOVIE NOT BORE fs-DRAMA (1h)FORGET-IT LOVE ACTION MOVIE\n",
            "wave no IX-1p GO-OUT HANDSOME/ns-HAWAII_2+ FOR SPRING TAKE-BREAK SPRING TAKE-BREAK\n",
            "FRIEND PLAY FRISBEE WHERE IX-loc:i fs-PARK (1h)TEND PLAY FRISBEE FRIEND PLAY BUOY PLAY\n",
            "IX-1p #WHEN IX-1p INTRODUCE FRIEND FUTURE TEST IX-2p REMEMBER POSS-3p:i NAME LATER_2 INTRODUCE FRIEND TEST REMEMBER NAME\n",
            "wave no NOW THURSDAY+ MEAN TOMORROW FRIDAY+ NOW MEAN\n",
            "fs-BOB IX-loc:i (1h)VOMIT/HATE READ BOOK+ READ BOOK+\n",
            "BOX/ROOM SMALL NOT BOX/ROOM SMALL\n",
            "IX-1p WORK+\n",
            "#IF FRIEND IX-loc:i TAKE-UP PIZZA_4 EAT+NIGHT+ IX-1p BRING round flat (1h)BAKING-SPRINKLES FUTURE IX-1p FRIEND TAKE-UP NIGHT+ BRING round flat\n",
            "#NO IX-1p NOT LIKE PINEAPPLE fs-CREAM CHEESE IX-1p FAVORITE/PREFER+ fs-LOX CHEESE\n",
            "MOST FOCUS/NARROW ns-AMERICA CULTURE GIFT MEAN INTERPRET TO/UNTIL DIFFERENT-arc NOISE VOICE+ MOST FOCUS/NARROW ns-AMERICA CULTURE GIFT MEAN INTERPRET TO/UNTIL DIFFERENT-arc NOISE\n",
            "BELOW_2 ON IDEA HOW fs-HUMAN LANGUAGE EXPRESS BELOW_2 ON HOW LANGUAGE EXPRESS\n",
            "#IF fs-BOB IX-3p:i SEND RESUME GUARANTEE GET #JOB SEND RESUME GUARANTEE GET\n",
            "GO-OUT TIE_2+FISHING WHO TIE_2 FISHING\n",
            "IX-1p (1h)TEND COMMUTE BICYCLE GO-OUT WORK (25)WHY IX-1p CANNOT AFFORD fs-CAR IX-1p BICYCLE WORK CANNOT AFFORD\n",
            "IX-1p MOVE-AWAY #OUT ns-#SD (2h)#FUCK IX-1p NOT READY IX-1p STAY MOVE-AWAY (2h)#FUCK READY STAY\n",
            "HUSBAND WIFE DANCE POSS-3p:i LAST MUSIC EACH+ONE many people look at them QUIET HUSBAND WIFE DANCE LAST MUSIC EACH many people look at them QUIET\n",
            "FRIEND LOVE INTERNET SURF-INTERNET REALLY+WORK+ QMwg FRIEND LOVE INTERNET WORK+\n",
            "FRIEND GROUP/TOGETHER #FUCK NOT (5)CRASH (P)PARTY FRIEND GROUP/TOGETHER (5)CRASH (P)PARTY\n",
            "(2h)HORSE IX-loc:i TEND PLAY-continuative WHERE (2h)HORSE TEND PLAY-continuative\n",
            "(G/Q)POSS-1p FRIEND IX-LOC:i BRAVE/RECOVER PROCEED ASK DIRECT/EXPLAIN WHERE IX-1p FUTURE FINE DRIVE FRIEND BRAVE/RECOVER PROCEED DIRECT/EXPLAIN DRIVE\n",
            "BAD (5)WEATHER clouds rolling in ns-BOSTON WHEN (5)WEATHER clouds rolling in WHEN\n",
            "IX-1p MUST TAKE-UP TEST_2 AGAIN TAKE-UP TEST_2 AGAIN\n",
            "FIRST-IN-LIST THROUGH_2 (2h)TALKwg FIRST-IN-LIST THROUGH_2 SIGN+ ROAD THAT IDEA SET-UP:i SET-UP:j FIRST-IN-LIST THROUGH_2 (2h)TALKwg FIRST-IN-LIST THROUGH_2 SIGN+ ROAD SET-UP:i SET-UP:j\n",
            "IX-2p START TRIP #WHEN (1h)part:indef START\n",
            "BUT FOR THINK+MEAN THIS_2 FOCUS/NARROW ON TWO (nd-1)FIRST-AND-SECOND-IN-LIST BUT MEAN THIS_2 FOCUS/NARROW ON (nd-1)FIRST-AND-SECOND-IN-LIST\n",
            "CAT IX-3p:i POSS-1p (1h)NEXT-TO IX-3p:j FIND/FIND-OUT IX-3p:i (Y)WOW HUNGRY/WISH SMALL\n",
            "POSS-1p GIRL+CORRECT IX-3p:i FAVORITE/PREFER WATER+TUBING IX-loc:i THAN SKI (25)WHY (1h)part:indef TUBING EASY+(1h)MOST CORRECT TUBING THAN SKI TUBING EASY\n",
            "POSS-1p (2h)alt.LONG-AGO (2h)LONG-PAST FROM WHERE ns-nat-GERMANY (2h)alt.LONG-AGO (2h)LONG-PAST FROM\n",
            "TEACH+AGENT IX-3p:i REQUIRE IX-3p:j fs-JOHN MUST READ+ BOOK TEACH AGENT REQUIRE READ+ BOOK\n",
            "TEACH+AGENT REQUIRE fs-JOHN IX-3p:i FUTURE READ BOOK+ TEACH AGENT REQUIRE READ BOOK+\n",
            "#IF fs-BOB IX-3p:i PROCEED TAKE-UP WIDE DOG MUST ACCEPT (flat-O)PAY/SPEND fs-DOG EAT+ PROCEED TAKE-UP WIDE ACCEPT (flat-O)PAY/SPEND\n",
            "IX-1p HAVE APPOINTMENT (1h)NOW+AFTERNOON_2 WITH (crvd-5)POSS-1p TEACH+AGENT HAVE APPOINTMENT AFTERNOON_2 WITH TEACH AGENT\n",
            "IX-1p NOT THINK IX-3p:i PLAN GO part:indef IF+ SEE part:indef IX-1p FUTURE (1h)INFORM i:CALL-BY-PHONE:j IX-2p PLAN GO part:indef\n",
            "IX-2p WORK START #WHEN WORK START\n",
            "fs-JACK fs-SUE MEET FINISH MEET FINISH\n",
            "#IF REALLY+WORK IX-1p COMMUTE+ WORK BICYCLE IX-1p MUST GET-UP EMPTY/EARLY+(1h)MOST (nd-1)BEFORE WORK BICYCLE GET-UP EMPTY/EARLY (nd-1)BEFORE\n",
            "WHO MUST (P)PAY EVERY-MONTH/RENT+ (P)PAY EVERY-MONTH/RENT+\n",
            "FRIEND MUST DRIVE (25)WHY IX-1p TIRED IX-1p FRIEND DRIVE TIRED\n",
            "POSS-2p FRIEND GROUP/TOGETHER TRIP WHY++ (1h)part:indef FRIEND GROUP/TOGETHER\n",
            "#NO+ IX-1p RECENT-PAST #BACK_2 FROM DINNER IX-3p:i NONE/NOTHING ICE-CREAM IX-honorific:i FROM NONE/NOTHING\n",
            "MUST (1h)(flat-O)PAY/SPEND (1h)DO-DO IX-2p\n",
            "FRIEND DELIBERATE DECIDE NOT (5)CRASH (P)PARTY FRIEND DELIBERATE DECIDE (5)CRASH (P)PARTY\n",
            "MAN WHO throw out of plane AIRPLANE WHO IX-3p:i fs-ALEC-BALDWIN throw out of plane\n",
            "POSS-1p MOTHER IX-loc:i (1h)HAVE TIME+ FUTURE BRING COOKIE IX-3p:i TIME+ BRING COOKIE\n",
            "IX-1p ARRIVE SCHOOL+ fs-LATE (25)WHY IX-1p BICYCLE (5)ACCIDENT ARRIVE SCHOOL+ BICYCLE (5)ACCIDENT\n",
            "POSS-1p FATHER IX-loc:i PLAY VIDEO-GAME IX-1p (1h)TEND (1h)FORGET-IT IX-1p GO-OUT POSS-1p BOX/ROOM (25)WHY POSS-1p FATHER FEEL BORE KNOW+(1h)NEG HOW PLAY VIDEO-GAME KNOW+(1h)NEG IX-loc:i PLAY VIDEO-GAME BOX/ROOM HOW PLAY VIDEO-GAME\n",
            "FRIEND GROUP/TOGETHER PLAN SURPRISE fs-BOB WHY++ fs-BOB IX-loc:i AGE-TWENTY-ONE_2 IX-3p:i FRIEND GROUP/TOGETHER PLAN SURPRISE BUOY\n",
            "#IF IX-1p INVITE/HIRE IX-3p:i PEOPLE IX-3p-pl-arc POP-UP fs-LATE IX-3p-pl-arc SORRY FUTURE IX-3p:i PEOPLE POP-UP\n",
            "#IF POSS-1p BOSS IX-loc:i SUMMON IX-1p listen up GUARANTEE EACH+ONE-pl-arc ' KNOW-THAT IX-1p IN TROUBLE SUMMON GUARANTEE EACH ' IN TROUBLE\n",
            "fs-PHIL (1h)HAVE KID CHILDREN (1h)HOW-MANY/MANY CHILDREN\n",
            "WHEN FRIEND i:CALL-ON-RELAY/VRS-1p #VP LIGHT LIGHT-FLASH WHEN FRIEND i:CALL-ON-RELAY/VRS-1p LIGHT-FLASH\n",
            "INTERNET IX-2p LAPTOP TYPE WHAT IX-2p INTERNET LAPTOP TYPE\n",
            "IF+ (2h)IX-2p WANT+NEG PIZZA_4 CAN ORDER SPAGHETTI (2h)IX-2p WANT NEG CAN SPAGHETTI\n",
            "POSS-1p SISTER i:BLAME-1p IX-1p exasperation IX-1p INNOCENT exasperation SISTER i:BLAME-1p exasperation INNOCENT exasperation\n",
            "#NO+ IX-1p RECENT-PAST #BACK_2 FROM DINNER IX-3p:i NONE/NOTHING ICE-CREAM IX-honorific:i FROM NONE/NOTHING\n",
            "IX-3p:i DOG CHASE CAT THAT IX-3p:i #DOG IX-3p:i NOT POSS-1p+ IX-3p:i CHASE IX-3p:i\n",
            "SELF-3p:i+ MOVIE REALLY SCARE+ BUOY MOVIE SCARE+\n",
            "#IF IX-3p:i FRIEND IX-loc:i FINISH HOMEWORK+ EMPTY/EARLY GUARANTEE LAPTOP TYPE INTERNET ALL-NIGHT (1h)part:indef FRIEND FINISH HOMEWORK+ EMPTY/EARLY GUARANTEE LAPTOP TYPE INTERNET ALL-NIGHT\n",
            "WHY IX-2p WORK ALL-NIGHT WHY part:indef WORK ALL-NIGHT part:indef\n",
            "DIFFERENT EXPERIENCE BELONG WITH MEAN DIFFERENT BELONG WITH MEAN\n",
            "HUNGRY/WISH HAVE PINEAPPLE fs-CREAM CHEESE HAVE CHEESE\n",
            "BOY+ NEVER GO-OUT HOME (1h)part:indef\n",
            "fs-BILL PLAN (1h)MOVE ns-NEW-YORK QMwg PLAN ns-NEW-YORK\n",
            "FRIEND GO-OUT (P)PARTY FRIEND (P)PARTY\n",
            "IF IX-1p ARRIVE WORK LATE POSS-1p BOSS FUTURE FIRED IX-1p (1h)part:indef ARRIVE WORK FIRED\n",
            "WHO SICK WHO SICK\n",
            "PLEASE/(1h)ENJOY+ IF HURRICANE+ GAME+ DECIDE CANCEL/CRITICIZE HURRICANE+ GAME+ DECIDE CANCEL/CRITICIZE\n",
            "#IF+ IX-1p+ GO HEARING SCHOOL IX-1p (nd-1)LOOK-AROUND WHY NONE/NOTHING COMMUNICATE part:indef GO SCHOOL (nd-1)LOOK-AROUND NONE/NOTHING COMMUNICATE part:indef\n",
            "#IF FRIEND PLAY FRISBEE IX-1p FUTURE JOIN PLAY IX-1p FRIEND PLAY JOIN PLAY\n",
            "#IF IX-1p ENJOY CHAT:i WITH IX-3p-pl-2:i/j MEAN IX-1p MUST CHAT:k #ALL fs-BU ENJOY CHAT:i WITH MEAN CHAT:k\n",
            "FRIEND GO-OUT TRIP FRIEND\n",
            "FRIEND IX-3p-pl-arc (1h)TEND TYPE LAPTOP INTERNET FRIEND TYPE LAPTOP INTERNET\n",
            "FRIEND NOT-YET GROUP/TOGETHER group go together fs-BEACH NOT-YET+ FRIEND GROUP/TOGETHER group go together\n",
            "IX-2p (1)SEND LETTER/MAIL_2 WHO LETTER/MAIL_2\n",
            "THAT MAN fs-JIM PUNCH IX-loc:i THREAT AGAINST IX-3p:j IX-3p:i BUOY THREAT AGAINST\n",
            "#IF REALLY+WORK AUNT MAKE BLUE+fs-BERRY PIE FINISH ZOOM-OFF HOME GOBBLE-UP WORK MAKE PIE FINISH ZOOM-OFF GOBBLE-UP\n",
            "IX-2p WANT_2 #VP WHERE (1h)part:indef WANT_2\n",
            "IX-1p WARM wave no IX-1p COLD_2\n",
            "FUTURE GO-OUT #PO (1h)part:indef WHO (1h)part:indef\n",
            "AUNT IX-loc:i NOT EXPERT MAKE+ APPLE PIE MAKE+ PIE\n",
            "FRIEND IX-loc:i KISS-FIST LAPTOP TYPE INTERNET FRIEND LAPTOP TYPE INTERNET\n",
            "#WHEN TEACH+AGENT IX-3p:i FINISH NICE/CLEAN CLASS+BOX/ROOM (1h)TEND IX-3p:i LOCK (nd-1)GATE TEACH AGENT FINISH NICE/CLEAN CLASS BOX/ROOM LOCK (nd-1)GATE\n",
            "MUST #VP WHY++ (1h)part:indef CAN TEXTING part:indef CAN TEXTING part:indef\n",
            "IX-1p+ LOVE MOVIE_2++ POSS-1p FAVORITE/PREFER++ WHAT fs-COMEDY #OR MONSTER MOVIE_2+ LOVE MOVIE_2++ WHAT MONSTER MOVIE_2+\n",
            "IX-3p:i WANT+NEG NONE/NOTHING_2 (1h)part:indef WANT NEG NONE/NOTHING_2\n",
            "#IF+ IX-1p GO-OUT EAT WHO (P)PAY part:indef (P)PAY part:indef\n",
            "WHO ACCEPT IX-3p:i BIG fs-DOG IX-loc:i ACCEPT BIG\n",
            "HUSBAND WIFE DANCE POSS-3p WEDDING WHY HUSBAND WIFE DANCE WEDDING\n",
            "TEACH+AGENT IX-loc:i SICK-OF NICE/CLEAN+ CLASS+BOX/ROOM TEACH AGENT SICK-OF NICE/CLEAN+ CLASS BOX/ROOM\n",
            "FRIEND GROUP/TOGETHER GO-OUT (P)PARTY+ FRIEND GROUP/TOGETHER (P)PARTY+\n",
            "THAT STUDENT ON fs-QUIZ ACT IX-3p:i THAT IX-loc:i NOT WIN IX-3p:i (1h)part:indef STUDENT ON ACT WIN\n",
            "IX-1p NOTHING-AT-ALL CAR part:indef CAR part:indef\n",
            "IX-1p MUST DISCUSS HOW IX-1p CONFRONT TEACH+AGENT REGULAR part:indef DISCUSS HOW CONFRONT TEACH AGENT REGULAR part:indef\n",
            "wave no THAT NOT fs-SARAH-JESSICA-PARKER THAT fs-WAS fs-SARAH-PALIN DIFFERENT++\n",
            "IX-1p RECENT-PAST READ+ BOOK NOTICE ONE BOOK-PAGE+ missing page READ+ BOOK NOTICE BOOK-PAGE+ missing page\n",
            "FRIEND IX-loc:i ' GO-OUT LOOK (nd-1)MOVIE WHO JOIN FRIEND ' (nd-1)MOVIE JOIN\n",
            "#IF 1p-LOOK SEE THAT fs-BEACH IX-3p-pl-arc CROWDED PEOPLE IX-1p (1h)FORGET-IT IX-1p WANT+NEG GO-OUT CROWDED PEOPLE WANT NEG\n",
            "#NO++ IX-3p:i NOT VEGETABLE IX-3p:i EAT MEAT YES MEAT\n",
            "IX-1p WORK IX-1p WORK\n",
            "IX-3p:i WANT+NEG IX-1p DOUBT IX-1p THINK IX-3p:i WANT NEG WANT\n",
            "POSS-1p FRIEND IX-3p:i person passed out PAST+NIGHT PARTY-HARD WOW (25)WHY POSS-3p:i BIRTHDAY FRIEND person passed out NIGHT PARTY-HARD\n",
            "#WHEN IX-3p:i FRIEND CALL-BY-PHONE IX-1p IX-loc:i #VP (1h)TEND LIGHT-FLASH++ friend FRIEND LIGHT-FLASH++\n",
            "#NO++ BEAUTIFUL sky up there SUNSHINE WARM (2h)SHINE BEAUTIFUL part:indef (2h)SHINE (1h)part:indef part:indef\n",
            "IX-2p FINISH WORK WHEN IX-2p FINISH WORK WHEN\n",
            "#WHEN IX-3p:i fs-BOB (2h)alt.FIRE IX-1p FUTURE RAKE fs-LOGS FEED+ (2h)alt.FIRE++ (2h)alt.FIRE RAKE FEED+ (2h)alt.FIRE++\n",
            "THAT VIDEO-GAME IX-loc:i NOT LIKE (25)WHY (1h)part:indef VIDEO-GAME BUOY\n",
            "GO-OUT+ SNOW SCHOOL QMwg CLOSE-DOOR part:indef SNOW SCHOOL CLOSE-DOOR part:indef\n",
            "fs-JEN fs-JOE IX-3p-pl-2:i/j MARRY QMwg MARRY\n",
            "#NO++ IX-1p RECENT-PAST FINISH HOMEWORK IX-1p FINISH HOMEWORK\n",
            "IX-2p (1h)TEND CHAT WITH fs-JESSICA AND fs-DONNA (1h)DO-DO (25)WHY WITH\n",
            "fs-LIZ SISTER IX-3p:i FAMOUS WHO SISTER FAMOUS\n",
            "fs-NETFLIX RECENT-PAST SEND IX-1p recieve DVD fs-DVD DVD (1h)SCRAPE (1h)part:indef SEND recieve DVD DVD\n",
            "(5)POSS-1p FATHER IX-3p:i LAZY IX-3p:i REFUSE MOW+ REFUSE BUOY MOW+\n",
            "#IF IX-3p:i NOT BORE IX-1p FUTURE READ IX-1p part:indef READ part:indef\n",
            "person passed out (2h)DRUNK PAST_2+NIGHT (25)WHY (1h)part:indef person passed out (2h)DRUNK NIGHT\n",
            "NONE/NOTHING_2 CAR IX-1p part:indef NONE/NOTHING_2 CAR part:indef\n",
            "IX-1p WORK ALL-NIGHT (25)WHY IX-1p WANT_2 SHOULD+ fs-EXTRA MONEY+ WORK ALL-NIGHT WANT_2 MONEY+\n",
            "FRIEND group go together DIFFERENT MOVIE WHY IX-3p:i FAVORITE/PREFER ACTION MOVIE FRIEND group go together DIFFERENT MOVIE ACTION MOVIE\n",
            "#IF AUNT REALLY+WORK PROCEED MAKE+ BLUE BERRY PIE wave no IX-1p MUST GO eat with two forks (2h)alt.EAT WORK PROCEED MAKE+ BERRY PIE wave no GO eat with two forks (2h)alt.EAT\n",
            "wave no SERIOUS CAR BREAK-DOWN IX-1p (1h)KEY++ CORRECT part:indef CAR BREAK-DOWN CORRECT part:indef\n",
            "#NO++ CLASS NEXT-WEEK HAVE CLASS NEXT-WEEK HAVE\n",
            "FRIEND IX-3p:i GROUP/TOGETHER group go together fs-BEACH people tanning SUN TAN woah IX-1p MUST BRING squeeze lotion rub lotion applying lotion NONE/NOTHING (2h)#BURN FRIEND GROUP/TOGETHER group go together people tanning woah BRING squeeze lotion rub lotion applying lotion NONE/NOTHING (2h)#BURN\n",
            "wave no POSS-1p+ MOTHER+ VOMIT/HATE SURPRISE+ wave no VOMIT/HATE SURPRISE+ wave no\n",
            "FRIEND GROUP/TOGETHER group go together MOVIE_2 ACT+ WHO JOIN FRIEND GROUP/TOGETHER group go together MOVIE_2 ACT+ JOIN\n",
            "(crvd-L)POSS-1p FRIEND KISS-FIST LAPTOP TYPE INTERNET (25)WHY USE+ fs-GOOGLE fs-CHROME VERY-FAST FRIEND LAPTOP TYPE INTERNET USE+ VERY-FAST\n",
            "STUDENT IX-loc:i REFUSE HEAR/LISTEN TEACH+AGENT IX-3p:i STUDENT TEACH AGENT\n",
            "REALLY A-LOT INCLUDE/INVOLVE TO/UNTIL FULL IN THAT GROUP/TOGETHER MAJOR A-LOT INCLUDE/INVOLVE TO/UNTIL FULL IN GROUP/TOGETHER MAJOR\n",
            "#NO IX-1p NOT AFRAID fs-OF HIGH part:indef DO-DO MAKE IX-2p THINK THAT (1h)part:indef AFRAID part:indef DO-DO MAKE\n",
            "ASK FOR DIRECT part:indef WHO DIRECT part:indef IX-3p-honorific:i\n",
            "FRIEND IX-loc:i KISS-FIST GO (1h)FISHING++ (25)WHY LOVE NEW FISH FOR EAT+NIGHT+ FRIEND GO LOVE NEW FISH NIGHT+\n",
            "POSS-2p:i FAMILY VACATION EVERY-YEAR (1h)TEND WHERE FAMILY VACATION EVERY-YEAR\n",
            "IX-1p WARM LATER_2 HOT\n",
            "THAT (1h)EXPAND EXPERIENCE COOPERATE/UNITE (1h)FIRST-IN-LIST (1h)SECOND-IN-LIST COOPERATE/UNITE\n",
            "#IF (2h)HORSE PLAY-continuative FARM running NIGHT+ READY BED FUTURE PASS-OUT_3 (2h)HORSE PLAY-continuative running NIGHT+ READY\n",
            "WHO SICK\n",
            "#IF POSS-1p FRIEND IX-3p:i START VIDEO-GAME CONTINUE TO/UNTIL eyes falling out FOR REALLY FRIEND START VIDEO-GAME CONTINUE TO/UNTIL eyes falling out\n",
            "FRIEND WANT_2 BUY PLAID (2h)SHIRT FRIEND WANT_2 BUY (2h)SHIRT\n",
            "STUDENT IX-3p:i WIN TROPHY IX-loc:i GET ONE+HUNDRED DOLLAR_2 PAPER-CHECK/CARD STUDENT WIN TROPHY GET DOLLAR_2 PAPER-CHECK/CARD\n",
            "KNOW WHO KISS-FIST LOOK FIREWORKS QMwg FIREWORKS\n",
            "BRACELET POSS-1p BROTHER RECENT-PAST FIND/FIND-OUT THAT BRACELET REALLY+WORK GOLD/ns-CALIFORNIA circular bracelet wow BRACELET BROTHER BRACELET WORK circular bracelet\n",
            "IF+ RAIN TOMORROW IX-1p ARRIVE UNCLE HOUSE STAY IN+ RAIN ARRIVE HOUSE STAY IN+\n",
            "KNOW-THAT SOMETHING/ONE BUY CAR hey WHO++ BUY CAR\n",
            "VIDEO-GAME IX-loc:i EASY BEAT_2 VIDEO-GAME EASY BEAT_2\n",
            "POSS-1p FRIEND FISHING (1h)FISH IX-1p HURRY IX-1p bucket fill bucket move bucket FISH throw fish in bucket WHY++ FOR EAT+NIGHT FRIEND FISHING HURRY bucket fill bucket move bucket FISH throw fish in bucket NIGHT\n",
            "fs-JACK (1h)HAVE (1h)(flat-O)PAY/SPEND+ QMwg (1h)part:indef\n",
            "FRIEND TAKE-UP EAT+NIGHT+ round flat PIZZA_4 WHEN FRIEND TAKE-UP NIGHT+ round flat WHEN\n",
            "#WHEN REALLY+WORK MOVE-AWAY ns-#SD IX-1p MUST GET CAR LICENSE IX-1p WORK MOVE-AWAY GET CAR LICENSE\n",
            "WANT #VP WHERE WANT\n",
            "WHO GO-OUT #PO (1h)part:indef\n",
            "CAT IX-3p:i POSS-1p (1h)NEXT-TO IX-3p:j FIND/FIND-OUT IX-3p:i (Y)WOW HUNGRY/WISH SMALL\n",
            "WHO IX-3p-pl-arc FIND/FIND-OUT IX-1p KEY (1h)part:indef KEY\n",
            "#IF KID IX-loc:i PLAY-continuative fs-PARK IX-loc:i (1h)part:indef FUTURE TIRED LATER_2 AFTERNOON_3 PLAY-continuative TIRED AFTERNOON_3\n",
            "IX-1p MOVE-AWAY ns-#SD (25)WHY (1h)part:indef NEW WORK (2h)IX-honorific:i MOVE-AWAY NEW WORK (2h)IX-honorific:i\n",
            "IX-2p WANT #BBQ GROUP/TOGETHER WHAT IX-2p WANT GROUP/TOGETHER WHAT\n",
            "#IF IX-1p DECIDE FORGET-IT IX-1p WANT+NEG SWIM fs-BEACH IX-1p DO-DO WATER shoreline IX-1p FUTURE SCL:3person walking at waters edge DECIDE FORGET-IT WANT NEG SWIM DO-DO waves water's edge\n",
            "FRIEND GROUP/TOGETHER GO-OUT TRIP FRIEND GROUP/TOGETHER\n",
            "COAT IX-2p RECENT-PAST BUY FACE WARM (Y)WOW COAT BUY\n",
            "IX-1p LOVE GET-IN+ AIRPLANE (2h)alt.FLY-BY-PLANE DIFFERENT PLACE LOVE GET-IN+ (2h)alt.FLY-BY-PLANE DIFFERENT PLACE\n",
            "#NO++ (nd-1)MOVIE START TIME TEN++ (nd-1)MOVIE START TIME\n",
            "fs-BOB GIVE SWEETHEART WHAT SWEETHEART WHAT\n",
            "POSS-1p FRIEND (1h)WOW/AWFUL PLAY VIDEO-GAME ALL-DAY (25)WHY IX-loc:i DO-DO NOTHING FRIEND PLAY VIDEO-GAME ALL-DAY DO-DO NOTHING\n",
            "#IF fs-OJ IX-loc:i INNOCENT part:indef POSS-1p GRANDMOTHER CAN BICYCLE INNOCENT part:indef CAN BICYCLE\n",
            "(1h)GOOD/THANK-YOU WEATHER IX-loc:i ARRIVE ns-BOSTON (2h)NOT-YET HURRY part:indef WEATHER ARRIVE (2h)NOT-YET HURRY part:indef\n",
            "fs-MARY GO COLLEGE WHICH+ GO COLLEGE WHICH+\n",
            "COOK/KITCHEN EAT+NIGHT+ WHO COOK/KITCHEN NIGHT+\n",
            "PEOPLE DIFFERENT-arc CULTURE NOT ONLY (2h)TALKwg DIFFERENT LANGUAGE PEOPLE DIFFERENT-arc CULTURE (2h)TALKwg DIFFERENT LANGUAGE\n",
            "wave no fs-MITT-ROMNEY IX-3p:i SELF-3p+:i MORMON fs-RICK-PERRY IX-3p:j NOT IX-3p:j BUOY\n",
            "FRIEND GROUP/TOGETHER group go together fs-BEACH FOR-FOR+ part:indef FRIEND GROUP/TOGETHER group go together (1h)part:indef part:indef\n",
            "WHEN FRIEND IX-loc:i OVER-IT IX-1p switch seats IX-1p DRIVE IX-1p WHEN FRIEND OVER-IT switch seats DRIVE\n",
            "FRIEND LOOK FORGET-IT GO-OUT BUT (nd-1)MOVIE (25)WHY IX-3p:i FAVORITE/PREFER ACTION fs-ACTION AND MONSTER fs-HORROR FRIEND GO-OUT BUT (nd-1)MOVIE ACTION MONSTER\n",
            "FRIEND FINISH CAR QMwg FRIEND FINISH CAR\n",
            "DRESS/CLOTHES ON #SALE WHERE DRESS/CLOTHES ON\n",
            "VIDEO-GAME IX-loc:i EASY BEAT_2 QMwg VIDEO-GAME EASY BEAT_2\n",
            "wave no IX-1p USE CORRECT (1h)KEY++ IX-loc:i CAR BREAK-DOWN USE CORRECT CAR BREAK-DOWN\n",
            "wave no REFUSE RAIN you see #IF+ RAIN you know GAME+ FOR REALLY CANCEL/CRITICIZE RAIN you see RAIN you know GAME+ CANCEL/CRITICIZE\n",
            "ARRIVE #LATE WHO ARRIVE\n",
            "SOMETHING/ONE BUY CAR WHO part:indef BUY CAR part:indef\n",
            "wave no NOT EAT COOKIE wave no IX-loc:i WITH BUTTER+ wave no ok  hey IX-1p LIKE BUT #IF IX-3p:i BUTTER+ IX-1p NOT-CARE (1h)part:indef wave no COOKIE wave no WITH BUTTER+ wave no ok  hey BUT BUTTER+\n",
            "IX-2p WORK WHERE WORK\n",
            "ns-#AA IX-loc:i well NOT EXPENSIVE part:indef #IF REALLY+WORK EXPENSIVE part:indef IX-1p STUCK WHY flying back and forth ns-BOSTON ns-#FLA ALONE ns-#AA (1h)part:indef well EXPENSIVE part:indef WORK EXPENSIVE part:indef BUOY\n",
            "COAT IX-2p RECENT-PAST BUY FACE WARM (Y)WOW COAT BUY\n",
            "#VP CLEAR\n",
            "IX-1p WANT+NEG BUY SHORTS IX-1p WANT NEG BUY SHORTS\n",
            "#IF DRESS/CLOTHES ON #SALE GUARANTEE FRIEND IX-1p-pl-arc ' GO-OUT fs-MALL DRESS/CLOTHES ON GUARANTEE FRIEND '\n",
            "IX-1p NOT LIKE TALKwg ASK FOR DIRECT IX-3p:i I don't know IX-1p NOT LIKE IX-1p DIRECT I don't know\n",
            "FRIEND PLAY FRISBEE (2h)NOT-YET FRIEND PLAY (2h)NOT-YET\n",
            "(1h)HAPPY+ NOT (1h)HAPPY+ #NO+\n",
            "HOW-MANY CHILDREN fs-PHIL HAVE (1h)part:indef HOW-MANY CHILDREN HAVE\n",
            "IX-1p LOOK MOVIE PAST+NIGHT IX-1p AFRAID (1h)WOW/AWFUL MOVIE NIGHT AFRAID\n",
            "BUT MAYBE MORE IMPORTANT emphasis LIVE IN DIFFERENT fs-SENSORY WORLD BUT MAYBE MORE IMPORTANT emphasis LIVE IN DIFFERENT WORLD\n",
            "ARRIVE fs-LATE FINE IX-1p MUST CALL-BY-PHONE IX-3p:i RESTAURANT POSTPONE APPOINTMENT ARRIVE POSTPONE APPOINTMENT\n",
            "PAST MONDAY IX-1p you know KNOW-THAT FUTURE RAIN NEXT fs-DAY RAIN NEXT\n",
            "IX-1p NOT\n",
            "NOW+ ECONOMIC CRISIS NOW+ ECONOMIC CRISIS NOW+\n",
            "FRIEND SCL:crvd-5group go together GO-OUT (nd-1)MOVIE ACT IX-loc:i (2h)NOT-YET (25)WHY TRAFFIC_2 FRIEND SCL:crvd-5group go together (nd-1)MOVIE ACT (2h)NOT-YET TRAFFIC_2\n",
            "fs-SUE IX-3p:i MOVE WHERE++ MOVE\n",
            "IN NINETEEN EIGHTY-TWO IX-3p:i WRITE QUOTE/TOPIC IN WRITE QUOTE/TOPIC\n",
            "POSS-1p FRIEND FAVORITE/PREFER #VP TEXTING_3 (1h)FORGET-IT (25)WHY CAN USE-SIGN-LANGUAGE #ASL FRIEND TEXTING_3 CAN USE-SIGN-LANGUAGE\n",
            "IX-3p:i fs-MARY IX-loc:i NOT (1h)HAPPY IX-3p:i (1h)part:indef IX-3p-pl-arc NONE/NOTHING_2+ONE (1h)HAPPY part:indef NONE/NOTHING_2 part:indef\n",
            "IX-1p FINISH KNOW+ HAVE PINEAPPLE fs-CREAM CHEESE+ FINISH HAVE CHEESE+\n",
            "#WHEN IX-1p-pl-arc ARRIVE ns-INDIA IX-loc:i MUST 1p-SEND/MAIL:j FAMILY PAPER-CHECK/CARD THANK-YOU+ FOR SUPPORT+ ARRIVE FAMILY PAPER-CHECK/CARD THANK-YOU+ SUPPORT+\n",
            "fs-JOHN IX-loc:i NOT SEE IX-1p NONE/NOTHING\n",
            "(25)WHY IX-1p WORK ALL-NIGHT (25)WHY (1h)part:indef WORK ALL-NIGHT\n",
            "IX-2p (1h)VOMIT/HATE VIDEO-GAME IX-loc:i (25)WHY IX-loc:i VIDEO-GAME\n",
            "WHO (1h)ACCEPT IX-3p:i BIG #DOG BUOY BIG\n",
            "IX-1p THINK (Y)WOW BORE IX-1p\n",
            "#IF+ IX-2p FIND/FIND-OUT (G/Q)POSS-1p KEY around here NOT-MIND+ 2p-GIVE-1p KEY\n",
            "POSS-1p SISTER HATE WATER SKI (25)WHY HARD skiing back and forth BALANCE HARD SISTER HATE SKI HARD skiing back and forth BALANCE HARD\n",
            "#IF FATHERwg IX-loc:i ARRIVE HOME fs-LATE IX-3p:j REFUSE REASON IX-3p:j NOT fs-AT HOME ARRIVE\n",
            "MUST (P)PAY EVERY-MONTH/RENT WHO (P)PAY EVERY-MONTH/RENT\n",
            "IX-2p GRADUATE #HS WHEN GRADUATE WHEN\n",
            "#IF++ RAIN TOMORROW WHEN ARRIVE UNCLE HOUSE STAY IN++ RAIN WHEN ARRIVE HOUSE STAY IN++\n",
            "GO-OUT+ SNOW+ SCHOOL FUTURE CANCEL/CRITICIZE QMwg SNOW+ SCHOOL CANCEL/CRITICIZE\n",
            "WHO FUTURE GO #PO GO\n",
            "FRIEND NOW SURF-INTERNET INTERNET FRIEND NOW INTERNET\n",
            "wave no PINEAPPLE fs-CREAM CHEESE wave no BETTER fs-LOX IX-1p hands off wave no CHEESE wave no hands off\n",
            "IX-1p (1h)TEND WORK-OUT+ OVER/AFTER CLASS WORK-OUT+ OVER/AFTER CLASS\n",
            "IX-2p MUST MOVE-AWAY ns-#SD (25)WHY (1h)part:indef MOVE-AWAY\n",
            "wave no fs-MITT-ROMNEY IX-3p:i SELF-3p+:i MORMON fs-RICK-PERRY IX-3p:j NOT IX-3p:j BUOY\n",
            "YESTERDAY ALL-DAY IX-1p WORK++ ALL-DAY WORK++\n",
            "fs-JOHN IX-loc:i NOT BUY TURKEY #NO+ IX-3p:j fs-JAMES BUY TURKEY BUY\n",
            "#IF fs-BOB IX-loc:i MAKE-IT SURPRISE POSS-2p SURPRISE (P)PARTY WOW+ IX-1p APPLAUSE POSS-1p FRIEND IX-loc:j (25)WHY IX-3p:i fs-BOB IX-loc:i HARD SURPRISE HARD MAKE-IT SURPRISE (P)PARTY APPLAUSE FRIEND HARD SURPRISE HARD\n",
            "MOTHER #OK-1p IX-1p GO-OUT GUITAR IX-1p THRILL/WHAT'S-UP GUITAR THRILL/WHAT'S-UP\n",
            "REALLY SELF-3p:i+ OLD NOT IMPORTANT (1h)part:indef BUOY IMPORTANT\n",
            "TEACH+AGENT NOT REQUIRE BOOK READ DROP IX-3p:i fs-JOHN FUTURE READ BOOK I don't know TEACH AGENT REQUIRE BOOK READ DROP READ BOOK I don't know\n",
            "wave no IX-1p NEVER RUN fs-MARATHON PAST wave no IX-1p NOT PLAN START NOW whoa RUN PLAN START NOW whoa\n",
            "IX-1p 1p-ASK:i POSS-1p TEACH+AGENT FOR SOME ADVISE/INFLUENCE IX-1p DISCUSS++ part:indef TEACH AGENT SOME ADVISE/INFLUENCE DISCUSS++ part:indef\n",
            "FINE wave no ns-MCDONALD IX-loc:i VERY-FAST EAT RESTAURANT IX-3p:i (2h)GIVE-distributive HAMBURGER part:indef ns-MCDONALD VERY-FAST (2h)GIVE-distributive HAMBURGER part:indef\n",
            "GO-OUT+ RAIN wave no (1)TEMPERATURE-DROP SNOW RAIN wave no (1)TEMPERATURE-DROP SNOW\n",
            "STUDENT IX-loc:i REFUSE HEAR/LISTEN TO/UNTIL TEACH+AGENT (1h)part:indef STUDENT BUOY TO/UNTIL TEACH AGENT\n",
            "WHO (1h)(flat-O)PAY/SPEND fs-RENT WHO\n",
            "wave no IX-1p GO-OUT HANDSOME/ns-HAWAII_2+ FOR SPRING TAKE-BREAK SPRING TAKE-BREAK\n",
            "FINISH BUY CAR+ WHO FINISH BUY CAR+\n",
            "FRIEND group go together WATCH-TV BUT (nd-1)MOVIE (25)WHY IX-3p:i FAVORITE/PREFER SOMETHING/ONE DIFFERENT (1h)part:indef FRIEND group go together BUT (nd-1)MOVIE DIFFERENT\n",
            "(alt-G/bent-L)POSS-1p SISTER LIKE ns-BOSTON (2h)KNOW+NEG SISTER (2h)KNOW NEG\n",
            "fs-BOB IX-loc:i NOT-YET GO #PO IX-3p:i GO\n",
            "IX-2p NOT LIE-DOWN DRUNK IX-2p LIE-DOWN\n",
            "IX-3p:i PARK RED STOPLIGHT CAR (3)ACCIDENT IX-3p:i+ USE PHONE (1h)part:indef PARK CAR (3)ACCIDENT USE\n",
            "IF+ SON BORN TOMORROW BORN YEAR TWO_2+ZERO+THIRTEEN (1h)part:indef SON BORN YEAR\n",
            "BUY CAR WHO part:indef BUY CAR part:indef\n",
            "IX-1p+ NOT EXPERT REMEMBER+ NEW PEOPLE NAME part:indef REMEMBER+ NEW PEOPLE NAME part:indef\n",
            "BOY+ ARRIVE HOME ARRIVE\n",
            "IX-3p:i BUY CAR WHAT KIND BUY CAR WHAT KIND\n",
            "(G/Q)POSS-1p OFFICE POSS-1p BOSS WORK ABOVE IX-loc:i+ OFFICE WORK ABOVE\n",
            "NOTICE OH-I-SEE IX-3p:i BABY (1h)VOMIT/HATE FIREWORKS CRY++ NOTICE BABY FIREWORKS CRY++\n",
            "UNDERSTAND+ IX-3p:i (2h)TALKwg MINOR (1h)HAVE ADD-TO USE GESTURE SAME ALSO SIGN+ MAJOR (1h)HAVE ADD-TO USE TWO VOICE+ (1h)CURRENT-TOPIC (2h)TALKwg MINOR ADD-TO USE GESTURE ALSO SIGN+ MAJOR (1h)HAVE ADD-TO USE IX-3p:j IX-honorific:j\n",
            "FRIEND SCL:crvd-5group go together fs-BEACH FOR-FOR+ (1h)part:indef FRIEND SCL:crvd-5group go together\n",
            "IF+ fs-JACK HAVE WIFE IX-3p:i LOVE IX-3p:j HAVE WIFE LOVE\n",
            "MOTHER+FATHER GUARANTEE FUTURE MAD NOT (1h)HAPPY #IF CHILDREN REALLY+WORK DYE HAIR COLOR ORANGE GUARANTEE CHILDREN WORK DYE\n",
            "PAST+NIGHT IX-1p PLAY+ (crvd-5)BASKETBALL SCRIMMAGE WITH FRIEND (Y)WOW+ (baby-O)BY-A-HAIR (1h)BEAT THIRTY+ TWENTY-EIGHT NIGHT PLAY+ (crvd-5)BASKETBALL SCRIMMAGE WITH FRIEND\n",
            "IX-2p GO WHERE (1h)part:indef GO\n",
            "IX-1p #FUCK not a big deal IX-1p NOT MOVE-AWAY ns-#SD (25)WHY IX-1p NOT READY part:indef MOVE-AWAY READY part:indef\n",
            "IX-1p SHOULD BUY SHORTS (25)WHY IX-loc:i WOW OUT+ HOT BUY SHORTS\n",
            "fs-BOB IX-loc:i GIVE:j GIRL+FRIEND IX-loc:j (1h)DO-DO (1h)part:indef BUOY FRIEND BUOY\n",
            "(5)POSS-1p FRIEND IX-loc:i do nothing NONE/NOTHING FUTURE PROCEED VIDEO-GAME ALL-DAY FRIEND do nothing NONE/NOTHING PROCEED VIDEO-GAME ALL-DAY\n",
            "#IF+ FRIEND GROUP/TOGETHER DEPART FISHING+ IX-1p CHECK (5)WEATHER MAKE REALLY fs-OK FRIEND GROUP/TOGETHER FISHING+ CHECK (5)WEATHER MAKE\n",
            "TIME+ FRIEND (5)CRASH (P)PARTY part:indef TIME (1h)part:indef TIME+ FRIEND (5)CRASH (P)PARTY part:indef TIME\n",
            "SOMETHING/ONE IX-3p-pl-arc FIND/FIND-OUT POSS-1p KEY WHICH WHO IX-3p-pl-arc KEY WHICH\n",
            "PAST+NIGHT (5)ACCIDENT long line of cars (1h)WOW/AWFUL NIGHT (5)ACCIDENT long line of cars\n",
            "CAR IX-3p:i (1h)(flat-O)PAY/SPEND YESTERDAY DO-DO+ KIND part:indef CAR DO-DO+ KIND part:indef\n",
            "FINEwg #IF IX-1p MOW MOTHER FUTURE GIVE-1p TWENTY DOLLAR MOW DOLLAR\n",
            "#WHEN IX-1p ARRIVE SCHOOL+ IX-1p MUST TEXTING_3 1p-INFORM:j MOTHER+ IX-1p FINISH ARRIVE SAFE ARRIVE SCHOOL+ TEXTING_3 1p-INFORM:j FINISH ARRIVE SAFE\n",
            "#NO+ IX-3p:i (L)LIVE (L-X)SMALL #APT IN CITY/COMMUNITY fs-CITY IX-3p:i (L)LIVE (L-X)SMALL IN CITY/COMMUNITY\n",
            "IX-1p RECENT-PAST DRINK TASTE FINE++ (1h)part:indef\n",
            "IX-2p WRONG IX-3p:i NOT PINEAPPLE fs-CREAM CHEESE IX-1p FAVORITE/PREFER fs-LOX CHEESE\n",
            "#NO+ IX-1p NOT GO-OUT:i\n",
            "SICK WHO SICK\n",
            "tube skipping on water (1h)part:indef TIME++ (1h)part:indef tube skipping on water TIME++\n",
            "IX-2p PLAN TRIP WHERE (1h)part:indef PLAN\n",
            "HUSBAND WIFE IX-3p:i NOT DANCE+ HUSBAND WIFE DANCE+\n",
            "IX-3p:i PARK RED STOPLIGHT CAR (3)ACCIDENT IX-3p:i+ USE PHONE (1h)part:indef PARK CAR (3)ACCIDENT USE\n",
            "wave no REFUSE RAIN you see #IF+ RAIN you know GAME+ FOR REALLY CANCEL/CRITICIZE RAIN you see RAIN you know GAME+ CANCEL/CRITICIZE\n",
            "REALLY POSS-1p+ OPPOSITE FRIEND DO-DO+ ALARM+ OPPOSITE FRIEND DO-DO+ ALARM+\n",
            "#NO++ IX-1p RECENT-PAST #BACK_2 FROM DINNER IX-3p:i HAVE ICE-CREAM IX-3p:i (1h)part:indef FROM\n",
            "GO-OUT NONE/NOTHING_2 RAIN (1h)WAIT WAIT-A-MINUTE NONE/NOTHING_2 RAIN\n",
            "CANNOT DISTRIBUTE NUT+BUTTER IX-3p:i fs-BETH IX-loc:i wow ALLERGY NUT+ IX-3p:i CANNOT DISTRIBUTE BUTTER ALLERGY\n",
            "FINISH GRADUATE #HS IX-2p FINISH GRADUATE\n",
            "FRIEND IX-3p-pl-arc (P)PARTY+ (1h)GOOD/THANK-YOU FRIEND (P)PARTY+\n",
            "IX-2p LIE-DOWN PAST+NIGHT WHY (1h)part:indef LIE-DOWN NIGHT\n",
            "fs-PETE IX-3p:i LOVE TAPE-RECORDING IX-3p:i (1h)HAVE THREE three computers next to each other POSS-3p:i HOME WOW LOVE TAPE-RECORDING three computers next to each other\n",
            "PLEASE/(1h)ENJOY+ IF HURRICANE+ GAME+ DECIDE CANCEL/CRITICIZE HURRICANE+ GAME+ DECIDE CANCEL/CRITICIZE\n",
            "(1h)part:indef IX-1p LIKE IX-3p:i #IF IX-3p:i (1h)HAVE BUTTER IN+ oh well FINE IX-1p part:indef BUTTER IN+ oh well part:indef\n",
            "#IF MOTHERwg GO-OUT SELL IX-3p:i FUTURE BUY MILK SELL BUY\n",
            "EAT SELL+ WHERE++ SELL+\n",
            "WHO (1h)TEND COMMUTE WORK BICYCLE part:indef WORK BICYCLE part:indef\n",
            "IX-2p FACE NOT FEEL (1h)GOOD/THANK-YOU IX-3p:j #OK IX-2p WRONG+ (1h)part:indef\n",
            "fs-BILL IX-loc:i MOVE ns-NEW-YORK FUTURE MOVE ns-NEW-YORK\n",
            "HEAR/LISTEN TEACH+AGENT WHO TEACH AGENT\n",
            "IX-1p 1p-MEET-3p-pl-arc NEW PEOPLE IX-1p LOUSY MEMORIZE POSS-3p-pl-arc NAME IX-1p 1p-MEET-3p-pl-arc NEW PEOPLE NAME\n",
            "BIG #DOG IX-loc:i (1h)ACCEPT WHO BIG BUOY\n",
            "IX-1p VERY NOT (1h)HAPPY+ VERY\n",
            "FINE wave no ns-MCDONALD IX-loc:i VERY-FAST EAT RESTAURANT IX-3p:i (2h)GIVE-distributive HAMBURGER part:indef ns-MCDONALD VERY-FAST (2h)GIVE-distributive HAMBURGER part:indef\n",
            "fs-JOHN IX-3p:i NOT BUY TURKEY (1h)part:indef BUY\n",
            "IX-1p REALLY HAVE PINEAPPLE fs-CREAM CHEESE HAVE CHEESE\n",
            "fs-MARY STOP ROWING+ out of my control NOT CONTINUE ROWING no more STOP ROWING+ out of my control CONTINUE ROWING no more\n",
            "GO-OUT HOME\n",
            "HONEST IX-1p VOMIT/HATE GO-OUT WORK COMMUTE BICYCLE IX-1p (1h)VOMIT/HATE IX-1p HONEST VOMIT/HATE WORK BICYCLE\n",
            "fs-BOB IX-loc:i NOT-YET (2h)GIVE (R)FLOWER POSS-3p:i SWEETHEART (2h)GIVE SWEETHEART\n",
            "wave no IX-1p NONE/NOTHING_2 CAR wave no NONE/NOTHING_2 CAR\n",
            "FINISH GRADUATE #HS FINISH GRADUATE\n",
            "FRIEND IX-3p:i DRIVE FRIEND DRIVE\n",
            "TEACH+AGENT DISTRIBUTE ANSWER TO/UNTIL TEST TEACH AGENT DISTRIBUTE ANSWER TO/UNTIL TEST\n",
            "#IF POSS-1p FRIEND GO-OUT CAMP+ IX-1p FUTURE GO-OUT WITH IX-pl-arc FRIEND CAMP+ WITH\n",
            "#VP CLEAR QMwg CLEAR\n",
            "#NO++ BEAUTIFUL sky up there SUNSHINE WARM (2h)SHINE BEAUTIFUL part:indef (2h)SHINE (1h)part:indef part:indef\n",
            "IX-2p PUT TREE WHERE PUT TREE\n",
            "GAME FINISH BEFORE SIX QMwg (1h)part:indef GAME FINISH BEFORE\n",
            "fs-BRIDE AND fs-GROOM IX-3p-pl-2:i/j IX-loc:i DANCE LAST WEDDING NOT (1h)part:indef BUOY-2 DANCE LAST WEDDING\n",
            "#IF fs-BOB REALLY+WORK STUDY fs-LIT TEST FUTURE PASS WORK STUDY TEST PASS\n",
            "IX-1p KISS-FIST IX-2p WHY+ IX-2p EXPERT MAKE PEOPLE LAUGH-HARD IX-2p EASY+ (1h)part:indef MAKE PEOPLE LAUGH-HARD EASY+\n",
            "IX-1p (2h)NOT-YET (P)PAY fs-RENT (2h)NOT-YET (P)PAY\n",
            "fs-BOB IX-loc:i READ WHAT READ WHAT\n",
            "FRIEND IX-loc:i WANT+NEG BUY PLAID (2h)SHIRT WANT+NEG FRIEND WANT NEG BUY (2h)SHIRT WANT NEG\n",
            "IX-1p SAY fs-JOHN wave no IX-1p CREATE/PRETEND fs-JAMES\n",
            "WHO ASK FOR DIRECT/EXPLAIN part:indef DIRECT/EXPLAIN part:indef\n",
            "FRIEND GROUP/TOGETHER DEPART FISHING #WHEN FRIEND GROUP/TOGETHER FISHING\n",
            "PERSON IX-loc:i (1h)part:indef WHO IX-3p:i (1h)part:indef PERSON BUOY\n",
            "WHO HEAR/LISTEN IX-3p:i (1h)TEACH+(1h)AGENT (1h)part:indef\n",
            "WHEN IX-1p ARRIVE SCHOOL IX-1p 1p-INFORM:i MOTHER IX-1p FINISH ARRIVE SAFE WHEN ARRIVE SCHOOL 1p-INFORM:i FINISH ARRIVE SAFE\n",
            "FRIEND GROUP/TOGETHER WANT+NEG PIZZA_4 EAT+NIGHT (25)WHY SAME-OLD+ FRIEND GROUP/TOGETHER WANT NEG NIGHT SAME-OLD+\n",
            "FRIEND NOT-YET PROCEED START FRISBEE NOT-YET+ FRIEND PROCEED START\n",
            "NOW+ ECONOMIC CRISIS NOW+ ECONOMIC CRISIS NOW+\n",
            "IX-1p WANT+NEG SOMETHING/ONE IX-1p wave no WANT NEG\n",
            "IX-loc:i RAIN HAPPEN WHO GO-OUT part:indef RAIN HAPPEN (1h)part:indef part:indef\n",
            "POSS-1p FRIEND KISS-FIST SURF-INTERNET INTERNET (25)WHY CLICK FINEwg FLOW DIFFERENT+ fs-SITES FLOW++ FRIEND INTERNET FLOW DIFFERENT+ FLOW++\n",
            "IX-1p REALLY+WORK PROCEED COMMUTE WORK BICYCLE IX-1p MEAN MUST GET-UP EMPTY/EARLY+(1h)MOST WORK PROCEED WORK BICYCLE MEAN GET-UP EMPTY/EARLY\n",
            "POSS-2p FRIEND LOVE TRIP pay attention (25)WHY (1h)part:indef FRIEND LOVE\n",
            "fs-BOB IX-loc:i HAVE BIG #DOG #NO IX-3p:i (1h)HAVE SMALL HAVE BIG SMALL\n",
            "#NO IX-1p NOT HAVE CAR HAVE CAR\n",
            "BOX/ROOM SMALL small box BOX/ROOM SMALL small box\n",
            "RECENT-PAST RAIN NONE/NOTHING_2+ RAIN NONE/NOTHING_2+\n",
            "TEACH+AGENT IX-loc:i START NICE/CLEAN TIME+ TEACH AGENT START NICE/CLEAN TIME+\n",
            "POSS-1p SISTER ACTION STRANGE IX-1p 1p-LOOK:i SISTER ACTION\n",
            "BAD WEATHER START IN ns-BOSTON #WHEN WEATHER START IN\n",
            "IX-1p D CLASS IX-1p ACCEPT D CLASS ACCEPT\n",
            "POSS-1p FRIEND PAST+NIGHT WOW (2h)DRUNK (2h)PASS-OUT_2 (25)WHY (2h)(Y)DRINK A-LOT IX-3p:i FRIEND NIGHT (2h)DRUNK (2h)PASS-OUT_2 (2h)(Y)DRINK A-LOT\n",
            "fs-BOB one person approaching another GIVE:i (R)FLOWER GIRL+FRIEND (2h)NOT-YET part:indef one person approaching another girlfriend FRIEND (2h)NOT-YET part:indef\n",
            "ANYWAY/NOT-MATTER++ RAIN NOT part:indef STILL PROCEED SWIM+ ANYWAY/NOT-MATTER++ RAIN part:indef STILL PROCEED SWIM+\n",
            "(L-X)POSS-1p FRIEND IX-loc:i TRIP KISS-FIST IX-loc:i FAVORITE/PREFER++ WHERE fs-ASIA (25)WHY POSS-3p:j EAT+ DELICIOUS FRIEND\n",
            "IX-2p ARTICLE IX-2p WRITE FOR ns-BOSTON fs-GLOBE IX-1p READ WOW (1h)GOOD/THANK-YOU IX-3p:i ARTICLE WRITE READ\n",
            "IX-2p MUST WORK ALL-NIGHT IX-2p WORK ALL-NIGHT\n",
            "#IF SCHOOL+ NOT CANCEL/CRITICIZE IX-3p:i FUTURE GO SCHOOL IX-3p:i SCHOOL+ CANCEL/CRITICIZE GO SCHOOL\n",
            "IX-1p ENJOY CHAT WITH FIRST-IN-LIST fs-JESSICA AND SECOND-IN-LIST fs-DONNA IX-3p-pl-2:i/j ENJOY (25)WHY IX-1p ENJOY CHAT fs-ASL ENJOY CHAT WITH FIRST-IN-LIST SECOND-IN-LIST ENJOY CHAT\n",
            "(alt-G/bent-L)POSS-1p SISTER LIKE ns-BOSTON (2h)KNOW+NEG SISTER (2h)KNOW NEG\n",
            "FRIEND TAKE-UP DINNER PIZZA_4 (P)PARTY (1h)part:indef #WHEN (1h)part:indef FRIEND TAKE-UP (P)PARTY\n",
            "PAST+ TAKE-BREAK IX-1p READY #DO HOMEWORK FROM-NOW-ON EMPTY-FROM-NOW-ON READY TAKE-BREAK READY HOMEWORK FROM-NOW-ON EMPTY-FROM-NOW-ON READY\n",
            "IX-1p ALMOST FINISH HOMEWORK ALMOST FINISH HOMEWORK\n",
            "BOX/ROOM BIG_5 BOX/ROOM BIG_5\n",
            "wave no IX-1p NEVER RUN fs-MARATHON PAST wave no IX-1p NOT PLAN START NOW whoa RUN PLAN START NOW whoa\n",
            "#IF REALLY+WORK IX-1p MUST (P)PAY fs-RENT NOW FINE CANCEL/CRITICIZE POSS-1p VACATION (1h)PROCEED+ WORK (P)PAY NOW CANCEL/CRITICIZE VACATION\n",
            "DURING/WHILE LONG-AGO+ IX-1p #HS MOTHER ALWAYS REMIND-1p+ IX-1p EVERY-MORNING (25)WHY+ IX-1p sound asleep NOT FEEL ALARM+++ DURING/WHILE EVERY-MORNING sound asleep ALARM+++\n",
            "#IF fs-BOB IX-loc:i TAKE-UP BIG #DOG MUST ACCEPT FUTURE (flat-O)PAY/SPEND WOW+ BUOY TAKE-UP BIG ACCEPT (flat-O)PAY/SPEND\n",
            "#WHEN POSS-1p FRIEND FINISH TIRED DRIVE FUTURE SWITCH FRIEND FINISH TIRED DRIVE\n",
            "#IF POSS-2p FRIEND (2h)PASS-OUT_2 (2h)DRUNK IX-1p REFUSE CARE REFUSE IX-1p FRIEND (2h)PASS-OUT_2 (2h)DRUNK CARE\n",
            "fs-SUE MOVE WHERE MOVE\n",
            "fs-JACK DISGUST WHY (1h)part:indef\n",
            "WIDE fs-DOG IX-loc:i ACCEPT WHO WIDE ACCEPT IX-3p:i\n",
            "IX-1p REALLY+WORK PROCEED BUY SHORTS MEAN IX-1p MUST SHOE+ SEND/MAIL WORK PROCEED BUY SHORTS MEAN SHOE+\n",
            "IX-1p (1h)HAPPY+ NONE/NOTHING_2 #NO+ IX-1p SAD ok (giving in) NONE/NOTHING_2 SAD ok (giving in)\n",
            "SOMETHING/ONE IX-3p-pl-arc FIND/FIND-OUT POSS-1p KEY WHICH WHO IX-3p-pl-arc KEY WHICH\n",
            "HOW WHAT THROUGH FEEDBACK let's see HOW WHAT THROUGH FEEDBACK let's see\n",
            "WHO (1h)TEND COMMUTE BICYCLE WHO BICYCLE\n",
            "IX-1p NOT SKILL (1h)part:indef SKILL\n",
            "WANT_2 PLAY FRISBEE WHO (1h)part:indef WANT_2 PLAY\n",
            "AUNT IX-3p:i EXPERT MAKE APPLE PIE NOT MAKE PIE\n",
            "what's going on? NONE/NOTHING BOOK-pl TABLE IX-honorific:i (1h)NONE/NOTHING (1h)part:indef NONE/NOTHING BOOK-pl TABLE\n",
            "DURING/WHILE IX-1p ENJOY CHAT WITH fs-DONNA AND SECOND-IN-LIST fs-JESSICA IX-1p SAME ENJOY CHAT WITH EACH+ONE OTHER SAME IX-1p DURING/WHILE ENJOY CHAT WITH SECOND-IN-LIST ENJOY CHAT WITH EACH\n",
            "#IF IX-3p:i fs-BOB IX-loc:i GO #PO IX-1p GRAB-CHANCE give package POSS-1p LETTER/MAIL IX-3p:j (1h)DROP #OFF FOR IX-1p GO GRAB-CHANCE give package LETTER/MAIL\n",
            "#WHEN POSS-1p FRIEND catch fish (1h)FISH IX-1p MUST fs-BUCKET ICL:B-Lbring over bucket SCL:1throw fish in bucket FIRST FAST_3 #FRESH PERFECT FINE+ FRIEND catch fish ICL:B-Lbring over bucket FAST_3 PERFECT\n",
            "#IF fs-MARY IX-3p:i NOT (1h)HAPPY (1h)part:indef NONE/NOTHING_2+ONE IX-1p-pl-arc (1h)HAPPY (1h)part:indef NONE/NOTHING_2\n",
            "IF+ IX-3p:i fs-OBAMA CHOOSE REPUBLICAN whoa fs-OBAMA FUTURE SORRY THUMB-IX-3p:i CHOOSE\n",
            "fs-JACK IX-loc:i HAVE MONEY HAVE MONEY\n",
            "fs-JACK WAIT GO-OUT+ SEE STRANGE QMwg WAIT\n",
            "#IF TOMORROW NONE/NOTHING_2 TIME IX-2p CAN washing car CAR MONDAY NONE/NOTHING_2 TIME CAN washing car CAR\n",
            "WHO FIND/FIND-OUT POSS-1p KEY_2 WHO\n",
            "DRIVE WHO DRIVE\n",
            "FRIEND IX-3p:i DRIVE FRIEND DRIVE\n",
            "DRESS/CLOTHES IX-loc:i #SALE NOT IX-3p:i DRESS/CLOTHES\n",
            "fs-MAC TROUNCE fs-PC WHY+ fs-MAC EXPERT MATCH PEOPLE WANT_2 TROUNCE MATCH PEOPLE WANT_2\n",
            "FUTURE GO #PO WHO GO\n",
            "IX-3p:i APPLY-1p IX-1p MANY fs-TASKS frustration APPLY-1p MANY frustration\n",
            "IX-1p CHAT WITH IX-3p-pl-2:i/j ENJOY IX-1p NOT IX-1p CHAT WITH ENJOY\n",
            "IX-2p NOT person passed out NOT IX-2p person passed out\n",
            "FRIEND NOW IX-3p:i PLAN SURPRISE THRILL/WHAT'S-UP FRIEND NOW PLAN SURPRISE THRILL/WHAT'S-UP\n",
            "MAN RECENT-PAST BUSTED BREAK ENTER fs-NEWTON IX-3p:i THAT IX-3p:i MAYBE SAME PERSON WHO BREAK+ENTER IN ns-BROOKLINE part:indef BUSTED BREAK ENTER MAYBE BUOY PERSON BREAK ENTER IN part:indef\n",
            "IF+ BOX/ROOM IX-loc:i NOT ARRIVE IX-loc:i SHOULD CONTACT+ fs-FEDEX BOX/ROOM ARRIVE CONTACT+\n",
            "FRIEND GO-OUT FISHING FRIEND FISHING\n",
            "FRIEND GROUP/TOGETHER DELIBERATE (2h)REASON WANT+NEG PIZZA_3 (P)PARTY (25)WHY (1h)part:indef UP-TO-NOW SAME-OLD FRIEND GROUP/TOGETHER DELIBERATE (2h)REASON WANT NEG (P)PARTY UP-TO-NOW SAME-OLD\n",
            "THAT STUDENT ON fs-QUIZ ACT IX-3p:i THAT IX-loc:i NOT WIN IX-3p:i (1h)part:indef STUDENT ON ACT WIN\n",
            "IX-1p NOT THRILL/WHAT'S-UP #IF HAVE PINEAPPLE fs-CREAM CHEESE part:indef THRILL/WHAT'S-UP HAVE CHEESE part:indef\n",
            "#HS IX-2p GO-OUT WHERE IX-2p\n",
            "#IF IX-1p NOT AFRAID IX-1p PROCEED GO WATER PADDLE/CANOE FUTURE IX-1p (1h)part:indef AFRAID PROCEED GO PADDLE/CANOE\n",
            "(1h)THIS ARTICLE QUOTE/TOPIC fs-SENSORY fs-ORIENTATION SECOND PART ARTICLE QUOTE/TOPIC PART\n",
            "WHO FALL-IN-LOVE fs-BILL FALL-IN-LOVE\n",
            "IF+ fs-JOHN NOT HERE part:indef ANY+ONE IX-3p-pl-arc KNOW WHERE GO (1h)part:indef HERE part:indef GO\n",
            "IX-2p MUST #VP IX-2p (25)WHY NOT TEXTING_3 part:indef TEXTING_3 part:indef\n",
            "WHEN REALLY+WORK MOVE-AWAY ns-#SD OUT IX-1p (2h)MUST GET NEW CAR LICENSE+ WHEN WORK MOVE-AWAY OUT (2h)MUST GET NEW CAR LICENSE+\n",
            "fs-LIZ RELATIONSHIP FAMOUS ACT WHO RELATIONSHIP FAMOUS ACT\n",
            "fs-JEN fs-JOE IX-3p-pl-2:i/j MARRY QMwg MARRY\n",
            "IX-3p:i SISTER IX-loc:i IF+ IX-3p:i NEGLECT+ HOME+WORK REFUSE SUCCEED IN SCHOOL (1h)part:indef SISTER NEGLECT+ WORK SUCCEED IN SCHOOL\n",
            "PAST+NIGHT IX-1p LIE-DOWN DRUNK EACH+ONE fist pump NIGHT LIE-DOWN EACH fist pump\n",
            "#NO+ NOT STOP perplexed STOP perplexed\n",
            "IX-1p HIT MISS/ASSUME POSS-1p MORNING CLASS WHY++ IX-1p OVERSLEEP IX-1p HIT MORNING CLASS OVERSLEEP\n",
            "WHICH COLLEGE fs-MARY GO-OUT WHICH (1h)part:indef WHICH COLLEGE WHICH\n",
            "FRIEND GROUP/TOGETHER PLAY VIDEO-GAME FRIEND GROUP/TOGETHER PLAY VIDEO-GAME\n",
            "#IF POSS-1p FRIEND DEPART (P)PARTY IX-1p FUTURE (1h)JOIN GUARANTEE YES FRIEND (P)PARTY GUARANTEE\n",
            "#WHEN POSS-1p FRIEND GO-OUT IX-1p PROCEED FINALLY START POSS-1p HOMEWORK FRIEND PROCEED FINALLY START HOMEWORK\n",
            "IX-2p WRONG (alt-G/bent-L)POSS-1p FAVORITE/PREFER fs-LOX NOT LIKE PINEAPPLE fs-CREAM CHEESE\n",
            "IX-2p WORK WHAT WORK WHAT\n",
            "fs-JACK WAIT GO-OUT+ SEE STRANGE QMwg WAIT\n",
            "ns-#AA IX-loc:i well NOT EXPENSIVE part:indef #IF REALLY+WORK EXPENSIVE part:indef IX-1p STUCK WHY flying back and forth ns-BOSTON ns-#FLA ALONE ns-#AA (1h)part:indef well EXPENSIVE part:indef WORK EXPENSIVE part:indef BUOY\n",
            "#IF (2h)HORSE IX-loc:i PLAY+ ALL-DAY horse galloping ON FARM GUARANTEE NIGHT TIME+ EXHAUST (2h)HORSE PLAY+ ALL-DAY horse galloping ON GUARANTEE NIGHT TIME+ EXHAUST\n",
            "BOX/ROOM SMALL wave no BIG_5 BOX/ROOM SMALL BIG_5\n",
            "WHO IX-3p:i BUOY\n",
            "(25)WHY FATHER (P)UPSET (1h)part:indef KNOW+(1h)NEG\n",
            "POSS-2p FRIEND ADDICTED SURF-INTERNET INTERNET (25)WHY (1h)part:indef FRIEND INTERNET\n",
            "#NO IX-1p NOT AFRAID fs-OF HIGH part:indef DO-DO MAKE IX-2p THINK THAT (1h)part:indef AFRAID part:indef DO-DO MAKE\n",
            "#IF FRIEND CRASH POSS-1p (P)PARTY IX-1p FUTURE KICK-OFF IX-1p FRIEND CRASH (P)PARTY KICK-OFF\n",
            "FRIEND FACE+SAME INTERCOURSE+fs-UP WHY (1h)part:indef FRIEND INTERCOURSE\n",
            "UNDERSTAND LEARN+++ AND USE THAT (2h)alt.UNDERSTAND IX-1p USE MANY DEAF PEOPLE POSS-3p-pl-arc EXPERIENCE THROUGH STORY+ LEARN+++ USE (2h)alt.UNDERSTAND USE MANY PEOPLE THROUGH STORY+\n",
            "TIRED wave no TIRED\n",
            "#IF IX-1p BUY SHORTS+ IX-1p MUST (5)THROW SHOE+ BUY SHORTS+ SHOE+\n",
            "EACH STUDENT WHO GET TROPHY IX-3p:i HERE (2h)LOOK-UP EACH STUDENT GET TROPHY HERE (2h)LOOK-UP\n",
            "MAN RECENT-PAST BUSTED BREAK ENTER fs-NEWTON IX-3p:i THAT IX-3p:i MAYBE SAME PERSON WHO BREAK+ENTER IN ns-BROOKLINE part:indef BUSTED BREAK ENTER MAYBE BUOY PERSON BREAK ENTER IN part:indef\n",
            "#IF QUIET HERE+ MEAN MAYBE (1h)HAVE CHILDREN UP SLEEP QUIET HERE+ MEAN MAYBE CHILDREN\n",
            "FRIEND CAR WHERE (1h)part:indef FRIEND CAR\n",
            "WHO KISS-FIST (2h)LOOK-FORWARD STAR+BOMB++ (2h)LOOK-FORWARD STAR BOMB++\n",
            "#IF POSS-1p FRIEND GROUP/TOGETHER GO-OUT WANT+NEG IX-1p FUTURE PROCEED STAY HOME (2h)LOOK #TV FRIEND GROUP/TOGETHER WANT NEG PROCEED STAY (2h)LOOK\n",
            "POSS-1p SISTER IX-loc:i WANT+NEG HEADBAND FOR POSS-3p:i BIRTHDAY_3 SISTER WANT NEG HEADBAND BIRTHDAY_3\n",
            "fs-MARY IX-loc:i ARRIVE HOME fs-LATE IX-3p:j fs-JOHN MAYBE UPSET IX-3p:k ARRIVE IX-3p:j MAYBE\n",
            "WANT_2 FRISBEE PLAY WHO part:indef WANT_2 PLAY (1h)part:indef part:indef\n",
            "POSS-1p GIRL+CORRECT (1h)WANT HEADBAND FOR POSS-2p BIRTHDAY (25)WHY (1h)part:indef HAIR long hair WOW CORRECT HEADBAND long hair\n",
            "TEACH+AGENT SICK-OF NICE/CLEAN+ CLASS+BOX/ROOM forget it NOT NICE/CLEAN+ NOW+ TEACH AGENT NICE/CLEAN+ CLASS BOX/ROOM forget it NICE/CLEAN+ NOW+\n",
            "IX-1p+ ARRIVE SCHOOL LATE (25)WHY IX-1p BICYCLE IX-1p (3)ACCIDENT ARRIVE SCHOOL BICYCLE (3)ACCIDENT\n",
            "(nd-1)FIRST-IN-LIST VOICE+ (nd-1)FIRST-AND-SECOND-IN-LIST MANAGE/CONTROL #OF fs-SOUND (nd-1)FIRST-AND-SECOND-IN-LIST (nd-1)FIRST-IN-LIST (nd-1)FIRST-AND-SECOND-IN-LIST MANAGE/CONTROL (nd-1)FIRST-AND-SECOND-IN-LIST\n",
            "fs-BOB IX-loc:i FUTURE SURPRISE FROM THAT SURPRISE THRILL/WHAT'S-UP QMwg SURPRISE FROM SURPRISE THRILL/WHAT'S-UP\n",
            "KISS-FIST LOOK FIREWORKS WHO FIREWORKS\n",
            "WHEN IX-1p INTRODUCE NEW FRIEND IX-1p FUTURE TEST MAKE REALLY REMEMBER NAME WHEN INTRODUCE NEW FRIEND TEST MAKE REMEMBER NAME\n",
            "KIND (P)PARTY part:indef KIND (P)PARTY part:indef\n",
            "NOT-YET NONE/NOTHING+ONE FIND/FIND-OUT UMBRELLA STILL GONE part:indef NONE/NOTHING UMBRELLA STILL GONE part:indef\n",
            "IX-3p:i TEACH+AGENT NOT REQUIRE READ+ DROP IX-3p:j fs-JOHN IX-loc:j NOT READ TEACH AGENT REQUIRE READ+ DROP READ\n",
            "MOTHER IX-loc:i SICK QMwg HOW SICK HOW\n",
            "POSS-1p FRIEND IX-3p:i LOVE TRIP UNDERSTAND KISS-FIST fs-ASIA ns-ASIA (25)WHY IX-loc:i fs-ASIA MANY (2h)THING DO-DO DIFFERENT++ VARY COMPARE TO/UNTIL OTHER COUNTRY+ FRIEND LOVE focus MANY (2h)THING DO-DO DIFFERENT++ VARY COMPARE TO/UNTIL COUNTRY+\n",
            "GO-OUT+ SNOW SCHOOL CANCEL/CRITICIZE SNOW SCHOOL CANCEL/CRITICIZE\n",
            "#IF POSS-1p FRIEND IX-3p:i DRIVE IX-1p FUTURE SLEEP BACK SIT ' FRIEND DRIVE SIT '\n",
            "BOSS SUMMON IX-1p LOOK EACH+ONE many people staring KNOW-THAT IX-1p TROUBLE IX-1p SUMMON EACH many people staring TROUBLE\n",
            "#IF FRIEND TAKE-UP PIZZA_4 DINNER IX-1p FUTURE BRING fs-SUPREME round flat FRIEND TAKE-UP BRING round flat\n",
            "#IF POSS-1p SISTER IX-loc:i GET HEADBAND FOR POSS-3p:i BIRTHDAY IX-3p:i SISTER GUARANTEE FUTURE DECORATE WITH fs-GLITTER BAKING-SPRINKLES SISTER GET HEADBAND SISTER GUARANTEE DECORATE WITH BAKING-SPRINKLES\n",
            "IX-1p ALWAYS SERIOUS IN SCHOOL IN SCHOOL\n",
            "fs-PETE IX-3p:i LOVE TAPE-RECORDING IX-3p:i (1h)HAVE THREE three computers next to each other POSS-3p:i HOME WOW LOVE TAPE-RECORDING three computers next to each other\n",
            "IX-3p:i fs-JACK GO-OUT IX-3p:i SEE SOMETHING/ONE STRANGE QMwg (1h)part:indef\n",
            "#IF POSS-1p FRIEND GO-OUT FISHING+ IX-1p MUST (2h)LOOK-FORWARD+ MAKE REALLY WEATHER IX-loc:i FINE+ FRIEND FISHING+ (2h)LOOK-FORWARD+ MAKE WEATHER\n",
            "PAST+ALL-NIGHT IX-1p #DO HOMEWORK WOW A-LOT ALL-NIGHT HOMEWORK A-LOT\n",
            "FRIEND NOW IX-3p:i #VP HOME CHAT+++ FRIEND NOW CHAT+++\n",
            "#IF IX-3p:i REALLY+WORK LIKE IX-3p:j EAT eating FUTURE ALL-GONE FUTURE (1h)part:indef IX-3p:i NOT (1h)part:indef SOMETHING/ONE WRONG+ (1h)part:indef WORK eating ALL-GONE\n",
            "POSS-1p FRIEND IX-3p:i START VIDEO-GAME FINISH ALL-NIGHT VIDEO-GAME CONTINUE TO/UNTIL EYES eyes pop out WOW FRIEND START VIDEO-GAME FINISH ALL-NIGHT VIDEO-GAME CONTINUE TO/UNTIL eyes pop out\n",
            "#IF GIRL+FRIEND IX-3p:i fs-BOB GIVE:i (R)FLOWER IX-3p:i FUTURE (1h)HAPPY FRIEND BUOY\n",
            "fs-JOHN IX-3p:i NOT BREAK WINDOW #NO+ IX-3p:j fs-SALLY BREAK WINDOW\n",
            "OLD MUSIC round flat no more WHY+++ EACH+ONE IX-3p-pl-arc HAVE fs-IPOD MUSIC round flat no more EACH HAVE\n",
            "LECTURE fs-TESTIMONIES DIFFERENT MAKE-A-COLLECTION BECOME (2h)SAME fs-BRICOLAGE gathering information ORGANIZE DIFFERENT MAKE-A-COLLECTION BECOME (2h)SAME gathering information ORGANIZE\n",
            "#IF+ FRIEND GROUP/TOGETHER GO-OUT (P)PARTY+ IX-1p why not JOIN IX-1p FRIEND GROUP/TOGETHER (P)PARTY+ why not JOIN\n",
            "fs-BOB IX-3p:i ARRIVE (P)PARTY_3 EACH+ONE MUST use spray cans (flat-O)PAY/SPEND (2h)alt.TEASE MUST ARRIVE (P)PARTY_3 EACH use spray cans (flat-O)PAY/SPEND (2h)alt.TEASE\n",
            "fs-JACK fs-SUE MEET FINISH MEET FINISH\n",
            "DURING/WHILE COLD IX-1p (1h)TEND SICK-continuative WHY++ (1h)TEND USE FLIP-FLOP+ part:indef DURING/WHILE COLD SICK-continuative USE FLIP-FLOP+ part:indef\n",
            "#NO++ IX-1p RECENT-PAST FINISH HOMEWORK IX-1p FINISH HOMEWORK\n",
            "IX-1p PROCEED NOT INVITE/HIRE fs-MARY WHY IX-3p:i NOT AGREE (5)SOCIAL/INTERACT GROUP/TOGETHER NOT PROCEED AGREE (5)SOCIAL/INTERACT GROUP/TOGETHER\n",
            "BASEBALL IX-loc:i GAME IX-loc:i HAVE STAR BOMB+ IX-1p MUST GO (2h)LOOK BASEBALL GAME HAVE STAR BOMB+ whoa GO (2h)LOOK\n",
            "#IF POSS-1p FRIEND DEPART (P)PARTY+ IX-1p POSS-1p ROOMMATE IX-1p-pl-2:i (1h)JOIN FRIEND (P)PARTY+ ROOMMATE\n",
            "POSS-1p SISTER VOMIT/HATE WATER SKI (25)WHY HARD BALANCE (2h)alt.SKI SISTER VOMIT/HATE SKI HARD BALANCE (2h)alt.SKI\n",
            "fs-JOHN IX-loc:i BREAK WINDOW #NO+ IX-3p:j fs-JAMES BREAK WINDOW\n",
            "(P)PARTY+ START WHEN (P)PARTY+ START WHEN\n",
            "IX-1p KNOW-THAT IX-3p:i MONSTER HOUSE IX-1p SUFFER ENTER fs-AT POSS-1p #OWN fs-RISK MONSTER HOUSE ENTER\n",
            "CANNOT DISTRIBUTE NUT+BUTTER IX-3p:i fs-BETH IX-loc:i wow ALLERGY NUT+ IX-3p:i CANNOT DISTRIBUTE BUTTER ALLERGY\n",
            "HERE ns-BOSTON NOT MANY ANIMAL+ part:indef HERE MANY ANIMAL+ part:indef\n",
            "NOT-YET NONE/NOTHING+ONE FIND/FIND-OUT UMBRELLA STILL GONE part:indef NONE/NOTHING UMBRELLA STILL GONE part:indef\n",
            "FRIEND IX-loc:i PROCEED PLAY FRISBEE (2h)IX-1p JOIN PLAY FRIEND PROCEED PLAY (2h)IX-1p JOIN PLAY\n",
            "#IF IX-2p WANT+NEG PIZZA_4 CAN ORDER SPAGHETTI WANT NEG CAN SPAGHETTI\n",
            "POSS-1p FRIEND SURF-INTERNET INTERNET (1h)TEND REMIND-2p+ REMEMBER IX-2p NOT FINISH HOMEWORK FRIEND INTERNET REMEMBER FINISH HOMEWORK\n",
            "MOTHER (2h)IX-loc:i SICK IX-3p:i IX-1p MUST CARE+ IX-3p:i (2h)IX-loc:i SICK CARE+\n",
            "#NO+ IX-3p:i (L)LIVE (L-X)SMALL #APT IN CITY/COMMUNITY fs-CITY IX-3p:i (L)LIVE (L-X)SMALL IN CITY/COMMUNITY\n",
            "FRIEND IX-loc:i START CAR #WHEN FRIEND START CAR\n",
            "fs-PHIL (1h)HAVE KID CHILDREN (1h)HOW-MANY/MANY CHILDREN\n",
            "WHO ASK FOR DIRECT\n",
            "NOW MOVING-ON-TO-NEXT-TOPIC TALK ABOUT fs-AUDIO fs-VOCAL #ORIENTATION MAJOR NOW MOVING-ON-TO-NEXT-TOPIC ABOUT MAJOR\n",
            "WHO BUY CAR part:indef BUY CAR part:indef\n",
            "IF+ IX-3p:i GO-OUT NOT-MIND+ IX-loc:j CLOSE-GATE\n",
            "#NO++ (nd-1)MOVIE START TIME TEN++ (nd-1)MOVIE START TIME\n",
            "WHEN (crvd-5)POSS-1p FATHER START VIDEO-GAME IX-1p whoa IX-1p UP WHY+ IX-loc:i VIDEO-GAME BORE IX-1p LOOK WHEN START VIDEO-GAME whoa VIDEO-GAME\n",
            "#IF MOTHER IX-loc:i NICE/CLEAN+ (K)KITCHEN IX-1p CANNOT BAKE/OVEN COOKIE NICE/CLEAN+ (K)KITCHEN CANNOT BAKE/OVEN COOKIE\n",
            "BRACELET POSS-1p BROTHER RECENT-PAST FIND/FIND-OUT THAT BRACELET REALLY+WORK GOLD/ns-CALIFORNIA circular bracelet wow BRACELET BROTHER BRACELET WORK circular bracelet\n"
          ]
        }
      ]
    },
    {
      "cell_type": "code",
      "source": [
        "print(target)"
      ],
      "metadata": {
        "colab": {
          "base_uri": "https://localhost:8080/"
        },
        "id": "SQRiaCR36vpL",
        "outputId": "4165478e-25be-4eb3-c21f-b58c67bd90ae"
      },
      "execution_count": null,
      "outputs": [
        {
          "output_type": "stream",
          "name": "stdout",
          "text": [
            "['(P)PARTY START WHICH TIME EIGHT TIME NINE (P)PARTY START WHICH TIME', '(G/Q)POSS-1p SISTER (2h)IX-3p:i tube skipping on water IX-1p GO-BY-BOAT IX-1p LOOK MAKE REALLY person flips off IX-1p STOP SISTER (2h)IX-3p:i tube skipping on water GO-BY-BOAT MAKE STOP', 'MOTHER IX-loc:i #IF+ (1h)HAVE TIME+ IX-3p:i FUTURE BRING COOKIE TIME+ BRING COOKIE', '#NO+ IX-1p NOT OLD ENOUGH TO/UNTIL VOTE THAT TIME part:indef ENOUGH TO/UNTIL VOTE TIME part:indef', 'FRIEND WANT_2 BUY PLAID (2h)SHIRT FRIEND WANT_2 BUY (2h)SHIRT', '#IF TOMORROW SNOW GUARANTEE SCHOOL FUTURE CLOSE-DOOR SNOW GUARANTEE SCHOOL CLOSE-DOOR', 'IX-1p RECENT-PAST DRINK TASTE FINE++ (1h)part:indef', '#IF MOTHERwg IX-3p:i NOT person walking SELL IX-1p-pl-arc REFUSE (1h)HAVE MILK part:indef SELL (1h)part:indef part:indef', 'FINEwg MOTHERwg FUTURE GIVE-1p TWENTY DOLLAR #IF IX-1p NICE/CLEAN (K)KITCHEN DOLLAR NICE/CLEAN (K)KITCHEN', 'TEACH+AGENT IX-loc:i IX-3p-pl-arc HEAR/LISTEN IX-3p:i WHO TEACH AGENT BUOY IX-3p:j', 'IX-1p RECENT-PAST READ+ BOOK IX-1p READ+ BOOK', 'EXPRESS THROUGH_2 (2h)TALKwg MINOR EXPRESS SIGN CURRENT-TOPIC ROAD EXPRESS THROUGH_2 (2h)TALKwg MINOR EXPRESS SIGN CURRENT-TOPIC ROAD', \"IX-1p LIKE MAYBE (2h)THING (2h)ANY+(2h)THING I don't know MAYBE (2h)THING (2h)ANY (2h)THING I don't know\", 'wave no NOW THURSDAY+ MEAN TOMORROW FRIDAY+ NOW MEAN', 'FRIEND GROUP/TOGETHER DRIVE WHERE FRIEND GROUP/TOGETHER DRIVE', 'FRIEND NOW IX-3p:i PLAY VIDEO-GAME FRIEND NOW PLAY VIDEO-GAME', 'POSS-1p SISTER WANT FOR POSS-3p:i BIRTHDAY (1h)DO-DO (1h)part:indef SISTER WANT', 'FRIEND FINISH EXPERIENCE+ TRIP QMwg FRIEND FINISH', 'fs-BOB IX-loc:i NOT-YET SEND LETTER/MAIL SEND LETTER/MAIL', '#IF IX-3p:i FAMILY DECIDE VACATION EVERY-YEAR IX-3p:i FUTURE EVERY-YEAR DEPART+ ns-#PR FAMILY DECIDE VACATION EVERY-YEAR', 'fs-NETFLIX RECENT-PAST SEND IX-1p recieve DVD fs-DVD DVD (1h)SCRAPE (1h)part:indef SEND recieve DVD DVD', 'IX-3p-pl-2:i/j fs-JACK fs-SUE MEET PAST+ FINISH QMwg MEET FINISH', 'GAME FINISH BEFORE_2 TIME SIX part:indef WHICH GAME FINISH BEFORE_2 TIME part:indef WHICH', 'IX-2p LEAVE NOT-MIND+ CLOSE-GATE LEAVE CLOSE-GATE', 'IX-3p:i NOT FINISH (25)WHY IX-3p:i REST+++ FINISH REST+++', 'DRESS/CLOTHES IX-loc:i #SALE IX-1p FRIEND GROUP/TOGETHER group go together #MALL DRESS/CLOTHES FRIEND GROUP/TOGETHER group go together', 'IX-1p NOT SEE (5)ACCIDENT part:indef IX-1p SLEEP part:indef (5)ACCIDENT part:indef', 'PLAN SURPRISE fs-BOB WHO PLAN SURPRISE', 'TOMORROW RAIN++ MEAN ARRIVE UNCLE HOUSE STAY IN+ RAIN++ MEAN ARRIVE HOUSE STAY IN+', 'RAIN++ (1h)WOW/AWFUL RAIN++', '#WHEN FATHERwg IX-loc:i ARRIVE HOME fs-LATE MOTHER IX-loc:i REFUSE MAKE DINNER+ ARRIVE MAKE', '#WHEN POSS-1p SISTER IX-3p:i WATER+TUBING IX-loc:i IX-1p-pl-arc MUST MAKE REALLY (2h)LOOK-FORWARD NOT person sliding off tube SISTER TUBING MAKE (2h)LOOK-FORWARD person sliding off tube', 'IX-1p (2h)LOOK MOVIE PAST+NIGHT ACT+AGENT (1h)GOOD/THANK-YOU (2h)LOOK MOVIE NIGHT ACT AGENT', 'MOTHER SICK HOW part:indef SICK HOW part:indef', \"FRIEND ' GO-OUT fs-BEACH (2h)NOT-YET FRIEND ' (2h)NOT-YET\", 'MOTHER IX-3p:i SICK NOW NOT SICK NOW', 'POSS-1p MOTHER+ IX-loc:i KISS-FIST GLASSES_2 WHY+ FACE fs-BAD NEAT GLASSES_2', '#NO+ IX-3p:i many games #ALL GAME (1h)part:indef LOSE-COMPETITION many games GAME', 'WANT_2 #BQQ (P)PARTY FOR (1h)part:indef WANT_2 (P)PARTY', 'IX-2p BUY CAR WHERE BUY CAR', 'THAT IDEA SET-UP REALLY BELOW_2 DIFFERENT-arc CULTURE HAVE DIFFERENT-arc ALLOW INTERPRET #OR GIFT MEAN TO/UNTIL DIFFERENT-arc fs-SENSORY EXPERIENCE you know SET-UP BELOW_2 DIFFERENT-arc CULTURE HAVE DIFFERENT-arc ALLOW INTERPRET GIFT MEAN TO/UNTIL DIFFERENT-arc you know', 'fs-LOTTERY IX-loc:i SOMETHING/ONE WIN QMwg WIN', 'PEOPLE IX-1p 1p-MEET+++:i/j/k/l PAST+NIGHT WOW (L-X)INTERESTING PEOPLE 1p-MEET+++:i/j/k/l NIGHT (L-X)INTERESTING', 'IX-1p PROCEED START FILL-OUT FRIEND (2h)alt.INVITE/HIRE FOR #BBQ GROUP/TOGETHER IX-1p MAKE REALLY LIST #ALL CORRECT PROCEED START FILL-OUT FRIEND (2h)alt.INVITE/HIRE GROUP/TOGETHER MAKE LIST CORRECT', 'POSS-2p FRIEND ADDICTED LAPTOP TYPE INTERNET WHY+ part:indef FRIEND LAPTOP TYPE INTERNET part:indef', 'IX-loc:i START opening can #NO+ wave no NOT IX-1p START opening can', '#IF IX-1p LOOK FRIEND IX-loc:i FINISH HOMEWORK EMPTY/EARLY (1h)TEND SURF-INTERNET INTERNET ALL-NIGHT FRIEND FINISH HOMEWORK EMPTY/EARLY INTERNET ALL-NIGHT', 'BELOW_2 ON THAT ANALYZE_3 FROM (1)GENERATIONS-AGO+ IDEA SUGGEST fs-EDWARD fs-HALL BELOW_2 ON ANALYZE_3 FROM (1)GENERATIONS-AGO+ SUGGEST', 'GO-OUT+ NOT SNOW SCHOOL NORMAL OPEN STAY++ SNOW SCHOOL NORMAL OPEN STAY++', 'POSS-1p FRIEND IX-3p:i person passed out PAST+NIGHT (25)WHY (2h)(Y)DRINK PARTY-HARD IX-3p:i FRIEND person passed out NIGHT (2h)(Y)DRINK PARTY-HARD', 'FRIEND LOVE SURF-INTERNET REALLY+WORK+ QMwg FRIEND LOVE WORK+', 'IX-1p KISS-FIST APPLE DURING/WHILE AUTUMN DURING/WHILE AUTUMN', 'PICK-1p GROUP #CLUB JOIN (2h)WOW HONOR GROUP JOIN (2h)WOW HONOR', 'IX-1p WARM wave no IX-1p HOT', 'fs-JOHN READ BOOK wave no IX-3p:i fs-JOHN NEVER START BOOK READ BOOK START BOOK', '#IF IX-1p ARRIVE WORK fs-LATE WOW+ BOSS FUTURE STOP FIRED IX-1p WOW ARRIVE WORK STOP FIRED', '(1h)INFORM-2p IX-3p:i CAR BREAK-DOWN IX-1p USE_2 CORRECT KEY_2 CAR BREAK-DOWN USE_2 CORRECT', 'IX-1p (1h)part:indef NOT EXPERT MEMORIZE PEOPLE NAME MEET-3p-pl-arc MEMORIZE NAME (1h)DO-DO IX-1p NOT IX-1p PEOPLE NAME MEET-3p-pl-arc (1h)part:indef NAME', '#WHEN FATHER IX-loc:i ARRIVE HOME fs-LATE IX-1p-pl-arc (1h)TEND EAT PIZZA_4 ARRIVE', 'DRESS/CLOTHES IX-3p:i #SALE WHERE DRESS/CLOTHES', '#IF+ (fanned-flat-O)POSS-1p FRIEND DRIVE IX-1p (1h)SIT BACK SLEEP FRIEND DRIVE', 'IX-1p WASHING-MACHINE+ NONE/NOTHING_2 part:indef WASHING-MACHINE+ NONE/NOTHING_2 part:indef', '#IF++ fs-JACK IX-loc:i GET CAT+ FUTURE KEEP++++ GET KEEP++++', 'GAME FINISH BEFORE_2 TIME SIX part:indef WHICH GAME FINISH BEFORE_2 TIME part:indef WHICH', '#IF FATHERwg IX-loc:i ARRIVE HOME fs-LATE IX-3p:i CANNOT HELP-1p IX-1p WITH POSS-1p-pl-arc HOMEWORK (1h)part:indef ARRIVE CANNOT HELP-1p WITH HOMEWORK', 'NOW IX-1p STUDY GO-OUT SCHOOL+ NOW STUDY SCHOOL+', 'WHO WANT_2 PLAY FRISBEE part:indef WANT_2 PLAY part:indef', 'TIME+ FRIEND IX-3p:i (5)CRASH (P)PARTY TIME+ (1h)part:indef TIME+ FRIEND (5)CRASH (P)PARTY TIME+', '#WHEN POSS-1p FAMILY REALLY+WORK TAKE-UP fs-PUPPIES IX-1p FUTURE ZOOM PET/SPOILED+ SELL (25)WHY IX-1p BUY COLLAR COLOR fs-COLLARS DIFFERENT-arc COLOR FAMILY WORK TAKE-UP ZOOM PET/SPOILED+ SELL BUY COLLAR DIFFERENT-arc', 'FRIEND IX-loc:i MUST DRIVE WHY IX-1p TIRED IX-1p FRIEND DRIVE TIRED', 'fs-JACK IX-loc:i HAVE MONEY HAVE MONEY', 'WHO (1)SEND LETTER/MAIL_2 (1h)part:indef LETTER/MAIL_2', 'BUY CAR WHO part:indef BUY CAR part:indef', '#IF IX-1p GO-OUT fs-PUBLIC SCHOOL+ GUARANTEE IX-1p look around and around (25)WHY NONE/NOTHING COMMUNICATE+ SCHOOL+ GUARANTEE look around and around NONE/NOTHING COMMUNICATE+', '#IF IX-3p:i STUDENT IX-loc:i WIN TROPHY GET ONE+HUNDRED DOLLAR_2 PAPER-CHECK/CARD STUDENT WIN TROPHY GET DOLLAR_2 PAPER-CHECK/CARD', '#WHEN IX-1p MAKE LIST FOR #BQQ (P)PARTY IX-1p MUST MAKE REALLY IX-1p (2h)INVITE/HIRE ALL POSS-1p FRIEND MAKE LIST (P)PARTY MAKE (2h)INVITE/HIRE ALL FRIEND', 'fs-BRIDE AND fs-GROOM END WEDDING (25)WHY (1h)part:indef END WEDDING', 'MUST MOVE-AWAY ns-#SD WHY (1h)part:indef MOVE-AWAY', '#IF hesitation IX-3p:i STUDENT PROCEED HEAR/LISTEN TEACH+AGENT LOOK-UP FUTURE LEARN SOMETHING/ONE STUDENT PROCEED TEACH AGENT LEARN', 'HORSE IX-loc:i VOMIT/HATE RAIN+ PLAY GO-OUT horses running NOT LIKE VOMIT/HATE RAIN+ PLAY horses running', 'BACK-OF-MIND AUTOMATIC (1h)part:indef AUTOMATIC', 'ALCOHOL+ SELF-3p:i+ NOT ALWAYS (1h)GOOD/THANK-YOU part:indef ALCOHOL+ BUOY part:indef', 'IX-2p (1h)TEND CHAT WITH IX-3p-pl-2:i/j WHY (1h)part:indef CHAT WITH', '#IF fs-OBAMA CHOOSE REPUBLICAN IX-3p:i fs-OBAMA FUTURE SORRY IX-3p:i CHOOSE', '#IF POSS-1p FRIEND IX-3p:i (1h)(flat-O)PAY/SPEND PLAID (2h)SHIRT IX-1p MUST MAKE REALLY OPPOSITE IX-1p (4)STRIPES FRIEND (2h)SHIRT MAKE OPPOSITE', 'MUST (P)PAY fs-RENT WHO (P)PAY', 'fs-BILL IX-loc:i MOVE ns-NEW-YORK FUTURE MOVE ns-NEW-YORK', 'IX-1p NOT-YET (P)PAY EVERY-MONTH/RENT++ (P)PAY EVERY-MONTH/RENT++', '#IF FATHER IX-loc:i ARRIVE HOME fs-LATE IX-3p:j MOTHERwg GUARANTEE BAWL-OUT+ (25)WHY CHILDREN WANT_2 SEE FATHER IX-3p:i ARRIVE GUARANTEE BAWL-OUT+ CHILDREN WANT_2', '#IF IX-3p-pl-2:i/j fs-BRIDE AND fs-GROOM IX-3p-pl-2:i/j DANCE LAST WEDDING PEOPLE MUST people gathering in a circle QUIET (2h)LOOK-FORWARD BUOY_2 DANCE LAST WEDDING PEOPLE people gathering in a circle QUIET (2h)LOOK-FORWARD', 'WHO KISS-FIST LOOK FIREWORKS', 'fs-BOB IX-loc:i (1h)VOMIT/HATE READ BOOK+ READ BOOK+', '#IF+ POSS-1p FRIEND MAKE-IT SURPRISE fs-BOB IX-1p tip hat WHY+ fs-BOB IX-3p:i REALLY IMPOSSIBLE SURPRISE IX-3p:i FRIEND MAKE-IT SURPRISE IMPOSSIBLE SURPRISE', 'SURPRISE (P)PARTY TIME START #WHEN part:indef SURPRISE (P)PARTY TIME START part:indef', '#IF RAIN+ (Y)YESTERDAY whoa REALLY #GO (nd-1)MOVIE RAIN+ (nd-1)MOVIE', 'IX-2p WORK WHERE WORK', '#NO++ POSS-1p ROOMMATE NOT (1h)GRAB RECENT-PAST HAVE EAT+MORNING WITH IX-3p:i part:indef ROOMMATE MORNING WITH part:indef', 'IX-1p WANT+NEG BUY SHORTS WANT NEG BUY SHORTS', 'FATHER LAZY++ MOW GRASS REFUSE IX-3p:i MOW', 'KISS-FIST LOOK-UP STAR+BOMB++ WHO part:indef STAR BOMB++ (1h)part:indef part:indef', 'IX-1p THINK (Y)WOW BORE IX-1p', '(1h)TEND IX-1p GO UNCLE HOUSE IX-3p:i UNCLE ALWAYS (1h)STAY IN+ IX-3p:j GO HOUSE IN+', 'IX-1p GO SCHOOL++ GO SCHOOL++', 'IX-2p FINISH (L)LIVE THROUGH COLD IN ns-BOSTON wow SNOW+ A-LOT (1h)part:indef FINISH (L)LIVE THROUGH COLD IN SNOW+ A-LOT', 'IX-1p NOW READ+ BOOK NOW READ+ BOOK', 'KNOW+ FUTURE RAIN TOMORROW RAIN', 'IX-2p NOT PASS-OUT_2 IX-2p DRUNK NOT IX-2p', 'IX-1p FINISH DECIDE fs-MARY NOT INVITE/HIRE GO-OUT #BQQ (P)PARTY (25)WHY IX-3p:i NOT HAPPEN (5)SOCIAL/INTERACT FINISH DECIDE (P)PARTY HAPPEN (5)SOCIAL/INTERACT', 'ATTENTION-WAVE #IF ATTENTION-WAVE fs-BOB IX-3p:i STUDY fs-LIT BOOK IX-3p:i FUTURE PASS LAST fs-EXAM ATTENTION-WAVE STUDY BOOK PASS LAST', 'IX-1p MUST REQUEST DIRECT/EXPLAIN (25)WHY IX-1p KNOW-NOTHING WHERE GO-OUT IX-1p REQUEST DIRECT/EXPLAIN', '(1h)part:indef IX-1p LIKE IX-3p:i #IF IX-3p:i (1h)HAVE BUTTER IN+ oh well FINE IX-1p part:indef BUTTER IN+ oh well part:indef', 'VEGETABLE #IF++ fs-JOHN (2h)alt.EAT+ fs-SPINACH BECOME SICK (2h)alt.EAT+ BECOME SICK', \"what's going on? NONE/NOTHING BOOK-pl TABLE IX-honorific:i (1h)NONE/NOTHING (1h)part:indef NONE/NOTHING BOOK-pl TABLE\", '(P)PARTY START WHICH TIME EIGHT TIME NINE (P)PARTY START WHICH TIME', 'NOT HAVE TIME TOMORROW not a big deal wash car CAR MONDAY HAVE TIME not a big deal wash car CAR', 'AUNT EXPERT MAKE (1h)DO-DO MAKE', 'WHO IX-3p-pl-arc FIND/FIND-OUT IX-1p KEY (1h)part:indef KEY', '(P)PARTY_2 NIGHT START EIGHT NINE part:indef (P)PARTY_2 NIGHT START part:indef', 'POSS-1p FAMILY IX-3p:i EVERY-YEAR VACATION+ part:indef (2h)#NO+MORE (1h)part:indef FAMILY EVERY-YEAR VACATION+ part:indef (2h)#NO MORE', '#NO IX-1p VOMIT/HATE++ #IF IX-1p EAT PINEAPPLE fs-CREAM CHEESE wave no IX-1p FAVORITE/PREFER+ fs-LOX VOMIT/HATE++ CHEESE', 'IX-1p NOT THINK IX-3p:i PLAN GO part:indef IF+ SEE part:indef IX-1p FUTURE (1h)INFORM i:CALL-BY-PHONE:j IX-2p PLAN GO part:indef', '#IF fs-BOB IX-loc:i GO-OUT #PO IX-1p FUTURE GIVE:i ALL POSS-1p LETTER/MAIL_2 (25)WHY IX-3p:i CAN (1h)DROP fs-OFF BUOY ALL LETTER/MAIL_2 CAN', '#WHEN FRIEND GO-OUT (P)PARTY IX-1p GRAB-CHANCE 1p-INFORM:i ROOMMATE+ IX-1p JOIN FRIEND (P)PARTY GRAB-CHANCE 1p-INFORM:i ROOMMATE+ JOIN', 'IX-3p:i BUY CAR WHAT KIND BUY CAR WHAT KIND', 'POSS-1p FRIEND WANT PLAID (2h)SHIRT (25)WHY IX-3p:i FUTURE HAVE DRESS/CLOTHES (P)PARTY GROUP/TOGETHER DEPART FRIEND WANT (2h)SHIRT DRESS/CLOTHES (P)PARTY GROUP/TOGETHER', 'THAT TWO DIFFERENT (B)NEXT-TOPIC #ORIENTATION CURRENT-TOPIC SET-UP FROM WHAT DIFFERENT (B)NEXT-TOPIC CURRENT-TOPIC SET-UP FROM WHAT', 'TEACH+AGENT IX-3p:i SICK-OF NICE/CLEAN CLASS+BOX/ROOM IX-3p:i FORGET-IT NOT NICE/CLEAN NOW+ TEACH AGENT NICE/CLEAN CLASS BOX/ROOM NICE/CLEAN NOW+', 'IX-2p START TRIP #WHEN (1h)part:indef START', 'SEND LETTER/MAIL WHO SEND LETTER/MAIL', 'whoa #IF+ ORDER PIZZA_4 HERE FUTURE DELICIOUS whoa HERE', 'POSS-1p GIRL CORRECT IX-3p:i WANT+NEG HEADBAND FOR BIRTHDAY (1h)WANT+NEG CORRECT BUOY WANT NEG HEADBAND', '#HS IX-2p GO WHERE GO', 'FATHER UPSET WHY (1h)part:indef', 'POSS-1p PAY IX-1p INCREASE LITTLE-BIT SMALL-AMOUNT INCREASE part:indef PAY INCREASE part:indef', 'WHEN IX-3p:i FRIEND LAPTOP TYPE INTERNET hey IX-1p REMIND:i GRAB-CHANCE HOME+WORK++ WHEN FRIEND LAPTOP TYPE INTERNET GRAB-CHANCE WORK++', 'MAN WHO throw out of plane AIRPLANE WHO IX-3p:i fs-ALEC-BALDWIN throw out of plane', 'IX-1p VOLUNTEER/SHIRT HELP+ OTHER ORGANIZATION HELP+ ORGANIZATION', '#WHEN MOTHER IX-loc:i GO-OUT SELL IX-1p FUTURE REMIND-2p+ MAKE+REALLY GET IX-1p-pl-arc MILK SELL MAKE GET', '#NO+ IX-3p:i many games #ALL GAME (1h)part:indef LOSE-COMPETITION many games GAME', 'IX-1p ANALYZE MATH+ PROBLEM_2 IX-1p LOOK-OVER ANALYZE MATH+ PROBLEM_2', 'FRIEND GO-OUT FISHING FRIEND FISHING', '#WHEN IX-1p FINISH NICE/CLEAN+ (K)KITCHEN MOTHER FUTURE TAKE IX-1p GO-OUT FRIEND HOUSE IX-1p FINISH NICE/CLEAN+ (K)KITCHEN FRIEND HOUSE', 'IX-3p:i FEEL NONE/NOTHING_2 (1h)part:indef FEEL (F)NONE/NOTHING_2 (1h)part:indef NONE/NOTHING_2 (F)NONE/NOTHING_2', 'IX-1p GO-OUT SWIM+ fs-BEACH IX-1p GUARANTEE fs-SUN+#BURN (25)WHY IX-1p BLANK-OUT POSS-1p applying suncreen fs-SUNSCREEN SWIM+ GUARANTEE applying suncreen', 'exasperation fs-JOHN NOT HERE part:indef FUTURE ANY+ONE IX-3p-pl-arc KNOW+ WHERE IX-3p:i (1h)part:indef HERE part:indef', 'IX-3p:i (1)GUILTY+ NONE/NOTHING_2+ part:indef NONE/NOTHING_2+ part:indef', 'KNOW-THAT SOMETHING/ONE BUY CAR hey WHO++ BUY CAR', '(2h)HORSE (1h)TEND PLAY-continuative WHERE (2h)HORSE PLAY-continuative', 'VEGETABLE IX-loc:i IF+ fs-JOHN EAT+++ fs-SPINACH FUTURE BECOME DISGUST+ SICK BECOME SICK', '#IF IX-3p:i fs-BOB IX-loc:i SUCCEED (2h)alt.FIRE+ IX-1p MUST STAY (2h)LOOK fs-BONFIRE MAKE+REALLY CONTINUE (2h)alt.FIRE++ SUCCEED (2h)alt.FIRE+ STAY (2h)LOOK MAKE CONTINUE (2h)alt.FIRE++', '(P)PARTY+ (1h)DO-DO KIND (1h)DO-DO (P)PARTY+ KIND', 'GO-OUT+ NOT SNOW SCHOOL NORMAL NOT CANCEL/CRITICIZE SNOW SCHOOL NORMAL CANCEL/CRITICIZE', 'AND MORE COOPERATE/UNITE HOW DEAF PEOPLE POSS-pl-arc EXPERIENCE IN THAT WORLD MORE COOPERATE/UNITE HOW PEOPLE IN WORLD', '#WHEN POSS-1p FRIEND START HAIR_2+DYE etcetera GUARANTEE MANY PEOPLE FUTURE FOLLOW FRIEND START HAIR_2 DYE etcetera GUARANTEE MANY PEOPLE FOLLOW', '(1h)WOW/AWFUL IX-1p person passed out PAST+NIGHT EACH+ONE (2h)alt.CHEER WOW person passed out NIGHT EACH (2h)alt.CHEER', 'INTERNET IX-2p SURF-INTERNET (1h)DO-DO (1h)part:indef INTERNET', 'IX-2p NOT ORDER PIZZA_4 part:indef CAN ORDER SPAGHETTI part:indef CAN SPAGHETTI', 'WHO SEND LETTER/MAIL SEND LETTER/MAIL', 'BOX/ROOM BIG_2 wave no NOT SMALL wave no BOX/ROOM BIG_2 SMALL', '#TV IX-loc:i HOW-MANY/MANY+ IX-loc:i HOW-MANY/MANY+', 'IX-1p NOTICE BABY VOMIT/HATE STAR BOMB+ AFRAID NOTICE BABY VOMIT/HATE STAR BOMB+ AFRAID', 'fs-JOHN IX-3p:i PAY/BUY TURKEY NONE/NOTHING_2 PAY/BUY NONE/NOTHING_2', 'FRIEND PROCEED TAKE-UP PIZZA_4 DINNER (25)WHY IX-3p:i KISS-FIST PIZZA_4 FRIEND PROCEED TAKE-UP BUOY', '(1h)TEND COMMUTE+ BICYCLE (1h)part:indef WHO BICYCLE', 'BEFORE_2 fs-ISSUE fs-DESDJ #VOL ONE NUMBER ONE IX-1p FOCUS/NARROW (2h)alt.SEE FEEL+ fs-TACTILE MAJOR fs-ORIENTATION TALK-OVER STILL BEFORE_2 NUMBER FOCUS/NARROW (2h)alt.SEE MAJOR TALK-OVER STILL', 'IX-1p LOVE FIREWORKS (25)WHY FIREWORKS BEAUTIFUL LOUD LOVE FIREWORKS LOUD', 'fs-BOB IX-loc:i (2h)NOT-YET GO-OUT #PO (1h)part:indef (2h)NOT-YET', 'IX-2p (1h)WANT KNOW+ (1h)part:indef #IF fs-JOHN IX-loc:i WIN IX-3p:i GET BEAR size of bear WIN GET BEAR size of bear', 'BOX/ROOM IX-loc:i NOT-YET ARRIVE IX-loc:i SHOULD CONTACT+ fs-FEDEX BOX/ROOM ARRIVE CONTACT+', 'FRIEND IX-3p:i DEPART FISHING #WHEN FRIEND FISHING', 'KID IX-loc-pl-arc VOMIT/HATE IX-3p:i PRINCIPAL (25)WHY++ #IF IX-3p:j NOT ACTION HOMEWORK IX-3p:i i:BAWL-OUT-distributive-3p-pl-arc VOMIT/HATE PRINCIPAL ACTION HOMEWORK i:BAWL-OUT-distributive-3p-pl-arc', '#IF FATHERwg IX-loc:i NOT ARRIVE HOME fs-TOO fs-LATE IX-3p:i CAN HELP IX-1p-pl-arc WITH POSS-1p-pl-arc HOMEWORK ARRIVE CAN HELP WITH HOMEWORK', 'ARRIVE #LATE WHO ARRIVE', '(1h)TEND COMMUTE WORK BICYCLE WHO WORK BICYCLE', 'fs-BRIDE AND fs-GROOM IX-3p-pl-2:i/j DANCE LAST POSS-1p WEDDING CLOSE-DOOR HOW (1h)part:indef PICK POSS-1p fs-OWN MUSIC BUOY_2 DANCE LAST WEDDING CLOSE-DOOR HOW MUSIC', 'WHO FALL-IN-LOVE fs-BILL FALL-IN-LOVE', 'IX-1p TIRED (1h)WOW/AWFUL TIRED', '#IF IX-3p:i fs-BOB (1)SEND POSS-3p:i RESUME FUTURE GET WORK BUOY RESUME GET WORK', 'IX-2p GRADUATE #HS #WHEN GRADUATE', 'IF LEARN+AGENT IX-3p:i HEAR/LISTEN TEACH+AGENT FUTURE LEARN SOMETHING/ONE LEARN AGENT TEACH AGENT LEARN', '#IF POSS-1p FRIEND GROUP/TOGETHER GO-OUT IX-1p FUTURE JOIN FRIEND GROUP/TOGETHER JOIN', 'FRIEND PLAN+ SURPRISE fs-BOB (25)WHY IX-3p:i fs-BOB SOON AGE-TWENTY-ONE FRIEND PLAN+ SURPRISE BUOY', 'HAVE HOMEWORK MUST WRITE THREE BOOK-PAGE (1)REPORT part:indef HAVE HOMEWORK WRITE BOOK-PAGE (1)REPORT part:indef', '#IF POSS-1p FRIEND PROCEED BRAVE/RECOVER ASK DIRECT/EXPLAIN WHERE IX-1p MUST ACCEPT DRIVE IX-1p FRIEND PROCEED BRAVE/RECOVER DIRECT/EXPLAIN ACCEPT DRIVE', 'IX-3p:i WANT_2 NONE/NOTHING_2 DOUBT IX-1p NONE/NOTHING_2 dismissive gesture WANT_2 NONE/NOTHING_2 dismissive gesture', 'RECENT-PAST IX-2p BUY GIFT FOR POSS-2p MOTHER IX-3p:i FUTURE KISS-FIST BUY GIFT BUOY', 'WHEN IX-1p TRIP ARRIVE ns-INDIA IX-1p MUST WRITE PAPER-CHECK/CARD (2h)SEND/MAIL MOTHER+FATHER THANK-YOU+ IX-3p:i i:HELP-1p SUPPORT MONEY TRIP WHEN ARRIVE WRITE PAPER-CHECK/CARD (2h)SEND/MAIL THANK-YOU+ i:HELP-1p SUPPORT MONEY', 'START WORK IX-2p #WHEN START WORK', 'IX-3p-pl-2:i/j fs-JEN fs-JOE MARRY IX-3p-pl-2:i/j QMwg MARRY', 'ORDER PIZZA_4 HERE GUARANTEE DELICIOUS HERE GUARANTEE', '#ALL_2 LEARN+AGENT ARRIVE ON TIME NONE TEST LEARN AGENT ARRIVE ON TIME NONE TEST', 'SURPRISE (P)PARTY+ IX-loc:i TIME START part:indef SURPRISE (P)PARTY+ TIME START part:indef', 'fs-SUE IX-3p:i MOVE WHERE++ MOVE', '#NO++ POSS-1p ROOMMATE NOT (1h)GRAB RECENT-PAST HAVE EAT+MORNING WITH IX-3p:i part:indef ROOMMATE MORNING WITH part:indef', 'POSS-1p FRIEND PROCEED CROWD (5)CRASH (P)PARTY (25)WHY RECENT-PAST FINISH LAST fs-EXAM FRIEND PROCEED CROWD (5)CRASH (P)PARTY FINISH LAST', 'IX-2p ARTICLE IX-2p WRITE FOR ns-BOSTON fs-GLOBE IX-1p READ WOW (1h)GOOD/THANK-YOU IX-3p:i ARTICLE WRITE READ', 'NOW+AFTERNOON+ IX-1p FUTURE GO SELL+ NOW AFTERNOON+ GO SELL+', 'SISTER IX-loc:i #IF++ IX-3p:i NEGLECT++ HOME+WORK REFUSE SUCCEED IN SCHOOL (1h)part:indef SISTER NEGLECT++ WORK SUCCEED IN SCHOOL', '#IF POSS-1p FAMILY IX-loc:i DECIDE NOT TAKE-UP fs-PUPPIES POSS-1p FRIEND IX-3p:j FUTURE IX-3p:j MAYBE FAMILY DECIDE TAKE-UP FRIEND BUOY MAYBE', 'fs-JOHN IX-loc:i BREAK WINDOW+ BREAK WINDOW+', 'IX-3p:i fs-MARY STOP ROWING wave no IX-3p:i NEVER ROWING UP-TO-NOW NOW STOP ROWING UP-TO-NOW NOW', 'GO-OUT SNOW+ STOP SCHOOL FUTURE fs-RE+OPEN TOMORROW SNOW+ STOP SCHOOL OPEN', 'FRIEND KISS-FIST GO-OUT FISHING (25)WHY IX-3p:i LOVE EAT (1h)FISH FRIEND FISHING LOVE', 'FRIEND IX-loc:i (P)PARTY (1h)GOOD/THANK-YOU QMwg FRIEND (P)PARTY', \"IDEA REALLY MORE TWO DIFFERENT SEPARATE ROAD SET-UP ON let's see FIRST-IN-LIST STORY SYSTEM HOW EXPRESS MORE DIFFERENT SEPARATE ROAD SET-UP ON let's see FIRST-IN-LIST STORY SYSTEM HOW EXPRESS\", 'ASK DIRECT/EXPLAIN part:indef WHO part:indef DIRECT/EXPLAIN part:indef', '(Y)YESTERDAY IX-1p PLAY GOLF NONE/NOTHING PLAY GOLF NONE/NOTHING', '#IF+ fs-JOHN SMILE MEAN GET WORK+ IX-3p:i SMILE MEAN GET WORK+', '#NO++ IX-3p:i NOT VEGETABLE IX-3p:i EAT MEAT YES MEAT', 'WHO ARRIVE LATE+ part:indef WHO ARRIVE part:indef', 'fs-BOB IX-loc:i READ (1h)DO-DO READ', 'IX-1p LOVE ACTION MOVIE NOT BORE fs-DRAMA (1h)FORGET-IT LOVE ACTION MOVIE', 'wave no IX-1p GO-OUT HANDSOME/ns-HAWAII_2+ FOR SPRING TAKE-BREAK SPRING TAKE-BREAK', 'FRIEND PLAY FRISBEE WHERE IX-loc:i fs-PARK (1h)TEND PLAY FRISBEE FRIEND PLAY BUOY PLAY', 'IX-1p #WHEN IX-1p INTRODUCE FRIEND FUTURE TEST IX-2p REMEMBER POSS-3p:i NAME LATER_2 INTRODUCE FRIEND TEST REMEMBER NAME', 'wave no NOW THURSDAY+ MEAN TOMORROW FRIDAY+ NOW MEAN', 'fs-BOB IX-loc:i (1h)VOMIT/HATE READ BOOK+ READ BOOK+', 'BOX/ROOM SMALL NOT BOX/ROOM SMALL', 'IX-1p WORK+', '#IF FRIEND IX-loc:i TAKE-UP PIZZA_4 EAT+NIGHT+ IX-1p BRING round flat (1h)BAKING-SPRINKLES FUTURE IX-1p FRIEND TAKE-UP NIGHT+ BRING round flat', '#NO IX-1p NOT LIKE PINEAPPLE fs-CREAM CHEESE IX-1p FAVORITE/PREFER+ fs-LOX CHEESE', 'MOST FOCUS/NARROW ns-AMERICA CULTURE GIFT MEAN INTERPRET TO/UNTIL DIFFERENT-arc NOISE VOICE+ MOST FOCUS/NARROW ns-AMERICA CULTURE GIFT MEAN INTERPRET TO/UNTIL DIFFERENT-arc NOISE', 'BELOW_2 ON IDEA HOW fs-HUMAN LANGUAGE EXPRESS BELOW_2 ON HOW LANGUAGE EXPRESS', '#IF fs-BOB IX-3p:i SEND RESUME GUARANTEE GET #JOB SEND RESUME GUARANTEE GET', 'GO-OUT TIE_2+FISHING WHO TIE_2 FISHING', 'IX-1p (1h)TEND COMMUTE BICYCLE GO-OUT WORK (25)WHY IX-1p CANNOT AFFORD fs-CAR IX-1p BICYCLE WORK CANNOT AFFORD', 'IX-1p MOVE-AWAY #OUT ns-#SD (2h)#FUCK IX-1p NOT READY IX-1p STAY MOVE-AWAY (2h)#FUCK READY STAY', 'HUSBAND WIFE DANCE POSS-3p:i LAST MUSIC EACH+ONE many people look at them QUIET HUSBAND WIFE DANCE LAST MUSIC EACH many people look at them QUIET', 'FRIEND LOVE INTERNET SURF-INTERNET REALLY+WORK+ QMwg FRIEND LOVE INTERNET WORK+', 'FRIEND GROUP/TOGETHER #FUCK NOT (5)CRASH (P)PARTY FRIEND GROUP/TOGETHER (5)CRASH (P)PARTY', '(2h)HORSE IX-loc:i TEND PLAY-continuative WHERE (2h)HORSE TEND PLAY-continuative', '(G/Q)POSS-1p FRIEND IX-LOC:i BRAVE/RECOVER PROCEED ASK DIRECT/EXPLAIN WHERE IX-1p FUTURE FINE DRIVE FRIEND BRAVE/RECOVER PROCEED DIRECT/EXPLAIN DRIVE', 'BAD (5)WEATHER clouds rolling in ns-BOSTON WHEN (5)WEATHER clouds rolling in WHEN', 'IX-1p MUST TAKE-UP TEST_2 AGAIN TAKE-UP TEST_2 AGAIN', 'FIRST-IN-LIST THROUGH_2 (2h)TALKwg FIRST-IN-LIST THROUGH_2 SIGN+ ROAD THAT IDEA SET-UP:i SET-UP:j FIRST-IN-LIST THROUGH_2 (2h)TALKwg FIRST-IN-LIST THROUGH_2 SIGN+ ROAD SET-UP:i SET-UP:j', 'IX-2p START TRIP #WHEN (1h)part:indef START', 'BUT FOR THINK+MEAN THIS_2 FOCUS/NARROW ON TWO (nd-1)FIRST-AND-SECOND-IN-LIST BUT MEAN THIS_2 FOCUS/NARROW ON (nd-1)FIRST-AND-SECOND-IN-LIST', 'CAT IX-3p:i POSS-1p (1h)NEXT-TO IX-3p:j FIND/FIND-OUT IX-3p:i (Y)WOW HUNGRY/WISH SMALL', 'POSS-1p GIRL+CORRECT IX-3p:i FAVORITE/PREFER WATER+TUBING IX-loc:i THAN SKI (25)WHY (1h)part:indef TUBING EASY+(1h)MOST CORRECT TUBING THAN SKI TUBING EASY', 'POSS-1p (2h)alt.LONG-AGO (2h)LONG-PAST FROM WHERE ns-nat-GERMANY (2h)alt.LONG-AGO (2h)LONG-PAST FROM', 'TEACH+AGENT IX-3p:i REQUIRE IX-3p:j fs-JOHN MUST READ+ BOOK TEACH AGENT REQUIRE READ+ BOOK', 'TEACH+AGENT REQUIRE fs-JOHN IX-3p:i FUTURE READ BOOK+ TEACH AGENT REQUIRE READ BOOK+', '#IF fs-BOB IX-3p:i PROCEED TAKE-UP WIDE DOG MUST ACCEPT (flat-O)PAY/SPEND fs-DOG EAT+ PROCEED TAKE-UP WIDE ACCEPT (flat-O)PAY/SPEND', 'IX-1p HAVE APPOINTMENT (1h)NOW+AFTERNOON_2 WITH (crvd-5)POSS-1p TEACH+AGENT HAVE APPOINTMENT AFTERNOON_2 WITH TEACH AGENT', 'IX-1p NOT THINK IX-3p:i PLAN GO part:indef IF+ SEE part:indef IX-1p FUTURE (1h)INFORM i:CALL-BY-PHONE:j IX-2p PLAN GO part:indef', 'IX-2p WORK START #WHEN WORK START', 'fs-JACK fs-SUE MEET FINISH MEET FINISH', '#IF REALLY+WORK IX-1p COMMUTE+ WORK BICYCLE IX-1p MUST GET-UP EMPTY/EARLY+(1h)MOST (nd-1)BEFORE WORK BICYCLE GET-UP EMPTY/EARLY (nd-1)BEFORE', 'WHO MUST (P)PAY EVERY-MONTH/RENT+ (P)PAY EVERY-MONTH/RENT+', 'FRIEND MUST DRIVE (25)WHY IX-1p TIRED IX-1p FRIEND DRIVE TIRED', 'POSS-2p FRIEND GROUP/TOGETHER TRIP WHY++ (1h)part:indef FRIEND GROUP/TOGETHER', '#NO+ IX-1p RECENT-PAST #BACK_2 FROM DINNER IX-3p:i NONE/NOTHING ICE-CREAM IX-honorific:i FROM NONE/NOTHING', 'MUST (1h)(flat-O)PAY/SPEND (1h)DO-DO IX-2p', 'FRIEND DELIBERATE DECIDE NOT (5)CRASH (P)PARTY FRIEND DELIBERATE DECIDE (5)CRASH (P)PARTY', 'MAN WHO throw out of plane AIRPLANE WHO IX-3p:i fs-ALEC-BALDWIN throw out of plane', 'POSS-1p MOTHER IX-loc:i (1h)HAVE TIME+ FUTURE BRING COOKIE IX-3p:i TIME+ BRING COOKIE', 'IX-1p ARRIVE SCHOOL+ fs-LATE (25)WHY IX-1p BICYCLE (5)ACCIDENT ARRIVE SCHOOL+ BICYCLE (5)ACCIDENT', 'POSS-1p FATHER IX-loc:i PLAY VIDEO-GAME IX-1p (1h)TEND (1h)FORGET-IT IX-1p GO-OUT POSS-1p BOX/ROOM (25)WHY POSS-1p FATHER FEEL BORE KNOW+(1h)NEG HOW PLAY VIDEO-GAME KNOW+(1h)NEG IX-loc:i PLAY VIDEO-GAME BOX/ROOM HOW PLAY VIDEO-GAME', 'FRIEND GROUP/TOGETHER PLAN SURPRISE fs-BOB WHY++ fs-BOB IX-loc:i AGE-TWENTY-ONE_2 IX-3p:i FRIEND GROUP/TOGETHER PLAN SURPRISE BUOY', '#IF IX-1p INVITE/HIRE IX-3p:i PEOPLE IX-3p-pl-arc POP-UP fs-LATE IX-3p-pl-arc SORRY FUTURE IX-3p:i PEOPLE POP-UP', \"#IF POSS-1p BOSS IX-loc:i SUMMON IX-1p listen up GUARANTEE EACH+ONE-pl-arc ' KNOW-THAT IX-1p IN TROUBLE SUMMON GUARANTEE EACH ' IN TROUBLE\", 'fs-PHIL (1h)HAVE KID CHILDREN (1h)HOW-MANY/MANY CHILDREN', 'WHEN FRIEND i:CALL-ON-RELAY/VRS-1p #VP LIGHT LIGHT-FLASH WHEN FRIEND i:CALL-ON-RELAY/VRS-1p LIGHT-FLASH', 'INTERNET IX-2p LAPTOP TYPE WHAT IX-2p INTERNET LAPTOP TYPE', 'IF+ (2h)IX-2p WANT+NEG PIZZA_4 CAN ORDER SPAGHETTI (2h)IX-2p WANT NEG CAN SPAGHETTI', 'POSS-1p SISTER i:BLAME-1p IX-1p exasperation IX-1p INNOCENT exasperation SISTER i:BLAME-1p exasperation INNOCENT exasperation', '#NO+ IX-1p RECENT-PAST #BACK_2 FROM DINNER IX-3p:i NONE/NOTHING ICE-CREAM IX-honorific:i FROM NONE/NOTHING', 'IX-3p:i DOG CHASE CAT THAT IX-3p:i #DOG IX-3p:i NOT POSS-1p+ IX-3p:i CHASE IX-3p:i', 'SELF-3p:i+ MOVIE REALLY SCARE+ BUOY MOVIE SCARE+', '#IF IX-3p:i FRIEND IX-loc:i FINISH HOMEWORK+ EMPTY/EARLY GUARANTEE LAPTOP TYPE INTERNET ALL-NIGHT (1h)part:indef FRIEND FINISH HOMEWORK+ EMPTY/EARLY GUARANTEE LAPTOP TYPE INTERNET ALL-NIGHT', 'WHY IX-2p WORK ALL-NIGHT WHY part:indef WORK ALL-NIGHT part:indef', 'DIFFERENT EXPERIENCE BELONG WITH MEAN DIFFERENT BELONG WITH MEAN', 'HUNGRY/WISH HAVE PINEAPPLE fs-CREAM CHEESE HAVE CHEESE', 'BOY+ NEVER GO-OUT HOME (1h)part:indef', 'fs-BILL PLAN (1h)MOVE ns-NEW-YORK QMwg PLAN ns-NEW-YORK', 'FRIEND GO-OUT (P)PARTY FRIEND (P)PARTY', 'IF IX-1p ARRIVE WORK LATE POSS-1p BOSS FUTURE FIRED IX-1p (1h)part:indef ARRIVE WORK FIRED', 'WHO SICK WHO SICK', 'PLEASE/(1h)ENJOY+ IF HURRICANE+ GAME+ DECIDE CANCEL/CRITICIZE HURRICANE+ GAME+ DECIDE CANCEL/CRITICIZE', '#IF+ IX-1p+ GO HEARING SCHOOL IX-1p (nd-1)LOOK-AROUND WHY NONE/NOTHING COMMUNICATE part:indef GO SCHOOL (nd-1)LOOK-AROUND NONE/NOTHING COMMUNICATE part:indef', '#IF FRIEND PLAY FRISBEE IX-1p FUTURE JOIN PLAY IX-1p FRIEND PLAY JOIN PLAY', '#IF IX-1p ENJOY CHAT:i WITH IX-3p-pl-2:i/j MEAN IX-1p MUST CHAT:k #ALL fs-BU ENJOY CHAT:i WITH MEAN CHAT:k', 'FRIEND GO-OUT TRIP FRIEND', 'FRIEND IX-3p-pl-arc (1h)TEND TYPE LAPTOP INTERNET FRIEND TYPE LAPTOP INTERNET', 'FRIEND NOT-YET GROUP/TOGETHER group go together fs-BEACH NOT-YET+ FRIEND GROUP/TOGETHER group go together', 'IX-2p (1)SEND LETTER/MAIL_2 WHO LETTER/MAIL_2', 'THAT MAN fs-JIM PUNCH IX-loc:i THREAT AGAINST IX-3p:j IX-3p:i BUOY THREAT AGAINST', '#IF REALLY+WORK AUNT MAKE BLUE+fs-BERRY PIE FINISH ZOOM-OFF HOME GOBBLE-UP WORK MAKE PIE FINISH ZOOM-OFF GOBBLE-UP', 'IX-2p WANT_2 #VP WHERE (1h)part:indef WANT_2', 'IX-1p WARM wave no IX-1p COLD_2', 'FUTURE GO-OUT #PO (1h)part:indef WHO (1h)part:indef', 'AUNT IX-loc:i NOT EXPERT MAKE+ APPLE PIE MAKE+ PIE', 'FRIEND IX-loc:i KISS-FIST LAPTOP TYPE INTERNET FRIEND LAPTOP TYPE INTERNET', '#WHEN TEACH+AGENT IX-3p:i FINISH NICE/CLEAN CLASS+BOX/ROOM (1h)TEND IX-3p:i LOCK (nd-1)GATE TEACH AGENT FINISH NICE/CLEAN CLASS BOX/ROOM LOCK (nd-1)GATE', 'MUST #VP WHY++ (1h)part:indef CAN TEXTING part:indef CAN TEXTING part:indef', 'IX-1p+ LOVE MOVIE_2++ POSS-1p FAVORITE/PREFER++ WHAT fs-COMEDY #OR MONSTER MOVIE_2+ LOVE MOVIE_2++ WHAT MONSTER MOVIE_2+', 'IX-3p:i WANT+NEG NONE/NOTHING_2 (1h)part:indef WANT NEG NONE/NOTHING_2', '#IF+ IX-1p GO-OUT EAT WHO (P)PAY part:indef (P)PAY part:indef', 'WHO ACCEPT IX-3p:i BIG fs-DOG IX-loc:i ACCEPT BIG', 'HUSBAND WIFE DANCE POSS-3p WEDDING WHY HUSBAND WIFE DANCE WEDDING', 'TEACH+AGENT IX-loc:i SICK-OF NICE/CLEAN+ CLASS+BOX/ROOM TEACH AGENT SICK-OF NICE/CLEAN+ CLASS BOX/ROOM', 'FRIEND GROUP/TOGETHER GO-OUT (P)PARTY+ FRIEND GROUP/TOGETHER (P)PARTY+', 'THAT STUDENT ON fs-QUIZ ACT IX-3p:i THAT IX-loc:i NOT WIN IX-3p:i (1h)part:indef STUDENT ON ACT WIN', 'IX-1p NOTHING-AT-ALL CAR part:indef CAR part:indef', 'IX-1p MUST DISCUSS HOW IX-1p CONFRONT TEACH+AGENT REGULAR part:indef DISCUSS HOW CONFRONT TEACH AGENT REGULAR part:indef', 'wave no THAT NOT fs-SARAH-JESSICA-PARKER THAT fs-WAS fs-SARAH-PALIN DIFFERENT++', 'IX-1p RECENT-PAST READ+ BOOK NOTICE ONE BOOK-PAGE+ missing page READ+ BOOK NOTICE BOOK-PAGE+ missing page', \"FRIEND IX-loc:i ' GO-OUT LOOK (nd-1)MOVIE WHO JOIN FRIEND ' (nd-1)MOVIE JOIN\", '#IF 1p-LOOK SEE THAT fs-BEACH IX-3p-pl-arc CROWDED PEOPLE IX-1p (1h)FORGET-IT IX-1p WANT+NEG GO-OUT CROWDED PEOPLE WANT NEG', '#NO++ IX-3p:i NOT VEGETABLE IX-3p:i EAT MEAT YES MEAT', 'IX-1p WORK IX-1p WORK', 'IX-3p:i WANT+NEG IX-1p DOUBT IX-1p THINK IX-3p:i WANT NEG WANT', 'POSS-1p FRIEND IX-3p:i person passed out PAST+NIGHT PARTY-HARD WOW (25)WHY POSS-3p:i BIRTHDAY FRIEND person passed out NIGHT PARTY-HARD', '#WHEN IX-3p:i FRIEND CALL-BY-PHONE IX-1p IX-loc:i #VP (1h)TEND LIGHT-FLASH++ friend FRIEND LIGHT-FLASH++', '#NO++ BEAUTIFUL sky up there SUNSHINE WARM (2h)SHINE BEAUTIFUL part:indef (2h)SHINE (1h)part:indef part:indef', 'IX-2p FINISH WORK WHEN IX-2p FINISH WORK WHEN', '#WHEN IX-3p:i fs-BOB (2h)alt.FIRE IX-1p FUTURE RAKE fs-LOGS FEED+ (2h)alt.FIRE++ (2h)alt.FIRE RAKE FEED+ (2h)alt.FIRE++', 'THAT VIDEO-GAME IX-loc:i NOT LIKE (25)WHY (1h)part:indef VIDEO-GAME BUOY', 'GO-OUT+ SNOW SCHOOL QMwg CLOSE-DOOR part:indef SNOW SCHOOL CLOSE-DOOR part:indef', 'fs-JEN fs-JOE IX-3p-pl-2:i/j MARRY QMwg MARRY', '#NO++ IX-1p RECENT-PAST FINISH HOMEWORK IX-1p FINISH HOMEWORK', 'IX-2p (1h)TEND CHAT WITH fs-JESSICA AND fs-DONNA (1h)DO-DO (25)WHY WITH', 'fs-LIZ SISTER IX-3p:i FAMOUS WHO SISTER FAMOUS', 'fs-NETFLIX RECENT-PAST SEND IX-1p recieve DVD fs-DVD DVD (1h)SCRAPE (1h)part:indef SEND recieve DVD DVD', '(5)POSS-1p FATHER IX-3p:i LAZY IX-3p:i REFUSE MOW+ REFUSE BUOY MOW+', '#IF IX-3p:i NOT BORE IX-1p FUTURE READ IX-1p part:indef READ part:indef', 'person passed out (2h)DRUNK PAST_2+NIGHT (25)WHY (1h)part:indef person passed out (2h)DRUNK NIGHT', 'NONE/NOTHING_2 CAR IX-1p part:indef NONE/NOTHING_2 CAR part:indef', 'IX-1p WORK ALL-NIGHT (25)WHY IX-1p WANT_2 SHOULD+ fs-EXTRA MONEY+ WORK ALL-NIGHT WANT_2 MONEY+', 'FRIEND group go together DIFFERENT MOVIE WHY IX-3p:i FAVORITE/PREFER ACTION MOVIE FRIEND group go together DIFFERENT MOVIE ACTION MOVIE', '#IF AUNT REALLY+WORK PROCEED MAKE+ BLUE BERRY PIE wave no IX-1p MUST GO eat with two forks (2h)alt.EAT WORK PROCEED MAKE+ BERRY PIE wave no GO eat with two forks (2h)alt.EAT', 'wave no SERIOUS CAR BREAK-DOWN IX-1p (1h)KEY++ CORRECT part:indef CAR BREAK-DOWN CORRECT part:indef', '#NO++ CLASS NEXT-WEEK HAVE CLASS NEXT-WEEK HAVE', 'FRIEND IX-3p:i GROUP/TOGETHER group go together fs-BEACH people tanning SUN TAN woah IX-1p MUST BRING squeeze lotion rub lotion applying lotion NONE/NOTHING (2h)#BURN FRIEND GROUP/TOGETHER group go together people tanning woah BRING squeeze lotion rub lotion applying lotion NONE/NOTHING (2h)#BURN', 'wave no POSS-1p+ MOTHER+ VOMIT/HATE SURPRISE+ wave no VOMIT/HATE SURPRISE+ wave no', 'FRIEND GROUP/TOGETHER group go together MOVIE_2 ACT+ WHO JOIN FRIEND GROUP/TOGETHER group go together MOVIE_2 ACT+ JOIN', '(crvd-L)POSS-1p FRIEND KISS-FIST LAPTOP TYPE INTERNET (25)WHY USE+ fs-GOOGLE fs-CHROME VERY-FAST FRIEND LAPTOP TYPE INTERNET USE+ VERY-FAST', 'STUDENT IX-loc:i REFUSE HEAR/LISTEN TEACH+AGENT IX-3p:i STUDENT TEACH AGENT', 'REALLY A-LOT INCLUDE/INVOLVE TO/UNTIL FULL IN THAT GROUP/TOGETHER MAJOR A-LOT INCLUDE/INVOLVE TO/UNTIL FULL IN GROUP/TOGETHER MAJOR', '#NO IX-1p NOT AFRAID fs-OF HIGH part:indef DO-DO MAKE IX-2p THINK THAT (1h)part:indef AFRAID part:indef DO-DO MAKE', 'ASK FOR DIRECT part:indef WHO DIRECT part:indef IX-3p-honorific:i', 'FRIEND IX-loc:i KISS-FIST GO (1h)FISHING++ (25)WHY LOVE NEW FISH FOR EAT+NIGHT+ FRIEND GO LOVE NEW FISH NIGHT+', 'POSS-2p:i FAMILY VACATION EVERY-YEAR (1h)TEND WHERE FAMILY VACATION EVERY-YEAR', 'IX-1p WARM LATER_2 HOT', 'THAT (1h)EXPAND EXPERIENCE COOPERATE/UNITE (1h)FIRST-IN-LIST (1h)SECOND-IN-LIST COOPERATE/UNITE', '#IF (2h)HORSE PLAY-continuative FARM running NIGHT+ READY BED FUTURE PASS-OUT_3 (2h)HORSE PLAY-continuative running NIGHT+ READY', 'WHO SICK', '#IF POSS-1p FRIEND IX-3p:i START VIDEO-GAME CONTINUE TO/UNTIL eyes falling out FOR REALLY FRIEND START VIDEO-GAME CONTINUE TO/UNTIL eyes falling out', 'FRIEND WANT_2 BUY PLAID (2h)SHIRT FRIEND WANT_2 BUY (2h)SHIRT', 'STUDENT IX-3p:i WIN TROPHY IX-loc:i GET ONE+HUNDRED DOLLAR_2 PAPER-CHECK/CARD STUDENT WIN TROPHY GET DOLLAR_2 PAPER-CHECK/CARD', 'KNOW WHO KISS-FIST LOOK FIREWORKS QMwg FIREWORKS', 'BRACELET POSS-1p BROTHER RECENT-PAST FIND/FIND-OUT THAT BRACELET REALLY+WORK GOLD/ns-CALIFORNIA circular bracelet wow BRACELET BROTHER BRACELET WORK circular bracelet', 'IF+ RAIN TOMORROW IX-1p ARRIVE UNCLE HOUSE STAY IN+ RAIN ARRIVE HOUSE STAY IN+', 'KNOW-THAT SOMETHING/ONE BUY CAR hey WHO++ BUY CAR', 'VIDEO-GAME IX-loc:i EASY BEAT_2 VIDEO-GAME EASY BEAT_2', 'POSS-1p FRIEND FISHING (1h)FISH IX-1p HURRY IX-1p bucket fill bucket move bucket FISH throw fish in bucket WHY++ FOR EAT+NIGHT FRIEND FISHING HURRY bucket fill bucket move bucket FISH throw fish in bucket NIGHT', 'fs-JACK (1h)HAVE (1h)(flat-O)PAY/SPEND+ QMwg (1h)part:indef', 'FRIEND TAKE-UP EAT+NIGHT+ round flat PIZZA_4 WHEN FRIEND TAKE-UP NIGHT+ round flat WHEN', '#WHEN REALLY+WORK MOVE-AWAY ns-#SD IX-1p MUST GET CAR LICENSE IX-1p WORK MOVE-AWAY GET CAR LICENSE', 'WANT #VP WHERE WANT', 'WHO GO-OUT #PO (1h)part:indef', 'CAT IX-3p:i POSS-1p (1h)NEXT-TO IX-3p:j FIND/FIND-OUT IX-3p:i (Y)WOW HUNGRY/WISH SMALL', 'WHO IX-3p-pl-arc FIND/FIND-OUT IX-1p KEY (1h)part:indef KEY', '#IF KID IX-loc:i PLAY-continuative fs-PARK IX-loc:i (1h)part:indef FUTURE TIRED LATER_2 AFTERNOON_3 PLAY-continuative TIRED AFTERNOON_3', 'IX-1p MOVE-AWAY ns-#SD (25)WHY (1h)part:indef NEW WORK (2h)IX-honorific:i MOVE-AWAY NEW WORK (2h)IX-honorific:i', 'IX-2p WANT #BBQ GROUP/TOGETHER WHAT IX-2p WANT GROUP/TOGETHER WHAT', \"#IF IX-1p DECIDE FORGET-IT IX-1p WANT+NEG SWIM fs-BEACH IX-1p DO-DO WATER shoreline IX-1p FUTURE SCL:3\\x94person walking at water\\x92s edge\\x94 DECIDE FORGET-IT WANT NEG SWIM DO-DO waves water's edge\", 'FRIEND GROUP/TOGETHER GO-OUT TRIP FRIEND GROUP/TOGETHER', 'COAT IX-2p RECENT-PAST BUY FACE WARM (Y)WOW COAT BUY', 'IX-1p LOVE GET-IN+ AIRPLANE (2h)alt.FLY-BY-PLANE DIFFERENT PLACE LOVE GET-IN+ (2h)alt.FLY-BY-PLANE DIFFERENT PLACE', '#NO++ (nd-1)MOVIE START TIME TEN++ (nd-1)MOVIE START TIME', 'fs-BOB GIVE SWEETHEART WHAT SWEETHEART WHAT', 'POSS-1p FRIEND (1h)WOW/AWFUL PLAY VIDEO-GAME ALL-DAY (25)WHY IX-loc:i DO-DO NOTHING FRIEND PLAY VIDEO-GAME ALL-DAY DO-DO NOTHING', '#IF fs-OJ IX-loc:i INNOCENT part:indef POSS-1p GRANDMOTHER CAN BICYCLE INNOCENT part:indef CAN BICYCLE', '(1h)GOOD/THANK-YOU WEATHER IX-loc:i ARRIVE ns-BOSTON (2h)NOT-YET HURRY part:indef WEATHER ARRIVE (2h)NOT-YET HURRY part:indef', 'fs-MARY GO COLLEGE WHICH+ GO COLLEGE WHICH+', 'COOK/KITCHEN EAT+NIGHT+ WHO COOK/KITCHEN NIGHT+', 'PEOPLE DIFFERENT-arc CULTURE NOT ONLY (2h)TALKwg DIFFERENT LANGUAGE PEOPLE DIFFERENT-arc CULTURE (2h)TALKwg DIFFERENT LANGUAGE', 'wave no fs-MITT-ROMNEY IX-3p:i SELF-3p+:i MORMON fs-RICK-PERRY IX-3p:j NOT IX-3p:j BUOY', 'FRIEND GROUP/TOGETHER group go together fs-BEACH FOR-FOR+ part:indef FRIEND GROUP/TOGETHER group go together (1h)part:indef part:indef', 'WHEN FRIEND IX-loc:i OVER-IT IX-1p switch seats IX-1p DRIVE IX-1p WHEN FRIEND OVER-IT switch seats DRIVE', 'FRIEND LOOK FORGET-IT GO-OUT BUT (nd-1)MOVIE (25)WHY IX-3p:i FAVORITE/PREFER ACTION fs-ACTION AND MONSTER fs-HORROR FRIEND GO-OUT BUT (nd-1)MOVIE ACTION MONSTER', 'FRIEND FINISH CAR QMwg FRIEND FINISH CAR', 'DRESS/CLOTHES ON #SALE WHERE DRESS/CLOTHES ON', 'VIDEO-GAME IX-loc:i EASY BEAT_2 QMwg VIDEO-GAME EASY BEAT_2', 'wave no IX-1p USE CORRECT (1h)KEY++ IX-loc:i CAR BREAK-DOWN USE CORRECT CAR BREAK-DOWN', 'wave no REFUSE RAIN you see #IF+ RAIN you know GAME+ FOR REALLY CANCEL/CRITICIZE RAIN you see RAIN you know GAME+ CANCEL/CRITICIZE', 'ARRIVE #LATE WHO ARRIVE', 'SOMETHING/ONE BUY CAR WHO part:indef BUY CAR part:indef', 'wave no NOT EAT COOKIE wave no IX-loc:i WITH BUTTER+ wave no ok  hey IX-1p LIKE BUT #IF IX-3p:i BUTTER+ IX-1p NOT-CARE (1h)part:indef wave no COOKIE wave no WITH BUTTER+ wave no ok  hey BUT BUTTER+', 'IX-2p WORK WHERE WORK', 'ns-#AA IX-loc:i well NOT EXPENSIVE part:indef #IF REALLY+WORK EXPENSIVE part:indef IX-1p STUCK WHY flying back and forth ns-BOSTON ns-#FLA ALONE ns-#AA (1h)part:indef well EXPENSIVE part:indef WORK EXPENSIVE part:indef BUOY', 'COAT IX-2p RECENT-PAST BUY FACE WARM (Y)WOW COAT BUY', '#VP CLEAR', 'IX-1p WANT+NEG BUY SHORTS IX-1p WANT NEG BUY SHORTS', \"#IF DRESS/CLOTHES ON #SALE GUARANTEE FRIEND IX-1p-pl-arc ' GO-OUT fs-MALL DRESS/CLOTHES ON GUARANTEE FRIEND '\", \"IX-1p NOT LIKE TALKwg ASK FOR DIRECT IX-3p:i I don't know IX-1p NOT LIKE IX-1p DIRECT I don't know\", 'FRIEND PLAY FRISBEE (2h)NOT-YET FRIEND PLAY (2h)NOT-YET', '(1h)HAPPY+ NOT (1h)HAPPY+ #NO+', 'HOW-MANY CHILDREN fs-PHIL HAVE (1h)part:indef HOW-MANY CHILDREN HAVE', 'IX-1p LOOK MOVIE PAST+NIGHT IX-1p AFRAID (1h)WOW/AWFUL MOVIE NIGHT AFRAID', 'BUT MAYBE MORE IMPORTANT emphasis LIVE IN DIFFERENT fs-SENSORY WORLD BUT MAYBE MORE IMPORTANT emphasis LIVE IN DIFFERENT WORLD', 'ARRIVE fs-LATE FINE IX-1p MUST CALL-BY-PHONE IX-3p:i RESTAURANT POSTPONE APPOINTMENT ARRIVE POSTPONE APPOINTMENT', 'PAST MONDAY IX-1p you know KNOW-THAT FUTURE RAIN NEXT fs-DAY RAIN NEXT', 'IX-1p NOT', 'NOW+ ECONOMIC CRISIS NOW+ ECONOMIC CRISIS NOW+', 'FRIEND SCL:crvd-5\\x94group go together\\x94 GO-OUT (nd-1)MOVIE ACT IX-loc:i (2h)NOT-YET (25)WHY TRAFFIC_2 FRIEND SCL:crvd-5\\x94group go together\\x94 (nd-1)MOVIE ACT (2h)NOT-YET TRAFFIC_2', 'fs-SUE IX-3p:i MOVE WHERE++ MOVE', 'IN NINETEEN EIGHTY-TWO IX-3p:i WRITE QUOTE/TOPIC IN WRITE QUOTE/TOPIC', 'POSS-1p FRIEND FAVORITE/PREFER #VP TEXTING_3 (1h)FORGET-IT (25)WHY CAN USE-SIGN-LANGUAGE #ASL FRIEND TEXTING_3 CAN USE-SIGN-LANGUAGE', 'IX-3p:i fs-MARY IX-loc:i NOT (1h)HAPPY IX-3p:i (1h)part:indef IX-3p-pl-arc NONE/NOTHING_2+ONE (1h)HAPPY part:indef NONE/NOTHING_2 part:indef', 'IX-1p FINISH KNOW+ HAVE PINEAPPLE fs-CREAM CHEESE+ FINISH HAVE CHEESE+', '#WHEN IX-1p-pl-arc ARRIVE ns-INDIA IX-loc:i MUST 1p-SEND/MAIL:j FAMILY PAPER-CHECK/CARD THANK-YOU+ FOR SUPPORT+ ARRIVE FAMILY PAPER-CHECK/CARD THANK-YOU+ SUPPORT+', 'fs-JOHN IX-loc:i NOT SEE IX-1p NONE/NOTHING', '(25)WHY IX-1p WORK ALL-NIGHT (25)WHY (1h)part:indef WORK ALL-NIGHT', 'IX-2p (1h)VOMIT/HATE VIDEO-GAME IX-loc:i (25)WHY IX-loc:i VIDEO-GAME', 'WHO (1h)ACCEPT IX-3p:i BIG #DOG BUOY BIG', 'IX-1p THINK (Y)WOW BORE IX-1p', '#IF+ IX-2p FIND/FIND-OUT (G/Q)POSS-1p KEY around here NOT-MIND+ 2p-GIVE-1p KEY', 'POSS-1p SISTER HATE WATER SKI (25)WHY HARD skiing back and forth BALANCE HARD SISTER HATE SKI HARD skiing back and forth BALANCE HARD', '#IF FATHERwg IX-loc:i ARRIVE HOME fs-LATE IX-3p:j REFUSE REASON IX-3p:j NOT fs-AT HOME ARRIVE', 'MUST (P)PAY EVERY-MONTH/RENT WHO (P)PAY EVERY-MONTH/RENT', 'IX-2p GRADUATE #HS WHEN GRADUATE WHEN', '#IF++ RAIN TOMORROW WHEN ARRIVE UNCLE HOUSE STAY IN++ RAIN WHEN ARRIVE HOUSE STAY IN++', 'GO-OUT+ SNOW+ SCHOOL FUTURE CANCEL/CRITICIZE QMwg SNOW+ SCHOOL CANCEL/CRITICIZE', 'WHO FUTURE GO #PO GO', 'FRIEND NOW SURF-INTERNET INTERNET FRIEND NOW INTERNET', 'wave no PINEAPPLE fs-CREAM CHEESE wave no BETTER fs-LOX IX-1p hands off wave no CHEESE wave no hands off', 'IX-1p (1h)TEND WORK-OUT+ OVER/AFTER CLASS WORK-OUT+ OVER/AFTER CLASS', 'IX-2p MUST MOVE-AWAY ns-#SD (25)WHY (1h)part:indef MOVE-AWAY', 'wave no fs-MITT-ROMNEY IX-3p:i SELF-3p+:i MORMON fs-RICK-PERRY IX-3p:j NOT IX-3p:j BUOY', 'YESTERDAY ALL-DAY IX-1p WORK++ ALL-DAY WORK++', 'fs-JOHN IX-loc:i NOT BUY TURKEY #NO+ IX-3p:j fs-JAMES BUY TURKEY BUY', '#IF fs-BOB IX-loc:i MAKE-IT SURPRISE POSS-2p SURPRISE (P)PARTY WOW+ IX-1p APPLAUSE POSS-1p FRIEND IX-loc:j (25)WHY IX-3p:i fs-BOB IX-loc:i HARD SURPRISE HARD MAKE-IT SURPRISE (P)PARTY APPLAUSE FRIEND HARD SURPRISE HARD', \"MOTHER #OK-1p IX-1p GO-OUT GUITAR IX-1p THRILL/WHAT'S-UP GUITAR THRILL/WHAT'S-UP\", 'REALLY SELF-3p:i+ OLD NOT IMPORTANT (1h)part:indef BUOY IMPORTANT', \"TEACH+AGENT NOT REQUIRE BOOK READ DROP IX-3p:i fs-JOHN FUTURE READ BOOK I don't know TEACH AGENT REQUIRE BOOK READ DROP READ BOOK I don't know\", 'wave no IX-1p NEVER RUN fs-MARATHON PAST wave no IX-1p NOT PLAN START NOW whoa RUN PLAN START NOW whoa', 'IX-1p 1p-ASK:i POSS-1p TEACH+AGENT FOR SOME ADVISE/INFLUENCE IX-1p DISCUSS++ part:indef TEACH AGENT SOME ADVISE/INFLUENCE DISCUSS++ part:indef', 'FINE wave no ns-MCDONALD IX-loc:i VERY-FAST EAT RESTAURANT IX-3p:i (2h)GIVE-distributive HAMBURGER part:indef ns-MCDONALD VERY-FAST (2h)GIVE-distributive HAMBURGER part:indef', 'GO-OUT+ RAIN wave no (1)TEMPERATURE-DROP SNOW RAIN wave no (1)TEMPERATURE-DROP SNOW', 'STUDENT IX-loc:i REFUSE HEAR/LISTEN TO/UNTIL TEACH+AGENT (1h)part:indef STUDENT BUOY TO/UNTIL TEACH AGENT', 'WHO (1h)(flat-O)PAY/SPEND fs-RENT WHO', 'wave no IX-1p GO-OUT HANDSOME/ns-HAWAII_2+ FOR SPRING TAKE-BREAK SPRING TAKE-BREAK', 'FINISH BUY CAR+ WHO FINISH BUY CAR+', 'FRIEND group go together WATCH-TV BUT (nd-1)MOVIE (25)WHY IX-3p:i FAVORITE/PREFER SOMETHING/ONE DIFFERENT (1h)part:indef FRIEND group go together BUT (nd-1)MOVIE DIFFERENT', '(alt-G/bent-L)POSS-1p SISTER LIKE ns-BOSTON (2h)KNOW+NEG SISTER (2h)KNOW NEG', 'fs-BOB IX-loc:i NOT-YET GO #PO IX-3p:i GO', 'IX-2p NOT LIE-DOWN DRUNK IX-2p LIE-DOWN', 'IX-3p:i PARK RED STOPLIGHT CAR (3)ACCIDENT IX-3p:i+ USE PHONE (1h)part:indef PARK CAR (3)ACCIDENT USE', 'IF+ SON BORN TOMORROW BORN YEAR TWO_2+ZERO+THIRTEEN (1h)part:indef SON BORN YEAR', 'BUY CAR WHO part:indef BUY CAR part:indef', 'IX-1p+ NOT EXPERT REMEMBER+ NEW PEOPLE NAME part:indef REMEMBER+ NEW PEOPLE NAME part:indef', 'BOY+ ARRIVE HOME ARRIVE', 'IX-3p:i BUY CAR WHAT KIND BUY CAR WHAT KIND', '(G/Q)POSS-1p OFFICE POSS-1p BOSS WORK ABOVE IX-loc:i+ OFFICE WORK ABOVE', 'NOTICE OH-I-SEE IX-3p:i BABY (1h)VOMIT/HATE FIREWORKS CRY++ NOTICE BABY FIREWORKS CRY++', 'UNDERSTAND+ IX-3p:i (2h)TALKwg MINOR (1h)HAVE ADD-TO USE GESTURE SAME ALSO SIGN+ MAJOR (1h)HAVE ADD-TO USE TWO VOICE+ (1h)CURRENT-TOPIC (2h)TALKwg MINOR ADD-TO USE GESTURE ALSO SIGN+ MAJOR (1h)HAVE ADD-TO USE IX-3p:j IX-honorific:j', 'FRIEND SCL:crvd-5\\x94group go together\\x94 fs-BEACH FOR-FOR+ (1h)part:indef FRIEND SCL:crvd-5\\x94group go together\\x94', 'IF+ fs-JACK HAVE WIFE IX-3p:i LOVE IX-3p:j HAVE WIFE LOVE', 'MOTHER+FATHER GUARANTEE FUTURE MAD NOT (1h)HAPPY #IF CHILDREN REALLY+WORK DYE HAIR COLOR ORANGE GUARANTEE CHILDREN WORK DYE', 'PAST+NIGHT IX-1p PLAY+ (crvd-5)BASKETBALL SCRIMMAGE WITH FRIEND (Y)WOW+ (baby-O)BY-A-HAIR (1h)BEAT THIRTY+ TWENTY-EIGHT NIGHT PLAY+ (crvd-5)BASKETBALL SCRIMMAGE WITH FRIEND', 'IX-2p GO WHERE (1h)part:indef GO', 'IX-1p #FUCK not a big deal IX-1p NOT MOVE-AWAY ns-#SD (25)WHY IX-1p NOT READY part:indef MOVE-AWAY READY part:indef', 'IX-1p SHOULD BUY SHORTS (25)WHY IX-loc:i WOW OUT+ HOT BUY SHORTS', 'fs-BOB IX-loc:i GIVE:j GIRL+FRIEND IX-loc:j (1h)DO-DO (1h)part:indef BUOY FRIEND BUOY', '(5)POSS-1p FRIEND IX-loc:i do nothing NONE/NOTHING FUTURE PROCEED VIDEO-GAME ALL-DAY FRIEND do nothing NONE/NOTHING PROCEED VIDEO-GAME ALL-DAY', '#IF+ FRIEND GROUP/TOGETHER DEPART FISHING+ IX-1p CHECK (5)WEATHER MAKE REALLY fs-OK FRIEND GROUP/TOGETHER FISHING+ CHECK (5)WEATHER MAKE', 'TIME+ FRIEND (5)CRASH (P)PARTY part:indef TIME (1h)part:indef TIME+ FRIEND (5)CRASH (P)PARTY part:indef TIME', 'SOMETHING/ONE IX-3p-pl-arc FIND/FIND-OUT POSS-1p KEY WHICH WHO IX-3p-pl-arc KEY WHICH', 'PAST+NIGHT (5)ACCIDENT long line of cars (1h)WOW/AWFUL NIGHT (5)ACCIDENT long line of cars', 'CAR IX-3p:i (1h)(flat-O)PAY/SPEND YESTERDAY DO-DO+ KIND part:indef CAR DO-DO+ KIND part:indef', 'FINEwg #IF IX-1p MOW MOTHER FUTURE GIVE-1p TWENTY DOLLAR MOW DOLLAR', '#WHEN IX-1p ARRIVE SCHOOL+ IX-1p MUST TEXTING_3 1p-INFORM:j MOTHER+ IX-1p FINISH ARRIVE SAFE ARRIVE SCHOOL+ TEXTING_3 1p-INFORM:j FINISH ARRIVE SAFE', '#NO+ IX-3p:i (L)LIVE (L-X)SMALL #APT IN CITY/COMMUNITY fs-CITY IX-3p:i (L)LIVE (L-X)SMALL IN CITY/COMMUNITY', 'IX-1p RECENT-PAST DRINK TASTE FINE++ (1h)part:indef', 'IX-2p WRONG IX-3p:i NOT PINEAPPLE fs-CREAM CHEESE IX-1p FAVORITE/PREFER fs-LOX CHEESE', '#NO+ IX-1p NOT GO-OUT:i', 'SICK WHO SICK', 'tube skipping on water (1h)part:indef TIME++ (1h)part:indef tube skipping on water TIME++', 'IX-2p PLAN TRIP WHERE (1h)part:indef PLAN', 'HUSBAND WIFE IX-3p:i NOT DANCE+ HUSBAND WIFE DANCE+', 'IX-3p:i PARK RED STOPLIGHT CAR (3)ACCIDENT IX-3p:i+ USE PHONE (1h)part:indef PARK CAR (3)ACCIDENT USE', 'wave no REFUSE RAIN you see #IF+ RAIN you know GAME+ FOR REALLY CANCEL/CRITICIZE RAIN you see RAIN you know GAME+ CANCEL/CRITICIZE', 'REALLY POSS-1p+ OPPOSITE FRIEND DO-DO+ ALARM+ OPPOSITE FRIEND DO-DO+ ALARM+', '#NO++ IX-1p RECENT-PAST #BACK_2 FROM DINNER IX-3p:i HAVE ICE-CREAM IX-3p:i (1h)part:indef FROM', 'GO-OUT NONE/NOTHING_2 RAIN (1h)WAIT WAIT-A-MINUTE NONE/NOTHING_2 RAIN', 'CANNOT DISTRIBUTE NUT+BUTTER IX-3p:i fs-BETH IX-loc:i wow ALLERGY NUT+ IX-3p:i CANNOT DISTRIBUTE BUTTER ALLERGY', 'FINISH GRADUATE #HS IX-2p FINISH GRADUATE', 'FRIEND IX-3p-pl-arc (P)PARTY+ (1h)GOOD/THANK-YOU FRIEND (P)PARTY+', 'IX-2p LIE-DOWN PAST+NIGHT WHY (1h)part:indef LIE-DOWN NIGHT', 'fs-PETE IX-3p:i LOVE TAPE-RECORDING IX-3p:i (1h)HAVE THREE three computers next to each other POSS-3p:i HOME WOW LOVE TAPE-RECORDING three computers next to each other', 'PLEASE/(1h)ENJOY+ IF HURRICANE+ GAME+ DECIDE CANCEL/CRITICIZE HURRICANE+ GAME+ DECIDE CANCEL/CRITICIZE', '(1h)part:indef IX-1p LIKE IX-3p:i #IF IX-3p:i (1h)HAVE BUTTER IN+ oh well FINE IX-1p part:indef BUTTER IN+ oh well part:indef', '#IF MOTHERwg GO-OUT SELL IX-3p:i FUTURE BUY MILK SELL BUY', 'EAT SELL+ WHERE++ SELL+', 'WHO (1h)TEND COMMUTE WORK BICYCLE part:indef WORK BICYCLE part:indef', 'IX-2p FACE NOT FEEL (1h)GOOD/THANK-YOU IX-3p:j #OK IX-2p WRONG+ (1h)part:indef', 'fs-BILL IX-loc:i MOVE ns-NEW-YORK FUTURE MOVE ns-NEW-YORK', 'HEAR/LISTEN TEACH+AGENT WHO TEACH AGENT', 'IX-1p 1p-MEET-3p-pl-arc NEW PEOPLE IX-1p LOUSY MEMORIZE POSS-3p-pl-arc NAME IX-1p 1p-MEET-3p-pl-arc NEW PEOPLE NAME', 'BIG #DOG IX-loc:i (1h)ACCEPT WHO BIG BUOY', 'IX-1p VERY NOT (1h)HAPPY+ VERY', 'FINE wave no ns-MCDONALD IX-loc:i VERY-FAST EAT RESTAURANT IX-3p:i (2h)GIVE-distributive HAMBURGER part:indef ns-MCDONALD VERY-FAST (2h)GIVE-distributive HAMBURGER part:indef', 'fs-JOHN IX-3p:i NOT BUY TURKEY (1h)part:indef BUY', 'IX-1p REALLY HAVE PINEAPPLE fs-CREAM CHEESE HAVE CHEESE', 'fs-MARY STOP ROWING+ out of my control NOT CONTINUE ROWING no more STOP ROWING+ out of my control CONTINUE ROWING no more', 'GO-OUT HOME', 'HONEST IX-1p VOMIT/HATE GO-OUT WORK COMMUTE BICYCLE IX-1p (1h)VOMIT/HATE IX-1p HONEST VOMIT/HATE WORK BICYCLE', 'fs-BOB IX-loc:i NOT-YET (2h)GIVE (R)FLOWER POSS-3p:i SWEETHEART (2h)GIVE SWEETHEART', 'wave no IX-1p NONE/NOTHING_2 CAR wave no NONE/NOTHING_2 CAR', 'FINISH GRADUATE #HS FINISH GRADUATE', 'FRIEND IX-3p:i DRIVE FRIEND DRIVE', 'TEACH+AGENT DISTRIBUTE ANSWER TO/UNTIL TEST TEACH AGENT DISTRIBUTE ANSWER TO/UNTIL TEST', '#IF POSS-1p FRIEND GO-OUT CAMP+ IX-1p FUTURE GO-OUT WITH IX-pl-arc FRIEND CAMP+ WITH', '#VP CLEAR QMwg CLEAR', '#NO++ BEAUTIFUL sky up there SUNSHINE WARM (2h)SHINE BEAUTIFUL part:indef (2h)SHINE (1h)part:indef part:indef', 'IX-2p PUT TREE WHERE PUT TREE', 'GAME FINISH BEFORE SIX QMwg (1h)part:indef GAME FINISH BEFORE', 'fs-BRIDE AND fs-GROOM IX-3p-pl-2:i/j IX-loc:i DANCE LAST WEDDING NOT (1h)part:indef BUOY-2 DANCE LAST WEDDING', '#IF fs-BOB REALLY+WORK STUDY fs-LIT TEST FUTURE PASS WORK STUDY TEST PASS', 'IX-1p KISS-FIST IX-2p WHY+ IX-2p EXPERT MAKE PEOPLE LAUGH-HARD IX-2p EASY+ (1h)part:indef MAKE PEOPLE LAUGH-HARD EASY+', 'IX-1p (2h)NOT-YET (P)PAY fs-RENT (2h)NOT-YET (P)PAY', 'fs-BOB IX-loc:i READ WHAT READ WHAT', 'FRIEND IX-loc:i WANT+NEG BUY PLAID (2h)SHIRT WANT+NEG FRIEND WANT NEG BUY (2h)SHIRT WANT NEG', 'IX-1p SAY fs-JOHN wave no IX-1p CREATE/PRETEND fs-JAMES', 'WHO ASK FOR DIRECT/EXPLAIN part:indef DIRECT/EXPLAIN part:indef', 'FRIEND GROUP/TOGETHER DEPART FISHING #WHEN FRIEND GROUP/TOGETHER FISHING', 'PERSON IX-loc:i (1h)part:indef WHO IX-3p:i (1h)part:indef PERSON BUOY', 'WHO HEAR/LISTEN IX-3p:i (1h)TEACH+(1h)AGENT (1h)part:indef', 'WHEN IX-1p ARRIVE SCHOOL IX-1p 1p-INFORM:i MOTHER IX-1p FINISH ARRIVE SAFE WHEN ARRIVE SCHOOL 1p-INFORM:i FINISH ARRIVE SAFE', 'FRIEND GROUP/TOGETHER WANT+NEG PIZZA_4 EAT+NIGHT (25)WHY SAME-OLD+ FRIEND GROUP/TOGETHER WANT NEG NIGHT SAME-OLD+', 'FRIEND NOT-YET PROCEED START FRISBEE NOT-YET+ FRIEND PROCEED START', 'NOW+ ECONOMIC CRISIS NOW+ ECONOMIC CRISIS NOW+', 'IX-1p WANT+NEG SOMETHING/ONE IX-1p wave no WANT NEG', 'IX-loc:i RAIN HAPPEN WHO GO-OUT part:indef RAIN HAPPEN (1h)part:indef part:indef', 'POSS-1p FRIEND KISS-FIST SURF-INTERNET INTERNET (25)WHY CLICK FINEwg FLOW DIFFERENT+ fs-SITES FLOW++ FRIEND INTERNET FLOW DIFFERENT+ FLOW++', 'IX-1p REALLY+WORK PROCEED COMMUTE WORK BICYCLE IX-1p MEAN MUST GET-UP EMPTY/EARLY+(1h)MOST WORK PROCEED WORK BICYCLE MEAN GET-UP EMPTY/EARLY', 'POSS-2p FRIEND LOVE TRIP pay attention (25)WHY (1h)part:indef FRIEND LOVE', 'fs-BOB IX-loc:i HAVE BIG #DOG #NO IX-3p:i (1h)HAVE SMALL HAVE BIG SMALL', '#NO IX-1p NOT HAVE CAR HAVE CAR', 'BOX/ROOM SMALL small box BOX/ROOM SMALL small box', 'RECENT-PAST RAIN NONE/NOTHING_2+ RAIN NONE/NOTHING_2+', 'TEACH+AGENT IX-loc:i START NICE/CLEAN TIME+ TEACH AGENT START NICE/CLEAN TIME+', 'POSS-1p SISTER ACTION STRANGE IX-1p 1p-LOOK:i SISTER ACTION', 'BAD WEATHER START IN ns-BOSTON #WHEN WEATHER START IN', 'IX-1p D CLASS IX-1p ACCEPT D CLASS ACCEPT', 'POSS-1p FRIEND PAST+NIGHT WOW (2h)DRUNK (2h)PASS-OUT_2 (25)WHY (2h)(Y)DRINK A-LOT IX-3p:i FRIEND NIGHT (2h)DRUNK (2h)PASS-OUT_2 (2h)(Y)DRINK A-LOT', 'fs-BOB one person approaching another GIVE:i (R)FLOWER GIRL+FRIEND (2h)NOT-YET part:indef one person approaching another girlfriend FRIEND (2h)NOT-YET part:indef', 'ANYWAY/NOT-MATTER++ RAIN NOT part:indef STILL PROCEED SWIM+ ANYWAY/NOT-MATTER++ RAIN part:indef STILL PROCEED SWIM+', '(L-X)POSS-1p FRIEND IX-loc:i TRIP KISS-FIST IX-loc:i FAVORITE/PREFER++ WHERE fs-ASIA (25)WHY POSS-3p:j EAT+ DELICIOUS FRIEND', 'IX-2p ARTICLE IX-2p WRITE FOR ns-BOSTON fs-GLOBE IX-1p READ WOW (1h)GOOD/THANK-YOU IX-3p:i ARTICLE WRITE READ', 'IX-2p MUST WORK ALL-NIGHT IX-2p WORK ALL-NIGHT', '#IF SCHOOL+ NOT CANCEL/CRITICIZE IX-3p:i FUTURE GO SCHOOL IX-3p:i SCHOOL+ CANCEL/CRITICIZE GO SCHOOL', 'IX-1p ENJOY CHAT WITH FIRST-IN-LIST fs-JESSICA AND SECOND-IN-LIST fs-DONNA IX-3p-pl-2:i/j ENJOY (25)WHY IX-1p ENJOY CHAT fs-ASL ENJOY CHAT WITH FIRST-IN-LIST SECOND-IN-LIST ENJOY CHAT', '(alt-G/bent-L)POSS-1p SISTER LIKE ns-BOSTON (2h)KNOW+NEG SISTER (2h)KNOW NEG', 'FRIEND TAKE-UP DINNER PIZZA_4 (P)PARTY (1h)part:indef #WHEN (1h)part:indef FRIEND TAKE-UP (P)PARTY', 'PAST+ TAKE-BREAK IX-1p READY #DO HOMEWORK FROM-NOW-ON EMPTY-FROM-NOW-ON READY TAKE-BREAK READY HOMEWORK FROM-NOW-ON EMPTY-FROM-NOW-ON READY', 'IX-1p ALMOST FINISH HOMEWORK ALMOST FINISH HOMEWORK', 'BOX/ROOM BIG_5 BOX/ROOM BIG_5', 'wave no IX-1p NEVER RUN fs-MARATHON PAST wave no IX-1p NOT PLAN START NOW whoa RUN PLAN START NOW whoa', '#IF REALLY+WORK IX-1p MUST (P)PAY fs-RENT NOW FINE CANCEL/CRITICIZE POSS-1p VACATION (1h)PROCEED+ WORK (P)PAY NOW CANCEL/CRITICIZE VACATION', 'DURING/WHILE LONG-AGO+ IX-1p #HS MOTHER ALWAYS REMIND-1p+ IX-1p EVERY-MORNING (25)WHY+ IX-1p sound asleep NOT FEEL ALARM+++ DURING/WHILE EVERY-MORNING sound asleep ALARM+++', '#IF fs-BOB IX-loc:i TAKE-UP BIG #DOG MUST ACCEPT FUTURE (flat-O)PAY/SPEND WOW+ BUOY TAKE-UP BIG ACCEPT (flat-O)PAY/SPEND', '#WHEN POSS-1p FRIEND FINISH TIRED DRIVE FUTURE SWITCH FRIEND FINISH TIRED DRIVE', '#IF POSS-2p FRIEND (2h)PASS-OUT_2 (2h)DRUNK IX-1p REFUSE CARE REFUSE IX-1p FRIEND (2h)PASS-OUT_2 (2h)DRUNK CARE', 'fs-SUE MOVE WHERE MOVE', 'fs-JACK DISGUST WHY (1h)part:indef', 'WIDE fs-DOG IX-loc:i ACCEPT WHO WIDE ACCEPT IX-3p:i', 'IX-1p REALLY+WORK PROCEED BUY SHORTS MEAN IX-1p MUST SHOE+ SEND/MAIL WORK PROCEED BUY SHORTS MEAN SHOE+', 'IX-1p (1h)HAPPY+ NONE/NOTHING_2 #NO+ IX-1p SAD ok (giving in) NONE/NOTHING_2 SAD ok (giving in)', 'SOMETHING/ONE IX-3p-pl-arc FIND/FIND-OUT POSS-1p KEY WHICH WHO IX-3p-pl-arc KEY WHICH', \"HOW WHAT THROUGH FEEDBACK let's see HOW WHAT THROUGH FEEDBACK let's see\", 'WHO (1h)TEND COMMUTE BICYCLE WHO BICYCLE', 'IX-1p NOT SKILL (1h)part:indef SKILL', 'WANT_2 PLAY FRISBEE WHO (1h)part:indef WANT_2 PLAY', 'AUNT IX-3p:i EXPERT MAKE APPLE PIE NOT MAKE PIE', \"what's going on? NONE/NOTHING BOOK-pl TABLE IX-honorific:i (1h)NONE/NOTHING (1h)part:indef NONE/NOTHING BOOK-pl TABLE\", 'DURING/WHILE IX-1p ENJOY CHAT WITH fs-DONNA AND SECOND-IN-LIST fs-JESSICA IX-1p SAME ENJOY CHAT WITH EACH+ONE OTHER SAME IX-1p DURING/WHILE ENJOY CHAT WITH SECOND-IN-LIST ENJOY CHAT WITH EACH', '#IF IX-3p:i fs-BOB IX-loc:i GO #PO IX-1p GRAB-CHANCE give package POSS-1p LETTER/MAIL IX-3p:j (1h)DROP #OFF FOR IX-1p GO GRAB-CHANCE give package LETTER/MAIL', '#WHEN POSS-1p FRIEND catch fish (1h)FISH IX-1p MUST fs-BUCKET ICL:B-L\\x94bring over bucket\\x94 SCL:1\\x94throw fish in bucket\\x94 FIRST FAST_3 #FRESH PERFECT FINE+ FRIEND catch fish ICL:B-L\\x94bring over bucket\\x94 FAST_3 PERFECT', '#IF fs-MARY IX-3p:i NOT (1h)HAPPY (1h)part:indef NONE/NOTHING_2+ONE IX-1p-pl-arc (1h)HAPPY (1h)part:indef NONE/NOTHING_2', 'IF+ IX-3p:i fs-OBAMA CHOOSE REPUBLICAN whoa fs-OBAMA FUTURE SORRY THUMB-IX-3p:i CHOOSE', 'fs-JACK IX-loc:i HAVE MONEY HAVE MONEY', 'fs-JACK WAIT GO-OUT+ SEE STRANGE QMwg WAIT', '#IF TOMORROW NONE/NOTHING_2 TIME IX-2p CAN washing car CAR MONDAY NONE/NOTHING_2 TIME CAN washing car CAR', 'WHO FIND/FIND-OUT POSS-1p KEY_2 WHO', 'DRIVE WHO DRIVE', 'FRIEND IX-3p:i DRIVE FRIEND DRIVE', 'DRESS/CLOTHES IX-loc:i #SALE NOT IX-3p:i DRESS/CLOTHES', 'fs-MAC TROUNCE fs-PC WHY+ fs-MAC EXPERT MATCH PEOPLE WANT_2 TROUNCE MATCH PEOPLE WANT_2', 'FUTURE GO #PO WHO GO', 'IX-3p:i APPLY-1p IX-1p MANY fs-TASKS frustration APPLY-1p MANY frustration', 'IX-1p CHAT WITH IX-3p-pl-2:i/j ENJOY IX-1p NOT IX-1p CHAT WITH ENJOY', 'IX-2p NOT person passed out NOT IX-2p person passed out', \"FRIEND NOW IX-3p:i PLAN SURPRISE THRILL/WHAT'S-UP FRIEND NOW PLAN SURPRISE THRILL/WHAT'S-UP\", 'MAN RECENT-PAST BUSTED BREAK ENTER fs-NEWTON IX-3p:i THAT IX-3p:i MAYBE SAME PERSON WHO BREAK+ENTER IN ns-BROOKLINE part:indef BUSTED BREAK ENTER MAYBE BUOY PERSON BREAK ENTER IN part:indef', 'IF+ BOX/ROOM IX-loc:i NOT ARRIVE IX-loc:i SHOULD CONTACT+ fs-FEDEX BOX/ROOM ARRIVE CONTACT+', 'FRIEND GO-OUT FISHING FRIEND FISHING', 'FRIEND GROUP/TOGETHER DELIBERATE (2h)REASON WANT+NEG PIZZA_3 (P)PARTY (25)WHY (1h)part:indef UP-TO-NOW SAME-OLD FRIEND GROUP/TOGETHER DELIBERATE (2h)REASON WANT NEG (P)PARTY UP-TO-NOW SAME-OLD', 'THAT STUDENT ON fs-QUIZ ACT IX-3p:i THAT IX-loc:i NOT WIN IX-3p:i (1h)part:indef STUDENT ON ACT WIN', \"IX-1p NOT THRILL/WHAT'S-UP #IF HAVE PINEAPPLE fs-CREAM CHEESE part:indef THRILL/WHAT'S-UP HAVE CHEESE part:indef\", '#HS IX-2p GO-OUT WHERE IX-2p', '#IF IX-1p NOT AFRAID IX-1p PROCEED GO WATER PADDLE/CANOE FUTURE IX-1p (1h)part:indef AFRAID PROCEED GO PADDLE/CANOE', '(1h)THIS ARTICLE QUOTE/TOPIC fs-SENSORY fs-ORIENTATION SECOND PART ARTICLE QUOTE/TOPIC PART', 'WHO FALL-IN-LOVE fs-BILL FALL-IN-LOVE', 'IF+ fs-JOHN NOT HERE part:indef ANY+ONE IX-3p-pl-arc KNOW WHERE GO (1h)part:indef HERE part:indef GO', 'IX-2p MUST #VP IX-2p (25)WHY NOT TEXTING_3 part:indef TEXTING_3 part:indef', 'WHEN REALLY+WORK MOVE-AWAY ns-#SD OUT IX-1p (2h)MUST GET NEW CAR LICENSE+ WHEN WORK MOVE-AWAY OUT (2h)MUST GET NEW CAR LICENSE+', 'fs-LIZ RELATIONSHIP FAMOUS ACT WHO RELATIONSHIP FAMOUS ACT', 'fs-JEN fs-JOE IX-3p-pl-2:i/j MARRY QMwg MARRY', 'IX-3p:i SISTER IX-loc:i IF+ IX-3p:i NEGLECT+ HOME+WORK REFUSE SUCCEED IN SCHOOL (1h)part:indef SISTER NEGLECT+ WORK SUCCEED IN SCHOOL', 'PAST+NIGHT IX-1p LIE-DOWN DRUNK EACH+ONE fist pump NIGHT LIE-DOWN EACH fist pump', '#NO+ NOT STOP perplexed STOP perplexed', 'IX-1p HIT MISS/ASSUME POSS-1p MORNING CLASS WHY++ IX-1p OVERSLEEP IX-1p HIT MORNING CLASS OVERSLEEP', 'WHICH COLLEGE fs-MARY GO-OUT WHICH (1h)part:indef WHICH COLLEGE WHICH', 'FRIEND GROUP/TOGETHER PLAY VIDEO-GAME FRIEND GROUP/TOGETHER PLAY VIDEO-GAME', '#IF POSS-1p FRIEND DEPART (P)PARTY IX-1p FUTURE (1h)JOIN GUARANTEE YES FRIEND (P)PARTY GUARANTEE', '#WHEN POSS-1p FRIEND GO-OUT IX-1p PROCEED FINALLY START POSS-1p HOMEWORK FRIEND PROCEED FINALLY START HOMEWORK', 'IX-2p WRONG (alt-G/bent-L)POSS-1p FAVORITE/PREFER fs-LOX NOT LIKE PINEAPPLE fs-CREAM CHEESE', 'IX-2p WORK WHAT WORK WHAT', 'fs-JACK WAIT GO-OUT+ SEE STRANGE QMwg WAIT', 'ns-#AA IX-loc:i well NOT EXPENSIVE part:indef #IF REALLY+WORK EXPENSIVE part:indef IX-1p STUCK WHY flying back and forth ns-BOSTON ns-#FLA ALONE ns-#AA (1h)part:indef well EXPENSIVE part:indef WORK EXPENSIVE part:indef BUOY', '#IF (2h)HORSE IX-loc:i PLAY+ ALL-DAY horse galloping ON FARM GUARANTEE NIGHT TIME+ EXHAUST (2h)HORSE PLAY+ ALL-DAY horse galloping ON GUARANTEE NIGHT TIME+ EXHAUST', 'BOX/ROOM SMALL wave no BIG_5 BOX/ROOM SMALL BIG_5', 'WHO IX-3p:i BUOY', '(25)WHY FATHER (P)UPSET (1h)part:indef KNOW+(1h)NEG', 'POSS-2p FRIEND ADDICTED SURF-INTERNET INTERNET (25)WHY (1h)part:indef FRIEND INTERNET', '#NO IX-1p NOT AFRAID fs-OF HIGH part:indef DO-DO MAKE IX-2p THINK THAT (1h)part:indef AFRAID part:indef DO-DO MAKE', '#IF FRIEND CRASH POSS-1p (P)PARTY IX-1p FUTURE KICK-OFF IX-1p FRIEND CRASH (P)PARTY KICK-OFF', 'FRIEND FACE+SAME INTERCOURSE+fs-UP WHY (1h)part:indef FRIEND INTERCOURSE', 'UNDERSTAND LEARN+++ AND USE THAT (2h)alt.UNDERSTAND IX-1p USE MANY DEAF PEOPLE POSS-3p-pl-arc EXPERIENCE THROUGH STORY+ LEARN+++ USE (2h)alt.UNDERSTAND USE MANY PEOPLE THROUGH STORY+', 'TIRED wave no TIRED', '#IF IX-1p BUY SHORTS+ IX-1p MUST (5)THROW SHOE+ BUY SHORTS+ SHOE+', 'EACH STUDENT WHO GET TROPHY IX-3p:i HERE (2h)LOOK-UP EACH STUDENT GET TROPHY HERE (2h)LOOK-UP', 'MAN RECENT-PAST BUSTED BREAK ENTER fs-NEWTON IX-3p:i THAT IX-3p:i MAYBE SAME PERSON WHO BREAK+ENTER IN ns-BROOKLINE part:indef BUSTED BREAK ENTER MAYBE BUOY PERSON BREAK ENTER IN part:indef', '#IF QUIET HERE+ MEAN MAYBE (1h)HAVE CHILDREN UP SLEEP QUIET HERE+ MEAN MAYBE CHILDREN', 'FRIEND CAR WHERE (1h)part:indef FRIEND CAR', 'WHO KISS-FIST (2h)LOOK-FORWARD STAR+BOMB++ (2h)LOOK-FORWARD STAR BOMB++', '#IF POSS-1p FRIEND GROUP/TOGETHER GO-OUT WANT+NEG IX-1p FUTURE PROCEED STAY HOME (2h)LOOK #TV FRIEND GROUP/TOGETHER WANT NEG PROCEED STAY (2h)LOOK', 'POSS-1p SISTER IX-loc:i WANT+NEG HEADBAND FOR POSS-3p:i BIRTHDAY_3 SISTER WANT NEG HEADBAND BIRTHDAY_3', 'fs-MARY IX-loc:i ARRIVE HOME fs-LATE IX-3p:j fs-JOHN MAYBE UPSET IX-3p:k ARRIVE IX-3p:j MAYBE', 'WANT_2 FRISBEE PLAY WHO part:indef WANT_2 PLAY (1h)part:indef part:indef', 'POSS-1p GIRL+CORRECT (1h)WANT HEADBAND FOR POSS-2p BIRTHDAY (25)WHY (1h)part:indef HAIR long hair WOW CORRECT HEADBAND long hair', 'TEACH+AGENT SICK-OF NICE/CLEAN+ CLASS+BOX/ROOM forget it NOT NICE/CLEAN+ NOW+ TEACH AGENT NICE/CLEAN+ CLASS BOX/ROOM forget it NICE/CLEAN+ NOW+', 'IX-1p+ ARRIVE SCHOOL LATE (25)WHY IX-1p BICYCLE IX-1p (3)ACCIDENT ARRIVE SCHOOL BICYCLE (3)ACCIDENT', '(nd-1)FIRST-IN-LIST VOICE+ (nd-1)FIRST-AND-SECOND-IN-LIST MANAGE/CONTROL #OF fs-SOUND (nd-1)FIRST-AND-SECOND-IN-LIST (nd-1)FIRST-IN-LIST (nd-1)FIRST-AND-SECOND-IN-LIST MANAGE/CONTROL (nd-1)FIRST-AND-SECOND-IN-LIST', \"fs-BOB IX-loc:i FUTURE SURPRISE FROM THAT SURPRISE THRILL/WHAT'S-UP QMwg SURPRISE FROM SURPRISE THRILL/WHAT'S-UP\", 'KISS-FIST LOOK FIREWORKS WHO FIREWORKS', 'WHEN IX-1p INTRODUCE NEW FRIEND IX-1p FUTURE TEST MAKE REALLY REMEMBER NAME WHEN INTRODUCE NEW FRIEND TEST MAKE REMEMBER NAME', 'KIND (P)PARTY part:indef KIND (P)PARTY part:indef', 'NOT-YET NONE/NOTHING+ONE FIND/FIND-OUT UMBRELLA STILL GONE part:indef NONE/NOTHING UMBRELLA STILL GONE part:indef', 'IX-3p:i TEACH+AGENT NOT REQUIRE READ+ DROP IX-3p:j fs-JOHN IX-loc:j NOT READ TEACH AGENT REQUIRE READ+ DROP READ', 'MOTHER IX-loc:i SICK QMwg HOW SICK HOW', 'POSS-1p FRIEND IX-3p:i LOVE TRIP UNDERSTAND KISS-FIST fs-ASIA ns-ASIA (25)WHY IX-loc:i fs-ASIA MANY (2h)THING DO-DO DIFFERENT++ VARY COMPARE TO/UNTIL OTHER COUNTRY+ FRIEND LOVE focus MANY (2h)THING DO-DO DIFFERENT++ VARY COMPARE TO/UNTIL COUNTRY+', 'GO-OUT+ SNOW SCHOOL CANCEL/CRITICIZE SNOW SCHOOL CANCEL/CRITICIZE', \"#IF POSS-1p FRIEND IX-3p:i DRIVE IX-1p FUTURE SLEEP BACK SIT ' FRIEND DRIVE SIT '\", 'BOSS SUMMON IX-1p LOOK EACH+ONE many people staring KNOW-THAT IX-1p TROUBLE IX-1p SUMMON EACH many people staring TROUBLE', '#IF FRIEND TAKE-UP PIZZA_4 DINNER IX-1p FUTURE BRING fs-SUPREME round flat FRIEND TAKE-UP BRING round flat', '#IF POSS-1p SISTER IX-loc:i GET HEADBAND FOR POSS-3p:i BIRTHDAY IX-3p:i SISTER GUARANTEE FUTURE DECORATE WITH fs-GLITTER BAKING-SPRINKLES SISTER GET HEADBAND SISTER GUARANTEE DECORATE WITH BAKING-SPRINKLES', 'IX-1p ALWAYS SERIOUS IN SCHOOL IN SCHOOL', 'fs-PETE IX-3p:i LOVE TAPE-RECORDING IX-3p:i (1h)HAVE THREE three computers next to each other POSS-3p:i HOME WOW LOVE TAPE-RECORDING three computers next to each other', 'IX-3p:i fs-JACK GO-OUT IX-3p:i SEE SOMETHING/ONE STRANGE QMwg (1h)part:indef', '#IF POSS-1p FRIEND GO-OUT FISHING+ IX-1p MUST (2h)LOOK-FORWARD+ MAKE REALLY WEATHER IX-loc:i FINE+ FRIEND FISHING+ (2h)LOOK-FORWARD+ MAKE WEATHER', 'PAST+ALL-NIGHT IX-1p #DO HOMEWORK WOW A-LOT ALL-NIGHT HOMEWORK A-LOT', 'FRIEND NOW IX-3p:i #VP HOME CHAT+++ FRIEND NOW CHAT+++', '#IF IX-3p:i REALLY+WORK LIKE IX-3p:j EAT eating FUTURE ALL-GONE FUTURE (1h)part:indef IX-3p:i NOT (1h)part:indef SOMETHING/ONE WRONG+ (1h)part:indef WORK eating ALL-GONE', 'POSS-1p FRIEND IX-3p:i START VIDEO-GAME FINISH ALL-NIGHT VIDEO-GAME CONTINUE TO/UNTIL EYES eyes pop out WOW FRIEND START VIDEO-GAME FINISH ALL-NIGHT VIDEO-GAME CONTINUE TO/UNTIL eyes pop out', '#IF GIRL+FRIEND IX-3p:i fs-BOB GIVE:i (R)FLOWER IX-3p:i FUTURE (1h)HAPPY FRIEND BUOY', 'fs-JOHN IX-3p:i NOT BREAK WINDOW #NO+ IX-3p:j fs-SALLY BREAK WINDOW', 'OLD MUSIC round flat no more WHY+++ EACH+ONE IX-3p-pl-arc HAVE fs-IPOD MUSIC round flat no more EACH HAVE', 'LECTURE fs-TESTIMONIES DIFFERENT MAKE-A-COLLECTION BECOME (2h)SAME fs-BRICOLAGE gathering information ORGANIZE DIFFERENT MAKE-A-COLLECTION BECOME (2h)SAME gathering information ORGANIZE', '#IF+ FRIEND GROUP/TOGETHER GO-OUT (P)PARTY+ IX-1p why not JOIN IX-1p FRIEND GROUP/TOGETHER (P)PARTY+ why not JOIN', 'fs-BOB IX-3p:i ARRIVE (P)PARTY_3 EACH+ONE MUST use spray cans (flat-O)PAY/SPEND (2h)alt.TEASE MUST ARRIVE (P)PARTY_3 EACH use spray cans (flat-O)PAY/SPEND (2h)alt.TEASE', 'fs-JACK fs-SUE MEET FINISH MEET FINISH', 'DURING/WHILE COLD IX-1p (1h)TEND SICK-continuative WHY++ (1h)TEND USE FLIP-FLOP+ part:indef DURING/WHILE COLD SICK-continuative USE FLIP-FLOP+ part:indef', '#NO++ IX-1p RECENT-PAST FINISH HOMEWORK IX-1p FINISH HOMEWORK', 'IX-1p PROCEED NOT INVITE/HIRE fs-MARY WHY IX-3p:i NOT AGREE (5)SOCIAL/INTERACT GROUP/TOGETHER NOT PROCEED AGREE (5)SOCIAL/INTERACT GROUP/TOGETHER', 'BASEBALL IX-loc:i GAME IX-loc:i HAVE STAR BOMB+ IX-1p MUST GO (2h)LOOK BASEBALL GAME HAVE STAR BOMB+ whoa GO (2h)LOOK', '#IF POSS-1p FRIEND DEPART (P)PARTY+ IX-1p POSS-1p ROOMMATE IX-1p-pl-2:i (1h)JOIN FRIEND (P)PARTY+ ROOMMATE', 'POSS-1p SISTER VOMIT/HATE WATER SKI (25)WHY HARD BALANCE (2h)alt.SKI SISTER VOMIT/HATE SKI HARD BALANCE (2h)alt.SKI', 'fs-JOHN IX-loc:i BREAK WINDOW #NO+ IX-3p:j fs-JAMES BREAK WINDOW', '(P)PARTY+ START WHEN (P)PARTY+ START WHEN', 'IX-1p KNOW-THAT IX-3p:i MONSTER HOUSE IX-1p SUFFER ENTER fs-AT POSS-1p #OWN fs-RISK MONSTER HOUSE ENTER', 'CANNOT DISTRIBUTE NUT+BUTTER IX-3p:i fs-BETH IX-loc:i wow ALLERGY NUT+ IX-3p:i CANNOT DISTRIBUTE BUTTER ALLERGY', 'HERE ns-BOSTON NOT MANY ANIMAL+ part:indef HERE MANY ANIMAL+ part:indef', 'NOT-YET NONE/NOTHING+ONE FIND/FIND-OUT UMBRELLA STILL GONE part:indef NONE/NOTHING UMBRELLA STILL GONE part:indef', 'FRIEND IX-loc:i PROCEED PLAY FRISBEE (2h)IX-1p JOIN PLAY FRIEND PROCEED PLAY (2h)IX-1p JOIN PLAY', '#IF IX-2p WANT+NEG PIZZA_4 CAN ORDER SPAGHETTI WANT NEG CAN SPAGHETTI', 'POSS-1p FRIEND SURF-INTERNET INTERNET (1h)TEND REMIND-2p+ REMEMBER IX-2p NOT FINISH HOMEWORK FRIEND INTERNET REMEMBER FINISH HOMEWORK', 'MOTHER (2h)IX-loc:i SICK IX-3p:i IX-1p MUST CARE+ IX-3p:i (2h)IX-loc:i SICK CARE+', '#NO+ IX-3p:i (L)LIVE (L-X)SMALL #APT IN CITY/COMMUNITY fs-CITY IX-3p:i (L)LIVE (L-X)SMALL IN CITY/COMMUNITY', 'FRIEND IX-loc:i START CAR #WHEN FRIEND START CAR', 'fs-PHIL (1h)HAVE KID CHILDREN (1h)HOW-MANY/MANY CHILDREN', 'WHO ASK FOR DIRECT', 'NOW MOVING-ON-TO-NEXT-TOPIC TALK ABOUT fs-AUDIO fs-VOCAL #ORIENTATION MAJOR NOW MOVING-ON-TO-NEXT-TOPIC ABOUT MAJOR', 'WHO BUY CAR part:indef BUY CAR part:indef', 'IF+ IX-3p:i GO-OUT NOT-MIND+ IX-loc:j CLOSE-GATE', '#NO++ (nd-1)MOVIE START TIME TEN++ (nd-1)MOVIE START TIME', 'WHEN (crvd-5)POSS-1p FATHER START VIDEO-GAME IX-1p whoa IX-1p UP WHY+ IX-loc:i VIDEO-GAME BORE IX-1p LOOK WHEN START VIDEO-GAME whoa VIDEO-GAME', '#IF MOTHER IX-loc:i NICE/CLEAN+ (K)KITCHEN IX-1p CANNOT BAKE/OVEN COOKIE NICE/CLEAN+ (K)KITCHEN CANNOT BAKE/OVEN COOKIE', 'BRACELET POSS-1p BROTHER RECENT-PAST FIND/FIND-OUT THAT BRACELET REALLY+WORK GOLD/ns-CALIFORNIA circular bracelet wow BRACELET BROTHER BRACELET WORK circular bracelet']\n"
          ]
        }
      ]
    },
    {
      "cell_type": "code",
      "source": [
        "print(inp)"
      ],
      "metadata": {
        "colab": {
          "base_uri": "https://localhost:8080/"
        },
        "id": "0SYd95Ic608U",
        "outputId": "c71459b8-64b8-456f-b737-8095e1a6ba5a"
      },
      "execution_count": null,
      "outputs": [
        {
          "output_type": "stream",
          "name": "stdout",
          "text": [
            "['When does the party start, at 8 or 9?', 'When my sister goes water tubing, I will have to watch her and make sure to stop the boat when she falls off.', 'If mom has time she will bring cookies.', \"No, I wasn't old enough to vote at that time.\", 'My friend wants to buy a plaid shirt.', \"If it snows tomorrow, then it's a guarantee that school will be closed.\", 'I just drank it and it tastes fine.', \"If mom doesn't walk to the store, we won't have milk.\", 'Mother will give me twenty dollars if I clean the kitchen.', 'Who listened to the teacher?', 'I just read a book.', 'It can be expressed through speech or through sign language.', \"It doesn't matter to me. I like anything.\", \"No, today's Thursday, which means tomorrow's Friday.\", 'Where did the friends drive to?', 'My friend is playing video games.', 'What does my sister want for her birthday?', 'Has your friend experienced travelling?', \"Bob hasn't sent the letter.\", 'If my family decides to vacation every year, they will go to Puerto Rico.', 'The DVD that Netflix sent me was all scratched up.', 'Did Jack and Sue already meet?', 'The game finishes before 6? What time?', 'When you leave, would you mind closing the gate?', \"He/She didn't finish because he/she was laying around.\", 'If clothes are on sale, my friends and I will go over to the mall.', \"I didn't see the accident, I was asleep.\", 'Who is planning to surprise Bob?', \"If it rains tomorrow, that means that when I arrive at my uncle's house, I will stay inside.\", \"It's raining so much. Wow.\", 'When Father arrives home late, Mother refuses to make dinner.', 'When my sister goes water tubing, we have to watch to make sure she doesn\\x92t fall off.', 'I watched a movie last night and the actor was good.', 'How did Mother get sick?', 'The friends have not gone to the beach.', \"Mother isn't sick today.\", 'My mother loves glasses because she looks cool in them.', 'No, he lost all the games.', 'Why do you want the BBQ?', 'Where did you buy the car?', 'His idea was the basis for different cultures and their ways to interpret or give meaning to different sensory experiences.', 'Did someone win the lottery?', 'I met a lot of interesting people last night.', \"I starting making an invitation list for my BBQ party, I will have to make sure it's right.\", 'Why is your friend addicted to surfing the internet?', \"It wasn't me who started to open the can.\", 'If my friend finishes his homework early, he will surf the Internet all night.', \"The set up of the two categories was based on Edward Hall's analysis from the idea he presented years ago.\", \"If there's no snow outside, normally school will be open.\", 'My friend passed out last night because he drank too much.', 'Does your friend really love surfing the internet?', 'I love apples in the fall.', 'I was picked to join the club. Wow, it was an honor.', \"I'm not warm, I'm hot.\", 'Did John read that book? No, he never started it.', 'If I arrive at work late, my boss will undoubtedly fire me.', \"I'm letting you know that the car is broken down, I used the the right key.\", 'I am not good at memorizing names of people I\\x92ve already met.', 'When my father arrives home late, we tend to eat pizza for dinner.', 'Where are the clothes that are on sale?', 'If my friend drives, I will sit in the back and sleep.', \"I didn't wash my clothes.\", 'If Jack gets a cat, he will take care of it.', 'The game finishes before 6? What time?', 'If Father arrives home late, he can\\x92t help us with our homework.', 'Now I am studying to go to school.', 'Who wants to play frisbee?', 'What time did my friend crash the party?', 'If my family adopts the puppies, I will immediately go to the pet store to buy collars, of which they have assorted colors.', 'My friend has to drive because I am tired.', 'Does Jack have money?', 'Who sent the letter?', 'Who bought a car?', 'If I go to a public school, it is guaranteed that I won\\x92t pay attention because there is no communication.', 'If the student wins an award, he will get a $100 gift card.', 'When I make a list for the BBQ, I have to make sure I invite all of my friends.', 'Why did the bride and groom end the wedding?', 'Why do you have to move out of San Diego?', 'If the students listen to their teacher, they will learn something.', \"The horses hate the rain- they don't like running in the rain.\", 'I automatically keep information in the back of my mind.', 'Alcohol is not always good.', 'Why do you talk with those two?', 'If Obama picks a Republican, he will be sorry.', 'If my friend buys a plaid shirt, I have to make sure to buy a striped shirt so we don\\x92t match.', 'Who has to pay rent?', 'Will Bill move to New York?', \"I haven't paid rent.\", 'If Father arrives home late, Mother will yell at him because the children wanted to see him.', 'If the bride and groom dance their last dance, everyone would have to watch.', 'Who loves watching fireworks?', 'Bob hates reading books.', 'If my friend succesfully surprises Bob, kudos to him because it\\x92s nearly impossible to surprise Bob!', 'What time does the surprise party start?', \"If it had rained yesterday, I would've gone to the movies for sure.\", 'Where do you work?', 'No, my roommate wasn\\x92t arrested; I just had breakfast with her.', \"I don't want to buy shorts.\", 'Father is lazy and refused to mow the lawn.', 'Who loves watching fireworks?', 'I thought it was terribly boring.', \"Everytime I go to my uncle's house, he tends to stay inside.\", 'I am going to school.', 'Have you ever lived through a winter in Boston? It snows a lot!', \"Now I'm reading a book.\", \"I know it's going rain tomorrow.\", 'Did you not pass out?', 'I have decided not to invite Mary because she doesn\\x92t get along with that crowd.', 'If Bob studies literature, he will pass his final exam.', 'I had to ask for directions because I had no idea where to go.', \"I like it, if it has butter, I'm fine with that.\", 'If John eats spinach, he will get sick.', \"There's no book on the table.\", 'When does the party start, at 8 or 9?', \"If you don't have time tomorrow, you can wash the car on Monday.\", 'What is my aunt an expert at making?', 'Which one of you found my keys?', 'Does the party tonight start at 8 or 9?', 'My family does not vacation every year any more.', 'No, I would not stop vomitting if I ate pineapple cream cheese. I prefer lox.', \"I don't think he was planning to go, but if I see him, I'll have him call you.\", 'If Bob goes to the post office, I will give him all of my mail so he can drop it off.', 'When my friends are  leaving to go to the party, I will let my roommate know that I will be joining them.', 'What kind of car did he buy?', 'My friend wanted a plaid shirt because there will be a formal party soon.', 'There are two different orientation paths, they are based on what?', 'The teacher is sick of always cleaning the classroom, so today he didn\\x92t.', 'When do you start travelling?', 'Who sent the letter?', 'If you order pizza here, it will be delicious.', 'My sister doesn\\x92t want a headband for her birthday.', 'Where did you go to high school?', 'Why is father upset?', 'My pay increased a little bit.', 'When my friend starts to surf the Internet, I have to tell him to do homework.', 'The man who was just thrown out of the plane was Alec Baldwin.', 'I volunteer to help other organizations.', 'When Mother goes to the store, I\\x92ll remind her to get us milk.', 'No, he lost all the games.', 'I analyzed and looked over the math problem.', 'My friends are going fishing.', 'When I finish cleaning the kitchen, mom will take me to my friends house.', 'He/She really feels nothing?', 'I will get a sunburn when I go swimming at the beach because I forgot sunscreen.', \"John isn't here. Does anyone know where he is?\", \"He/She isn't guilty.\", 'Who was it that just bought a car?', 'Where do the horses tend to play?', 'If John eats spinach, he will get nauseous and sick.', 'If Bob is successful at making a fire, I must stay and watch it to make sure it is maintained.', 'What kind of a party is it?', \"If there's no snow outside then normally school isn't cancelled.\", \"Now, on a related topic, how do the deaf people's experiences were included in that world?\", 'Once my friends start dying their hair, many more people will follow.', 'When I passed out last night, everyone cheered me on.', 'What do you usually do on the Internet?', \"If you don't order pizza, you can order pasta instead.\", 'Who sent the letter?', \"The box is really big, it's not small.\", 'How much is that TV?', 'I notice that babies hate fireworks. The fireworks scare the babies.', \"John didn't buy the turkey.\", 'My friend hosted a pizza party because he loves pizza.', 'Who tends to commute to work by bicycle?', 'The previous issue in DESDJ volume one number one, focused on visual feeling specifically the tactile orientation.', 'I love fireworks because they\\x92re beautiful and loud.', \"Bob hasn't gone to the post office yet.\", 'If you want to know, if John wins he will get a teddy bear.', \"If the box hasn't arrived yet you should contact Fedex\", 'When are your friends going fishing?', 'Those kids hate the principal because if they don\\x92t do homework, he will yell at them.', \"If dad doesn't get home too late then he can help us with our homework.\", 'Who arrived late?', 'Who commutes to work by bike?', 'The bride and groom danced their last dance before the wedding ended with their own choice of a song.', 'Who fell in love with Bill?', \"Wow, I'm really tired.\", 'If Bob sends his resume, he will get the job.', 'When did you graduate high school?', 'If the students listen to the teacher, they will learn something.', 'If my friends go out, I will join them.', \"My friend is planning to surprise Bob because he's turning 21.\", 'Yes, I do have homework. I need to write a three-page report.', 'If my friend asks for directions, I have to drive.', 'I doubt that he/she wants anything.', 'Your mom will love the gift you just bought for her.', 'When I arrive at India, I have to send a letter to my parents thanking them for supporting my travels expenses.', 'When do you start work?', 'Are Jen and Joe married?', 'If you order pizza here, I guarantee it will be delicious.', \"If all the students arrive on time, there won't be a test.\", 'What time is the surprise party?', 'Where did Sue move to?', 'No, my roommate wasn\\x92t arrested; I just had breakfast with her.', 'My friend crashed the party because he had just finished his final exam.', 'The article you wrote for the Boston Globe was good.', \"This afternoon I'm going to the store.\", \"If my sister neglects her homework, she won't succeed in school.\", 'If my family decides not to adopt the puppies, my friend probably will.', 'John broke the window.', \"Did Mary stop rowing? No, she's never rowed until now.\", 'If it stops snowing outside then school will reopen tomorrow.', 'My friend loves to go fishing because he loves to eat fish.', 'Is your friend\\x92s party good?', 'The idea is basically how the two modalities are different based on their primary message system and how people express them.', 'Who is asking for directions?', \"Yesterday, I didn't play any golf.\", 'If John has a grin on his face, that means he got the job.', 'No, he\\x92s not a vegetarian; he eats meat.', 'Who arrived late?', 'What did Bob read?', 'I love action movies, not boring dramas.', \"No, I'm going to Hawaii for spring break.\", 'My friends tend to play Frisbee at the park.', 'When I introduce a friend, I will test whether or not he remembers his name later.', \"No, today's Thursday, which means tomorrow's Friday.\", 'Bob hates reading books.', 'The box is not small.', \"I'm working.\", 'If friends host a pizza party, I will bring a pizza with lots of toppings.', \"No, I don't like pineapple cream cheese. I prefer lox.\", 'Most of it is focused on American culture and how people interpret or give meaning to different noises and voices.', 'They are basically based on the idea of how human language is expressed.', 'If Bob sends his resume, he is guaranteed the job.', 'Who is going out fishing?', 'I commute to work by bicycle because I can\\x92t afford a car.', \"I wasn't ready to move out of San Diego, so I stayed.\", 'When the bride and groom danced their last song at their wedding, everyone looked on quietly.', 'Does your friend love surfing the Internet?', \"Friends didn't crash the party.\", 'Where does the horse tend to play?', 'If my friend boldly asks for directions, I am willing to drive.', 'When is bad weather coming to Boston?', 'I have to take the test again.', 'The idea of the primary system for both spoken and sign language is set in their own ways.', 'When do you start travelling?', 'But, for the purpose of this, I would like to focus on two things.', 'The cat that my neighbor found was small and hungry.', 'My sister prefers tubing rather than water skiing because tubing is easier.', 'My ancestors are from Germany.', 'The teacher made the reading required for John so he had to read the book.', 'If the teacher requires John to do it,  John will read the book.', 'If Bob decides to adopt a big dog, he will have to accept the fact that he will spend lots of money on dog food.', 'I have an appointment this afternoon with my teacher.', \"I don't think he was planning to go, but if I see him, I'll have him call you.\", 'When do you start work?', 'Have Jack and Sue met?', 'If I commute to work by bicycle, I will have to wake up earlier.', 'Who has to pay rent?', 'My friend has to drive because I\\x92m exhausted.', 'Why is your group of friends travelling?', 'No, I just came back from dinner. They had no ice cream.', 'What do you have to buy?', 'My friends talked and decided not to crash the party.', 'The man who was just thrown out of the plane was Alec Baldwin.', 'If my mom has time she will bring cookies.', 'I arrived school late because I was in a bike accident.', 'Once my father starts playing video games, I tend to go to my room because it\\x92s boring to watch him and he doesn\\x92t know how to play video games.', 'My friends got together and planned to surprise Bob for his 21st.', 'If the people I invited show up late, they will regret it.', 'If my boss summons me, everyone will know I\\x92m in trouble.', 'How many kids does Phil have?', 'When a friend calls me via VP, the lights flash on and off.', 'What are you looking at on the internet?', \"If you don't want pizza, you can order pasta.\", 'My sister blamed me but I am innocent!', 'No, I just came back from dinner. They had no ice cream.', \"That dog that's chasing the cat isn't mine.\", 'The movie is really scary.', 'If my friend finishes his homework early, it is guaranteed he will be surfing the Internet all night long.', 'Why do you work all night?', 'Many different experiences with discovering the meanings of them.', 'I wish there was pineapple cream cheese.', 'The boy never goes home.', 'Is Bill planning on moving to New York?', 'My friend goes out to a party.', 'If I arrive to work late, my boss will fire me.', 'Who is sick?', \"Oh no, if there's a hurricane, the game is definitely cancelled.\", 'If I went to a public school, I will not pay attention because of the lack of communication.', 'If my friends play Frisbee, I will join and play.', 'If I enjoy talking with those two, it means that I should enjoy talking with all of BU.', 'My friend travels.', 'My friends tend to surf the internet on their laptops.', \"Friends haven't gone to the beach yet.\", 'Who did you send the letter to?', 'Jim threatened to sue the man who punched him.', 'If my aunt makes a blueberry pie, I will run home to gobble all of it up!', 'Where is the video phone that you want?', 'I am not warm, I am cold!', 'Will you go to the post office? Who will?', \"My aunt isn't good at making apple pies.\", 'Do your friend love surfing the internet on their laptop?', 'When the teacher finishes cleaning the classroom, he locks the door.', \"Why do you have to use the video phone? Can't you text?\", 'I love movies. My favorite is comedy or horror movies.', \"He/She doesn't want anything?\", \"If we go out to eat, who's paying?\", 'Who owns this big dog?', 'Why did the bride and groom dance at their wedding?', 'The teacher is sick of always cleaning the classroom.', 'My friends are going out to a party together.', \"That student who was on the quiz show didn't win.\", \"Nope, I don't have a car.\", 'I have to discuss how I should approach the teacher appropriately.', \"No, that's not Sarah Jessica Parker, that was Sarah Palin, they're different.\", 'I just finished reading a book and I noticed there was a page missing.', 'Who will join the friends\\x92 outing to the movie theater?', 'If I see that the beach is crowded, I would not want to go.', 'No, he\\x92s not a vegetarian; he eats meat.', 'I work.', \"He/she doesn't want anything? I doubt that. I think he/she wants something.\", 'My friend passed out last night because it was his birthday.', 'When my friend calls me on the video phone, the lights flash on and off.', 'No, it\\x92s beautiful outside! The sun\\x92s shining and it\\x92s warm and beautiful!', 'When do you finish work?', 'When Bob starts the fire, we will collect logs to keep it going.', 'Why don\\x92t you like that video game?', 'When it snows out a lot school closes right?', 'Are Jen and Joe married?', 'No, I just finished homework.', 'Do you usually talk with Jessica and Donna? What? Why?', \"Who is Liz's famous sister?\", 'The DVD that Netflix sent me was all scratched up.', 'Father is lazy so he refuses to mow the lawn.', \"If the book wasn't boring, I would've read it.\", 'Why did you drink hard and pass out last night?', \"I don't have a car at all.\", 'I work all night because I need the extra money.', 'Friends go to a different movie because they prefer action movies.', \"If my aunt makes a blue (starts signing 'pie') berry pie, I have to go over and eat it.\", \"I'm serious, the car is broken. I tried the key but it isn't working.\", 'No, we do have class next week.', 'If friends go to the beach and suntan, I have to bring sunscreen or else I will burn.', 'Oh no, my mom hates surprises.', 'Who is joining the friends going to the movie theater?', 'My friend likes to use the Internet because he uses Google Chrome and it is fast.', 'The students refuse to listen to the teacher.', 'There are a lot of key points to cover related to the audio vocal orientation concept.', \"No, I'm not scared of heights. What makes you think that?\", 'Who is asking for directions?', 'My friend loves going fishing because he loves fresh fish for dinner.', 'Where does your family tend to vacation every year?', 'I start off warm and then later I get really hot.', 'We will expand on the voice and control of sounds in connection with the experiences.', 'If the horse plays all day on the farm, it will fall asleep easily at night.', 'Who is sick?', 'If my friend starts to play video games, he will continue until his eyes fall out!', 'Does the friend reallhy want to buy the plaid shirt?', 'The student who won the award will get a $100 voucher.', 'Who loves to watch fireworks?', 'The watch that my brother just found is real gold!', \"If it rains tomorrow when I arrive at my uncle's house, I will stay inside.\", 'Who was it that just bought a car?', 'Is that videogame easy to beat?', 'My friend caught a fish. I hurried and got a bucket and filled it with water to put the fish in to save the fish for dinner.', 'Does Jack have money?', 'When is the pizza party that friend is hosting?', 'When I move to San Diego, I have to get a driver\\x92s license.', 'Where do you want the video phone?', 'Who is going to the post office?', 'The cat that my neighbor found was small and hungry.', 'Which one of you found my keys?', 'If the kids play at the park, they will be tired later in the afternoon.', 'I moved to San Diego because of a new job offer.', 'Do you want to get together for a BBQ party?', 'If I decide not to swim in the water, I will walk on the shore.', 'My friends are travelling together.', 'Wow, that coat you just bought looks warm!', 'I love riding in airplanes and flying different places.', 'No, the movie starts at 10.', 'What did Bob give to his girlfriend?', 'My friend plays video games all day because he does nothing else.', 'If OJ is innocent then my grandma can ride a bike.', 'Good weather has not arrived in Boston\\x85 Hurry up!', 'Which college did Mary go to?', 'Who is cooking dinner?', \"People from different cultures don't just speak different languages.\", \"No, Mitt Romney is a Mormon, but Rick Perry isn't.\", 'Why are the friends going to the beach?', 'If my friend is sick of driving, we will switch and I will drive.', 'My friend went to a different movie because he prefers action and horror movies.', 'Did your friend drive?', 'Where are the clothes on sale?', 'Is the video game easy to beat?', 'No, I did use the right key. The car is broken.', \"No, it won't rain, but if it does the game will be cancelled for sure.\", 'Who arrived late?', 'Someone bought the car. Who was it?', '\\x93Don\\x92t eat cookies with butter.\\x94 \\x93Well, I like cookies, but if they have butter, I still don\\x92t care.\\x94', 'Where do you work?', \"American Airlines isn't that expensive, but if it was, then I'd be stuck because it's the only airline that flies between Boston and Florida.\", 'Wow, that coat you just bought looks warm!', 'Is the video phone clear?', 'I don\\x92t want to buy shorts.', 'If clothes are on sale, my friends and I are definitely going to the mall.', 'I don\\x92t like asking for directions.', 'The friends have not played Frisbee.', \"No, I'm not happy.\", 'How many children does Phil have?', 'I watched a movie last night. I was really scared.', 'However, more importantly, they also live in a different sensory world.', \"If you're arriving late, it's fine. I just have to call the restauarnt and postpone the reservation.\", 'Last Monday, I knew it would rain the next day.', \"I'm not.\", \"What? No, right now we're in an economic crisis.\", 'The friends have not gone to the theater because of traffic.', 'Where did Sue move to?', 'In 1982, Edward Hall wrote about it, as he quoted.', 'My friend prefers video phone over texting because he can use ASL.', 'When Mary is not happy, no one is.', \"I already know that there's pineapple cream cheese.\", 'When we arrive in India, I have to send my family a postcard thanking them for support.', \"John didn't see me.\", 'Why do you work all night?', 'Why do you hate video games?', 'Who owns that big dog?', 'I thought it was terribly boring.', 'If you find my keys, please give them back to me.', 'My sister hates water skiing because it is hard to balance.', \"If father gets home late, (he/she) won't realize that he is not at home.\", 'Who has to pay rent?', 'When did you graduate high school?', \"If it rains tomorrow when I arrive at my uncle's house, I will stay inside.\", \"If it's snowing outside a lot, will school be cancelled?\", 'Who will go to the post office?', 'My friend is surfing the web.', \"No, not pineapple cream cheese. Lox is better for me, that's it.\", 'I tend to exercise after class.', 'Why do you have to move to San Diego?', \"No, Mitt Romney is a Mormon, but Rick Perry isn't.\", 'Yesterday I worked all day.', \"John didn't buy the turkey, James did.\", 'If Bob is surprised at his surprise party, it is commendable because it is difficult to surprise Bob.', \"If my mom says I can go to the concert, I'll be thrilled.\", \"Age isn't important.\", \"The teacher didn't make the reading required. It's uncertain whether or not John will read the book now.\", \"No, I've never run a marathon before, and I don't plan to start now.\", 'I asked my teacher for some advice and we had a discussion.', \"Cool? No, McDonald's is a fast food resteraunt, they give out hamburgers.\", \"Is it raining outside? No, because the temperature dropped, it's snowing.\", 'The student would not obey the teacher.', 'Who is paying rent?', \"No, I'm going to Hawaii for spring break.\", 'Who bought a car?', 'My friends are going to watch a different movie because they wanted something different.', \"I don't know if my sister likes Boston.\", \"Bob hasn't gone to the post office.\", \"You weren't passed out drunk, were you?\", 'The driver of the car that rear-ended me at a red light was talking on the phone at the time.', 'If my son is born tomorrow, he will be born in 2013.', 'Who bought a car?', 'I am not good at remembering the names of new people.', 'The boy arrived home.', 'What kind of car did he buy?', 'My boss works in an office right above me.', 'That baby doesn\\x92t like fireworks; it\\x92s crying.', 'However, when the speech is used, they also use the gestures. It goes the same with sign language using the voice in their language.', 'Why are friends going to the beach?', 'If Jack has a wife, then he loves her.', 'I guarantee that the parents will be mad if the children dye their hair orange.', 'Last night, I played basketball with friends. It was a close game and we barely beat them, 30-28.', 'Where are you going?', \"I'm not going to move out to San Diego because I'm not even ready.\", 'I have to buy shorts because it is hot outside.', 'What did Bob give his girlfriend?', 'My friend, if he has nothing to do, he will play video games all day.', \"If my friends are going fishing, I will check the weather report to make sure it's okay.\", 'What time did the friend crash the party?', 'Someone found my keys, who was it?', 'Last night, there was an accident and traffic was horrible.', 'What kind of car did you buy yesterday?', 'If I mow the lawn, Mother will give me twenty dollars.', 'When I arrive school, I have to text my mother to tell her I\\x92ve arrived safely.', 'No, he lives in a small apartment in the city.', 'I just drank it and it tastes fine.', \"You're wrong, that is not pineapple cream cheese. I prefer lox.\", \"No, I didn't go.\", 'Who is sick?', 'What time is water tubing?', 'Where do you plan to travel?', \"The bride and groom didn't dance.\", 'The driver of the car that rear-ended me at a red light was talking on the phone at the time.', \"No, it won't rain, but if it does the game will be cancelled for sure.\", 'My worst enemy is my alarm clock.', 'No, I just came back from dinner. They had ice cream.', \"It's not raining outside. Oh,wait a minute.\", \"We can't give out peanut butter, Beth is deathly allergic to peanuts,\", 'Did you graduate high school?', \"Was my friends' party good?\", 'Why did you pass out last night?', 'Pete loves computers; he has three set up one next to the other at home!', \"Oh no, if there's a hurricane, the game is definitely cancelled.\", \"I like it, if it has butter, I'm fine with that.\", 'If Mother goes to the store, she will buy milk.', 'Where is the grocery store?', 'Who commutes to work by bike?', \"You look like you don't feel good. Are you okay - what's wrong?\", 'Will Bill move to New York?', 'Who listens to the teacher?', 'When I meet new people I\\x92m lousy at memorizing their names.', 'Who owns that big dog?', 'I am very unhappy.', \"Cool? No, McDonald's is a fast food resteraunt, they give out hamburgers.\", \"John didn't buy the turkey.\", 'I really do have pineapple cream cheese.', \"Mary stopped rowing. She's not going to do it any more.\", 'Go home!', 'Honestly, I don\\x92t like commuting to work by bicycle.', \"Bob hasn't given the rose to his girlfriend.\", \"No, I don't have a car.\", 'When do you graduate?', 'My friend is driving.', 'The teacher gave out the answers to the test.', 'If my friends go camping, I will go with them.', 'Is the video phone clear?', 'No, it\\x92s beautiful outside! The sun\\x92s shining and it\\x92s warm and beautiful!', 'Where did you put the tree?', 'Would the game finish before six?', 'The bride and groom didn\\x92t dance the last dance at the wedding.', 'If Bob studies for his literature test, he will pass it for sure.', 'I love you because you are so good at making people laugh.', 'I haven\\x92t yet paid rent.', 'What is Bob reading?', \"My friend doesn't want to buy a plaid shirt.\", 'Did I say John? Oh, I made that up. I meant James.', 'Who is asking for directions?', 'When are the friends going fishing?', 'Who is that person?', 'Who listened to the teacher?', 'When I arrive at school, I let my mom know that I have arrived at school safely.', \"Friends didn't want a pizza night because they always have a pizza night.\", \"Friends haven't started playing Frisbee.\", \"What? No, right now we're in an economic crisis.\", \"I don't want anything.\", 'Who went out when it was raining?', 'My friend loves the Internet because there are many different websites.', \"If I commute to work by bike, then I'll have to wake up earlier.\", 'Why does your friend love travelling?', 'Bob does not have a big dog; he has a small one.', \"No, I don't have a car.\", 'The box is small.', \"It hasn't rained recently.\", 'What time did the teacher start cleaning?', 'I noticed my sister acting strange.', 'When does the bad weather start in Boston?', 'I got a D in the class; I accepted it.', 'Last night, my friend passed out because he drank too much.', 'Bob hasn\\x92t given his girlfriend roses yet.', \"It doesn't matter if it rains or not, I will still go ahead and go swimming.\", 'My friend loves traveling all over. His favorite place is Asia because their food is delicious.', 'The article you wrote for the Boston Globe was good.', 'Do you have to work all night?', \"He/she will go to school if it's not canceled.\", 'I enjoyed talking with Jessica and Donna because I enjoy talking in ASL.', \"I don't know if my sister likes Boston.\", 'When is the pizza party that my friend is hosting?', 'Last break, I completed all of my homework ahead of time.', \"I'm almost finished with my homework.\", 'The box is really big.', \"No, I've never run a marathon before, and I don't plan to start now.\", \"If I have to pay rent now, that is fine, I'll just cancel my vacation.\", \"Back in high school, my mom would wake me up every morning because I didn't feel the alarm and slept through it.\", 'If Bob adopts a big dog, he has to accept that he will spend lots of money on the dog.', 'When my friend is tired of driving, we will switch.', 'If your friend passes out, I won\\x92t take care of him.', 'Where did Sue move?', 'Why is Jack nauseated?', 'Who owns this big dog?', 'If I buy the shorts, I will have to return the shoes.', \"I'm not happy, I'm sad.\", 'Someone found my keys, who was it?', 'And how they coped and navigated through the world and the feedbacks they received from others.', 'Who tends to commute to work by bicycle?', \"I'm not skilled.\", 'Who wants to play Frisbee?', 'My aunt isn\\x92t an expert at making apple pies.', \"There's no book on the table.\", 'I enjoy talking with Donna and Jessica, but I also enjoy talking with everyone else.', 'If Bob goes to the post office, I will give him my letters to drop off.', 'When my friend goes out fishing, the fish has to go in the bucket immediately so it will be fresh.', 'If Mary is not happy, no one is.', 'If Obama picks a Republican, he will be sorry.', 'Does Jack have money?', 'Did Jack see something weird while he was waiting outside?', \"If there's no time tomorrow, you can wash the car on Monday.\", 'Who found my keys?', \"Who's driving?\", 'My friend drives.', \"The clothes aren't on sale.\", 'Mac beats PC because Mac is good at suiting people\\x92s needs.', 'Who will go to the post office?', 'They assigned me many tasks.', \"I didn't enjoy talking with those two.\", \"You didn't pass out?\", 'My friend is currently planning a surprise event.', 'The man who broke into a house in Newton is probably the same person who broke into a house in Brookline,', \"If the box hasn't arrived yet you need to contact Fedex.\", 'My friend goes out fishing.', 'My friends realized they didn\\x92t want a pizza party because it has been the norm.', \"That student who was on the quiz show didn't win.\", \"I won't be thrilled if there's pineapple cream cheese.\", 'Which high school did you go to?', \"If I wasn't so afraid, I would've gone white water rafting.\", 'The second part of this article is titled Sensory Orientation.', 'Who fell in love with Bill?', \"If John isn't here, does anyone know where he went?\", 'Do you really need to video phone? Why not page?', \"When I move out of San Diego, I will have to get a new driver's license.\", 'Which famous actor is Liz related to?', 'Are Jen and Joe married?', \"If my sister neglects her homework, she won't succeed in school.\", 'Last night, I was drunk; everyone was cheering me on.', \"No, he/she didn't stop.\", 'One time, I missed my morning class because I accidentally over slept.', 'Which college does Mary go to?', 'My friends are playing video games.', 'If my friend goes out to a party, I will join them for sure.', 'When my friends leave, I will finally start on my homework.', 'You are wrong. No, I prefer lox, I don\\x92t like pineapple cream cheese.', \"What's your job?\", 'Did Jack see something weird while he was waiting outside?', \"American Airlines isn't that expensive, but if it was, then I'd be stuck because it's the only airline that flies between Boston and Florida.\", 'If the horses play all day on the farm, by nighttime they will be exhausted.', \"The box isn't small it's large.\", 'Who is he/she?', 'Why is dad upset? I have no idea...', 'Why is your friend addicted to the Internet?', \"No, I'm not scared of heights. What makes you think that?\", 'If your friend crashes my party, I will kick him out.', 'Why does the friend look fucked up?', \"They will start to have the understanding by learning through experiences. We often use the Deaf people's experience through narratives to discuss the understanding of the American culture.\", \"I'm not tired.\", 'If I buy shorts, I would have to return my shoes.', 'Each student that received an award is here watching.', 'The man who broke into a house in Newton is probably the same person who broke into a house in Brookline,', \"If it's quiet in here it probably means that there are children upstairs sleeping.\", 'Where is your friend driving to?', 'Who loves watching fireworks?', 'If my friends do not want to go out, I will stay home and watch television.', \"My sister doesn't want a headband for her birthday.\", 'If Mary gets home late, John will probably be upset.', 'Who wants to play frisbee?', 'My sister wants a headband for her birthday because she has long hair.', \"The teacher is sick of cleaning the classroom, so he didn't clean the room.\", 'I arrived at school late because I got into a bicycle accident.', 'The first one is the voice and the second one is the control of sounds.', 'Will Bob be surprised by the surprise event?', 'Who loves to watch fireworks?', 'When I introduce a new friend, I will test and make sure he remembers the names.', 'What kind of party is it?', \"No, no one has found the umbrella, it's still missing.\", \"The teacher didn't make the reading required so John didn't read.\", 'Mother looks sick? How?', 'My friend loves travelling, especially in Asian countries because there\\x92s more of a variety of things to do, compared to other countries.', \"If it's snowing out, then school is cancelled.\", 'If my friend is driving, I sleep in the back seat.', \"When my boss calls me, everyone looks at me and they know I'm in trouble.\", 'If my friend hosts a pizza party, I will bring a supreme sized pizza.', 'If my sister gets a headband for her birthday, she will definitely decorate it with glitter.', \"I'm always serious in school.\", 'Pete loves computers; he has three set up one next to the other at home!', 'When Jack went out, did he see something strange?', 'If my friend goes out fishing, I have to monitor the weather to make sure it\\x92s fine for fishing.', 'Last night I did a lot of homework.', 'My friend is calling home on the video phone.', 'If he actually liked his food, we would have cleaned his plate. He did not, so something is wrong.', 'Once my friend starts playing video games, he is hooked to it all night until his eyes pop out.', 'If Bob gives his girlfriend roses, she will be happy.', \"John didn't break the window, Sally did.\", \"People aren't using records anymore because they have iPods now.\", \"The testimonies as well. It's becoming to be like a bricolage, but we collect and organize the deaf experiences instead.\", 'If my friends are going to the party, I will join.', 'When Bob arrives at the party, everyone has to spray him with silly string and tease him.', 'Have Jack and Sue met?', 'During the winter, I tend to get sick a lot because I tend to wear flip flops.', 'No, I just finished homework.', \"I decided not to invite Mary because she wouldn't get along with people.\", 'If the baseball game has fireworks, I have to go.', 'If my friend goes out to a party, my roommate and I will join.', \"My sister hates water skiing because it's hard to balance.\", \"John didn't break the window, James did.\", 'When does the party start?', 'I know that I should enter the haunted house at my own risk.', \"We can't give out peanut butter, Beth is deathly allergic to peanuts,\", \"There's not many animals here in Boston.\", \"No, no one has found the umbrella, it's still missing.\", 'If friends play frisbee, I will  join them.', \"If you don't want pizza, you can order pasta.\", 'When my friend is surfing the Internet, I remind him about his unfinished homework.', 'If mother is sick, I have to take care of her.', 'No, he lives in a small apartment in the city.', 'When did your friend start driving?', 'How many kids does Phil have?', 'Who is asking for directions?', 'Now as we move on to the next topic we will talk specifically about the audio vocal orientation.', 'Who bought the car?', 'If he/she leaves, would you mind closing door/gate?', 'No, the movie starts at 10.', \"When my father starts to play video games, I go upstairs because it's boring to watch him play.\", 'If Mother cleans the kitchen, it means we can\\x92t bake cookies.', 'The watch that my brother just found is real gold!']\n"
          ]
        }
      ]
    },
    {
      "cell_type": "code",
      "source": [
        "BUFFER_SIZE = len(inp)\n",
        "BATCH_SIZE = 120\n",
        "\n",
        "dataset = tf.data.Dataset.from_tensor_slices((inp, target)).shuffle(BUFFER_SIZE)\n",
        "dataset = dataset.batch(BATCH_SIZE)"
      ],
      "metadata": {
        "id": "HrGfj_VT64ND"
      },
      "execution_count": null,
      "outputs": []
    },
    {
      "cell_type": "code",
      "source": [
        "for example_input_batch, example_target_batch in dataset.take(1):\n",
        "  print(example_input_batch[:5])\n",
        "  print()\n",
        "  print(example_target_batch[:5])\n",
        "  break"
      ],
      "metadata": {
        "colab": {
          "base_uri": "https://localhost:8080/"
        },
        "id": "fPLyhZs_7Lfa",
        "outputId": "8de0b1a8-8dc1-4f2d-ad84-6a206edcbdcf"
      },
      "execution_count": null,
      "outputs": [
        {
          "output_type": "stream",
          "name": "stdout",
          "text": [
            "tf.Tensor(\n",
            "[b'Mother will give me twenty dollars if I clean the kitchen.'\n",
            " b'Who loves to watch fireworks?' b'When are your friends going fishing?'\n",
            " b'Now as we move on to the next topic we will talk specifically about the audio vocal orientation.'\n",
            " b'How many kids does Phil have?'], shape=(5,), dtype=string)\n",
            "\n",
            "tf.Tensor(\n",
            "[b'FINEwg MOTHERwg FUTURE GIVE-1p TWENTY DOLLAR #IF IX-1p NICE/CLEAN (K)KITCHEN DOLLAR NICE/CLEAN (K)KITCHEN'\n",
            " b'KISS-FIST LOOK FIREWORKS WHO FIREWORKS'\n",
            " b'FRIEND IX-3p:i DEPART FISHING #WHEN FRIEND FISHING'\n",
            " b'NOW MOVING-ON-TO-NEXT-TOPIC TALK ABOUT fs-AUDIO fs-VOCAL #ORIENTATION MAJOR NOW MOVING-ON-TO-NEXT-TOPIC ABOUT MAJOR'\n",
            " b'fs-PHIL (1h)HAVE KID CHILDREN (1h)HOW-MANY/MANY CHILDREN'], shape=(5,), dtype=string)\n"
          ]
        }
      ]
    },
    {
      "cell_type": "code",
      "source": [
        "example_text = tf.constant(' Me llamo Sadia')\n",
        "\n",
        "print(example_text.numpy())\n",
        "print(tf_text.normalize_utf8(example_text, 'NFKD').numpy())"
      ],
      "metadata": {
        "colab": {
          "base_uri": "https://localhost:8080/"
        },
        "id": "81MZCnm47SIK",
        "outputId": "e9d272c3-47cc-48c2-e05c-c13c8e6b4284"
      },
      "execution_count": null,
      "outputs": [
        {
          "output_type": "stream",
          "name": "stdout",
          "text": [
            "b' Me llamo Sadia'\n",
            "b' Me llamo Sadia'\n"
          ]
        }
      ]
    },
    {
      "cell_type": "code",
      "source": [
        "def lower(text):\n",
        "  text = tf.strings.join(['[START]', text, '[END]'], separator=' ')\n",
        "  return text"
      ],
      "metadata": {
        "id": "jIUuzYaF9W-M"
      },
      "execution_count": null,
      "outputs": []
    },
    {
      "cell_type": "code",
      "source": [
        "print(example_text.numpy().decode())\n",
        "print(lower(example_text).numpy().decode())"
      ],
      "metadata": {
        "colab": {
          "base_uri": "https://localhost:8080/"
        },
        "id": "tyWZI1k-9YRj",
        "outputId": "8d3c8119-406f-4c89-abcf-eeed099a9045"
      },
      "execution_count": null,
      "outputs": [
        {
          "output_type": "stream",
          "name": "stdout",
          "text": [
            " Me llamo Sadia\n",
            "[START]  Me llamo Sadia [END]\n"
          ]
        }
      ]
    },
    {
      "cell_type": "code",
      "source": [
        "max_vocab_size = 7000\n",
        "\n",
        "input_text_processor = tf.keras.layers.TextVectorization(\n",
        "    standardize=lower,\n",
        "    max_tokens=max_vocab_size)"
      ],
      "metadata": {
        "id": "37ctG5es9eub"
      },
      "execution_count": null,
      "outputs": []
    },
    {
      "cell_type": "code",
      "source": [
        "input_text_processor.adapt(inp)\n",
        "\n",
        "input_text_processor.get_vocabulary()[:10]"
      ],
      "metadata": {
        "colab": {
          "base_uri": "https://localhost:8080/"
        },
        "id": "zkl8qwl-9oas",
        "outputId": "ed6e5a33-56bb-4f14-fa93-38dd2ebd6814"
      },
      "execution_count": null,
      "outputs": [
        {
          "output_type": "execute_result",
          "data": {
            "text/plain": [
              "['', '[UNK]', '[START]', '[END]', 'the', 'I', 'to', 'If', 'a', 'is']"
            ]
          },
          "metadata": {},
          "execution_count": 15
        }
      ]
    },
    {
      "cell_type": "code",
      "source": [
        "output_text_processor = tf.keras.layers.TextVectorization(\n",
        "    standardize=lower,\n",
        "    max_tokens=max_vocab_size)\n",
        "\n",
        "output_text_processor.adapt(target)\n",
        "output_text_processor.get_vocabulary()[:10]"
      ],
      "metadata": {
        "colab": {
          "base_uri": "https://localhost:8080/"
        },
        "id": "Zt_gwrCM-HDl",
        "outputId": "9d3922f1-0dee-48a5-9c9a-6e1655031c2c"
      },
      "execution_count": null,
      "outputs": [
        {
          "output_type": "execute_result",
          "data": {
            "text/plain": [
              "['',\n",
              " '[UNK]',\n",
              " '[START]',\n",
              " '[END]',\n",
              " 'IX-1p',\n",
              " 'FRIEND',\n",
              " 'IX-3p:i',\n",
              " 'part:indef',\n",
              " 'IX-loc:i',\n",
              " '(1h)part:indef']"
            ]
          },
          "metadata": {},
          "execution_count": 16
        }
      ]
    },
    {
      "cell_type": "code",
      "source": [
        "example_tokens = input_text_processor(example_input_batch)\n",
        "example_tokens[:3, :10]"
      ],
      "metadata": {
        "colab": {
          "base_uri": "https://localhost:8080/"
        },
        "id": "p7U4GghB-Ol1",
        "outputId": "3f27e412-49c6-40e5-9f00-9440aa960c93"
      },
      "execution_count": null,
      "outputs": [
        {
          "output_type": "execute_result",
          "data": {
            "text/plain": [
              "<tf.Tensor: shape=(3, 10), dtype=int64, numpy=\n",
              "array([[   2,  117,   11,   81,   66,  492, 1314,   49,    5,  720],\n",
              "       [   2,   17,   62,    6,   91,  230,    3,    0,    0,    0],\n",
              "       [   2,   23,   37,   59,   32,   52,  403,    3,    0,    0]])>"
            ]
          },
          "metadata": {},
          "execution_count": 17
        }
      ]
    },
    {
      "cell_type": "code",
      "source": [
        "input_vocab = np.array(input_text_processor.get_vocabulary())\n",
        "tokens = input_vocab[example_tokens[0].numpy()]\n",
        "' '.join(tokens)"
      ],
      "metadata": {
        "colab": {
          "base_uri": "https://localhost:8080/",
          "height": 35
        },
        "id": "OiAxTaje-Url",
        "outputId": "5d8b2557-9494-4671-b283-e7714b7e7605"
      },
      "execution_count": null,
      "outputs": [
        {
          "output_type": "execute_result",
          "data": {
            "text/plain": [
              "'[START] Mother will give me twenty dollars if I clean the kitchen. [END]         '"
            ],
            "application/vnd.google.colaboratory.intrinsic+json": {
              "type": "string"
            }
          },
          "metadata": {},
          "execution_count": 18
        }
      ]
    },
    {
      "cell_type": "code",
      "source": [
        "embedding_dim = 256\n",
        "units = 1026"
      ],
      "metadata": {
        "id": "4aOZx9NI-jIt"
      },
      "execution_count": null,
      "outputs": []
    },
    {
      "cell_type": "code",
      "source": [
        "class Encoder(tf.keras.layers.Layer):\n",
        "  def __init__(self, input_vocab_size, embedding_dim, enc_units):\n",
        "    super(Encoder, self).__init__()\n",
        "    self.enc_units = enc_units\n",
        "    self.input_vocab_size = input_vocab_size\n",
        "\n",
        "    # The embedding layer converts tokens to vectors\n",
        "    self.embedding = tf.keras.layers.Embedding(self.input_vocab_size,\n",
        "                                               embedding_dim)\n",
        "\n",
        "    # The GRU RNN layer processes those vectors sequentially.\n",
        "    self.gru = tf.keras.layers.GRU(self.enc_units,\n",
        "                                   # Return the sequence and state\n",
        "                                   return_sequences=True,\n",
        "                                   return_state=True,\n",
        "                                   recurrent_initializer='glorot_uniform')\n",
        "\n",
        "  def call(self, tokens, state=None):\n",
        "    shape_checker = ShapeChecker()\n",
        "    shape_checker(tokens, ('batch', 's'))\n",
        "\n",
        "    # 2. The embedding layer looks up the embedding for each token.\n",
        "    vectors = self.embedding(tokens)\n",
        "    shape_checker(vectors, ('batch', 's', 'embed_dim'))\n",
        "\n",
        "    # 3. The GRU processes the embedding sequence.\n",
        "    #    output shape: (batch, s, enc_units)\n",
        "    #    state shape: (batch, enc_units)\n",
        "    output, state = self.gru(vectors, initial_state=state)\n",
        "    shape_checker(output, ('batch', 's', 'enc_units'))\n",
        "    shape_checker(state, ('batch', 'enc_units'))\n",
        "\n",
        "    # 4. Returns the new sequence and its state.\n",
        "    return output, state"
      ],
      "metadata": {
        "id": "raTDdC9s-pnf"
      },
      "execution_count": null,
      "outputs": []
    },
    {
      "cell_type": "code",
      "source": [
        "# Convert the input text to tokens.\n",
        "example_tokens = input_text_processor(example_input_batch)\n",
        "\n",
        "# Encode the input sequence.\n",
        "encoder = Encoder(input_text_processor.vocabulary_size(),\n",
        "                  embedding_dim, units)\n",
        "example_enc_output, example_enc_state = encoder(example_tokens)\n",
        "\n",
        "print(f'Input batch, shape (batch): {example_input_batch.shape}')\n",
        "print(f'Input batch tokens, shape (batch, s): {example_tokens.shape}')\n",
        "print(f'Encoder output, shape (batch, s, units): {example_enc_output.shape}')\n",
        "print(f'Encoder state, shape (batch, units): {example_enc_state.shape}')"
      ],
      "metadata": {
        "colab": {
          "base_uri": "https://localhost:8080/"
        },
        "id": "SWCkxYJe-wjW",
        "outputId": "25301ce0-2b0e-466f-ec77-536351c024ac"
      },
      "execution_count": null,
      "outputs": [
        {
          "output_type": "stream",
          "name": "stdout",
          "text": [
            "Input batch, shape (batch): (32,)\n",
            "Input batch tokens, shape (batch, s): (32, 22)\n",
            "Encoder output, shape (batch, s, units): (32, 22, 1026)\n",
            "Encoder state, shape (batch, units): (32, 1026)\n"
          ]
        }
      ]
    },
    {
      "cell_type": "code",
      "source": [
        "class BahdanauAttention(tf.keras.layers.Layer):\n",
        "  def __init__(self, units):\n",
        "    super().__init__()\n",
        "    # For Eqn. (4), the  Bahdanau attention\n",
        "    self.W1 = tf.keras.layers.Dense(units, use_bias=False)\n",
        "    self.W2 = tf.keras.layers.Dense(units, use_bias=False)\n",
        "\n",
        "    self.attention = tf.keras.layers.AdditiveAttention()\n",
        "\n",
        "  def call(self, query, value, mask):\n",
        "    shape_checker = ShapeChecker()\n",
        "    shape_checker(query, ('batch', 't', 'query_units'))\n",
        "    shape_checker(value, ('batch', 's', 'value_units'))\n",
        "    shape_checker(mask, ('batch', 's'))\n",
        "\n",
        "    # From Eqn. (4), `W1@ht`.\n",
        "    w1_query = self.W1(query)\n",
        "    shape_checker(w1_query, ('batch', 't', 'attn_units'))\n",
        "\n",
        "    # From Eqn. (4), `W2@hs`.\n",
        "    w2_key = self.W2(value)\n",
        "    shape_checker(w2_key, ('batch', 's', 'attn_units'))\n",
        "\n",
        "    query_mask = tf.ones(tf.shape(query)[:-1], dtype=bool)\n",
        "    value_mask = mask\n",
        "\n",
        "    context_vector, attention_weights = self.attention(\n",
        "        inputs = [w1_query, value, w2_key],\n",
        "        mask=[query_mask, value_mask],\n",
        "        return_attention_scores = True,\n",
        "    )\n",
        "    shape_checker(context_vector, ('batch', 't', 'value_units'))\n",
        "    shape_checker(attention_weights, ('batch', 't', 's'))\n",
        "\n",
        "    return context_vector, attention_weights"
      ],
      "metadata": {
        "id": "m0U65JSJ-4J9"
      },
      "execution_count": null,
      "outputs": []
    },
    {
      "cell_type": "code",
      "source": [
        "attention_layer = BahdanauAttention(units)"
      ],
      "metadata": {
        "id": "dsZRVwiZ-9vm"
      },
      "execution_count": null,
      "outputs": []
    },
    {
      "cell_type": "code",
      "source": [
        "(example_tokens != 0).shape"
      ],
      "metadata": {
        "colab": {
          "base_uri": "https://localhost:8080/"
        },
        "id": "t3hoPgrV_SRO",
        "outputId": "29783723-b8e3-4e1a-e146-6702433cebf5"
      },
      "execution_count": null,
      "outputs": [
        {
          "output_type": "execute_result",
          "data": {
            "text/plain": [
              "TensorShape([32, 22])"
            ]
          },
          "metadata": {},
          "execution_count": 25
        }
      ]
    },
    {
      "cell_type": "code",
      "source": [
        "# Later, the decoder will generate this attention query\n",
        "example_attention_query = tf.random.normal(shape=[len(example_tokens), 2, 10])\n",
        "\n",
        "# Attend to the encoded tokens\n",
        "\n",
        "context_vector, attention_weights = attention_layer(\n",
        "    query=example_attention_query,\n",
        "    value=example_enc_output,\n",
        "    mask=(example_tokens != 0))\n",
        "\n",
        "print(f'Attention result shape: (batch_size, query_seq_length, units):           {context_vector.shape}')\n",
        "print(f'Attention weights shape: (batch_size, query_seq_length, value_seq_length): {attention_weights.shape}')"
      ],
      "metadata": {
        "colab": {
          "base_uri": "https://localhost:8080/"
        },
        "id": "WrL5Bpvj_UZI",
        "outputId": "e8036b77-1ab7-4e04-8550-2d0c3a3f1023"
      },
      "execution_count": null,
      "outputs": [
        {
          "output_type": "stream",
          "name": "stdout",
          "text": [
            "Attention result shape: (batch_size, query_seq_length, units):           (32, 2, 1026)\n",
            "Attention weights shape: (batch_size, query_seq_length, value_seq_length): (32, 2, 22)\n"
          ]
        }
      ]
    },
    {
      "cell_type": "code",
      "source": [
        "attention_weights.shape"
      ],
      "metadata": {
        "colab": {
          "base_uri": "https://localhost:8080/"
        },
        "id": "AeKblRwW_gKI",
        "outputId": "e21f6260-33bc-4ff7-ddbc-814fb5392d9c"
      },
      "execution_count": null,
      "outputs": [
        {
          "output_type": "execute_result",
          "data": {
            "text/plain": [
              "TensorShape([32, 2, 22])"
            ]
          },
          "metadata": {},
          "execution_count": 28
        }
      ]
    },
    {
      "cell_type": "code",
      "source": [
        "attention_slice = attention_weights[0, 0].numpy()\n",
        "attention_slice = attention_slice[attention_slice != 0]"
      ],
      "metadata": {
        "id": "4YcfxmG5_jEC"
      },
      "execution_count": null,
      "outputs": []
    },
    {
      "cell_type": "code",
      "source": [
        "#@title\n",
        "plt.suptitle('Attention weights for one sequence')\n",
        "\n",
        "plt.figure(figsize=(12, 6))\n",
        "a1 = plt.subplot(1, 2, 1)\n",
        "plt.bar(range(len(attention_slice)), attention_slice)\n",
        "# freeze the xlim\n",
        "plt.xlim(plt.xlim())\n",
        "plt.xlabel('Attention weights')\n",
        "\n",
        "a2 = plt.subplot(1, 2, 2)\n",
        "plt.bar(range(len(attention_slice)), attention_slice)\n",
        "plt.xlabel('Attention weights, zoomed')\n",
        "\n",
        "# zoom in\n",
        "top = max(a1.get_ylim())\n",
        "zoom = 0.85*top\n",
        "a2.set_ylim([0.90*top, top])\n",
        "a1.plot(a1.get_xlim(), [zoom, zoom], color='k')"
      ],
      "metadata": {
        "colab": {
          "base_uri": "https://localhost:8080/",
          "height": 423
        },
        "id": "5w-ixnOx_o-o",
        "outputId": "0560a685-2f52-47e8-fb51-8f9e361eeafb"
      },
      "execution_count": null,
      "outputs": [
        {
          "output_type": "execute_result",
          "data": {
            "text/plain": [
              "[<matplotlib.lines.Line2D at 0x7f00f03e6890>]"
            ]
          },
          "metadata": {},
          "execution_count": 30
        },
        {
          "output_type": "display_data",
          "data": {
            "text/plain": [
              "<Figure size 432x288 with 0 Axes>"
            ]
          },
          "metadata": {}
        },
        {
          "output_type": "display_data",
          "data": {
            "text/plain": [
              "<Figure size 864x432 with 2 Axes>"
            ],
            "image/png": "[encoded data removed]"
          },
          "metadata": {
            "needs_background": "light"
          }
        }
      ]
    },
    {
      "cell_type": "code",
      "source": [
        "class Decoder(tf.keras.layers.Layer):\n",
        "  def __init__(self, output_vocab_size, embedding_dim, dec_units):\n",
        "    super(Decoder, self).__init__()\n",
        "    self.dec_units = dec_units\n",
        "    self.output_vocab_size = output_vocab_size\n",
        "    self.embedding_dim = embedding_dim\n",
        "\n",
        "    # For Step 1. The embedding layer convets token IDs to vectors\n",
        "    self.embedding = tf.keras.layers.Embedding(self.output_vocab_size,\n",
        "                                               embedding_dim)\n",
        "\n",
        "    # For Step 2. The RNN keeps track of what's been generated so far.\n",
        "    self.gru = tf.keras.layers.GRU(self.dec_units,\n",
        "                                   return_sequences=True,\n",
        "                                   return_state=True,\n",
        "                                   recurrent_initializer='glorot_uniform')\n",
        "\n",
        "    # For step 3. The RNN output will be the query for the attention layer.\n",
        "    self.attention = BahdanauAttention(self.dec_units)\n",
        "\n",
        "    # For step 4. Eqn. (3): converting `ct` to `at`\n",
        "    self.Wc = tf.keras.layers.Dense(dec_units, activation=tf.math.tanh,\n",
        "                                    use_bias=False)\n",
        "\n",
        "    # For step 5. This fully connected layer produces the logits for each\n",
        "    # output token.\n",
        "    self.fc = tf.keras.layers.Dense(self.output_vocab_size)"
      ],
      "metadata": {
        "id": "iJ0jdvzJ_wNL"
      },
      "execution_count": null,
      "outputs": []
    },
    {
      "cell_type": "code",
      "source": [
        "class DecoderInput(typing.NamedTuple):\n",
        "  new_tokens: Any\n",
        "  enc_output: Any\n",
        "  mask: Any\n",
        "\n",
        "class DecoderOutput(typing.NamedTuple):\n",
        "  logits: Any\n",
        "  attention_weights: Any"
      ],
      "metadata": {
        "id": "_g1NYUK2_4wS"
      },
      "execution_count": null,
      "outputs": []
    },
    {
      "cell_type": "code",
      "source": [
        "def call(self,\n",
        "         inputs: DecoderInput,\n",
        "         state=None) -> Tuple[DecoderOutput, tf.Tensor]:\n",
        "  shape_checker = ShapeChecker()\n",
        "  shape_checker(inputs.new_tokens, ('batch', 't'))\n",
        "  shape_checker(inputs.enc_output, ('batch', 's', 'enc_units'))\n",
        "  shape_checker(inputs.mask, ('batch', 's'))\n",
        "\n",
        "  if state is not None:\n",
        "    shape_checker(state, ('batch', 'dec_units'))\n",
        "\n",
        "  # Step 1. Lookup the embeddings\n",
        "  vectors = self.embedding(inputs.new_tokens)\n",
        "  shape_checker(vectors, ('batch', 't', 'embedding_dim'))\n",
        "\n",
        "  # Step 2. Process one step with the RNN\n",
        "  rnn_output, state = self.gru(vectors, initial_state=state)\n",
        "\n",
        "  shape_checker(rnn_output, ('batch', 't', 'dec_units'))\n",
        "  shape_checker(state, ('batch', 'dec_units'))\n",
        "\n",
        "  # Step 3. Use the RNN output as the query for the attention over the\n",
        "  # encoder output.\n",
        "  context_vector, attention_weights = self.attention(\n",
        "      query=rnn_output, value=inputs.enc_output, mask=inputs.mask)\n",
        "  shape_checker(context_vector, ('batch', 't', 'dec_units'))\n",
        "  shape_checker(attention_weights, ('batch', 't', 's'))\n",
        "\n",
        "  # Step 4. Eqn. (3): Join the context_vector and rnn_output\n",
        "  #     [ct; ht] shape: (batch t, value_units + query_units)\n",
        "  context_and_rnn_output = tf.concat([context_vector, rnn_output], axis=-1)\n",
        "\n",
        "  # Step 4. Eqn. (3): `at = tanh(Wc@[ct; ht])`\n",
        "  attention_vector = self.Wc(context_and_rnn_output)\n",
        "  shape_checker(attention_vector, ('batch', 't', 'dec_units'))\n",
        "\n",
        "  # Step 5. Generate logit predictions:\n",
        "  logits = self.fc(attention_vector)\n",
        "  shape_checker(logits, ('batch', 't', 'output_vocab_size'))\n",
        "\n",
        "  return DecoderOutput(logits, attention_weights), state"
      ],
      "metadata": {
        "id": "1OIfSrEk_7rR"
      },
      "execution_count": null,
      "outputs": []
    },
    {
      "cell_type": "code",
      "source": [
        "Decoder.call = call"
      ],
      "metadata": {
        "id": "OKhHZjlQABLB"
      },
      "execution_count": null,
      "outputs": []
    },
    {
      "cell_type": "code",
      "source": [
        "decoder = Decoder(output_text_processor.vocabulary_size(),\n",
        "                  embedding_dim, units)"
      ],
      "metadata": {
        "id": "xxIK1yoDADaS"
      },
      "execution_count": null,
      "outputs": []
    },
    {
      "cell_type": "code",
      "source": [
        "# Convert the target sequence, and collect the \"[START]\" tokens\n",
        "example_output_tokens = output_text_processor(example_target_batch)\n",
        "\n",
        "start_index = output_text_processor.get_vocabulary().index('[START]')\n",
        "first_token = tf.constant([[start_index]] * example_output_tokens.shape[0])"
      ],
      "metadata": {
        "id": "1FD2BvDQAIn6"
      },
      "execution_count": null,
      "outputs": []
    },
    {
      "cell_type": "code",
      "source": [
        "# Run the decoder\n",
        "dec_result, dec_state = decoder(\n",
        "    inputs = DecoderInput(new_tokens=first_token,\n",
        "                          enc_output=example_enc_output,\n",
        "                          mask=(example_tokens != 0)),\n",
        "    state = example_enc_state\n",
        ")\n",
        "\n",
        "print(f'logits shape: (batch_size, t, output_vocab_size) {dec_result.logits.shape}')\n",
        "print(f'state shape: (batch_size, dec_units) {dec_state.shape}')"
      ],
      "metadata": {
        "colab": {
          "base_uri": "https://localhost:8080/"
        },
        "id": "NYbN3Pf1AKOY",
        "outputId": "115c718b-261c-4fcb-f1d2-49de1fd274be"
      },
      "execution_count": null,
      "outputs": [
        {
          "output_type": "stream",
          "name": "stdout",
          "text": [
            "logits shape: (batch_size, t, output_vocab_size) (32, 1, 1294)\n",
            "state shape: (batch_size, dec_units) (32, 1026)\n"
          ]
        }
      ]
    },
    {
      "cell_type": "code",
      "source": [
        "sampled_token = tf.random.categorical(dec_result.logits[:, 0, :], num_samples=1)"
      ],
      "metadata": {
        "id": "I-szbnicAQrD"
      },
      "execution_count": null,
      "outputs": []
    },
    {
      "cell_type": "code",
      "source": [
        "vocab = np.array(output_text_processor.get_vocabulary())\n",
        "first_word = vocab[sampled_token.numpy()]"
      ],
      "metadata": {
        "id": "n1oIXv63AZV6"
      },
      "execution_count": null,
      "outputs": []
    },
    {
      "cell_type": "code",
      "source": [
        "dec_result, dec_state = decoder(\n",
        "    DecoderInput(sampled_token,\n",
        "                 example_enc_output,\n",
        "                 mask=(example_tokens != 0)),\n",
        "    state=dec_state)"
      ],
      "metadata": {
        "id": "wUpYCKBHA2uy"
      },
      "execution_count": null,
      "outputs": []
    },
    {
      "cell_type": "code",
      "source": [
        "sampled_token = tf.random.categorical(dec_result.logits[:, 0, :], num_samples=1)\n",
        "first_word = vocab[sampled_token.numpy()]"
      ],
      "metadata": {
        "id": "wQNs1_KXA8Ub"
      },
      "execution_count": null,
      "outputs": []
    },
    {
      "cell_type": "code",
      "source": [
        "class MaskedLoss(tf.keras.losses.Loss):\n",
        "  def __init__(self):\n",
        "    self.name = 'masked_loss'\n",
        "    self.loss = tf.keras.losses.SparseCategoricalCrossentropy(\n",
        "        from_logits=True, reduction='none')\n",
        "\n",
        "  def __call__(self, y_true, y_pred):\n",
        "    shape_checker = ShapeChecker()\n",
        "    shape_checker(y_true, ('batch', 't'))\n",
        "    shape_checker(y_pred, ('batch', 't', 'logits'))\n",
        "\n",
        "    # Calculate the loss for each item in the batch.\n",
        "    loss = self.loss(y_true, y_pred)\n",
        "    shape_checker(loss, ('batch', 't'))\n",
        "\n",
        "    # Mask off the losses on padding.\n",
        "    mask = tf.cast(y_true != 0, tf.float32)\n",
        "    shape_checker(mask, ('batch', 't'))\n",
        "    loss *= mask\n",
        "\n",
        "    # Return the total.\n",
        "    return tf.reduce_sum(loss)"
      ],
      "metadata": {
        "id": "PBOGXqwuBBLi"
      },
      "execution_count": null,
      "outputs": []
    },
    {
      "cell_type": "code",
      "source": [
        "class TrainTranslator(tf.keras.Model):\n",
        "  def __init__(self, embedding_dim, units,\n",
        "               input_text_processor,\n",
        "               output_text_processor, \n",
        "               use_tf_function=True):\n",
        "    super().__init__()\n",
        "    # Build the encoder and decoder\n",
        "    encoder = Encoder(input_text_processor.vocabulary_size(),\n",
        "                      embedding_dim, units)\n",
        "    decoder = Decoder(output_text_processor.vocabulary_size(),\n",
        "                      embedding_dim, units)\n",
        "\n",
        "    self.encoder = encoder\n",
        "    self.decoder = decoder\n",
        "    self.input_text_processor = input_text_processor\n",
        "    self.output_text_processor = output_text_processor\n",
        "    self.use_tf_function = use_tf_function\n",
        "    self.shape_checker = ShapeChecker()\n",
        "\n",
        "  def train_step(self, inputs):\n",
        "    self.shape_checker = ShapeChecker()\n",
        "    if self.use_tf_function:\n",
        "      return self._tf_train_step(inputs)\n",
        "    else:\n",
        "      return self._train_step(inputs)"
      ],
      "metadata": {
        "id": "QX88SyYABEMT"
      },
      "execution_count": null,
      "outputs": []
    },
    {
      "cell_type": "code",
      "source": [
        "def _preprocess(self, input_text, target_text):\n",
        "  self.shape_checker(input_text, ('batch',))\n",
        "  self.shape_checker(target_text, ('batch',))\n",
        "\n",
        "  # Convert the text to token IDs\n",
        "  input_tokens = self.input_text_processor(input_text)\n",
        "  target_tokens = self.output_text_processor(target_text)\n",
        "  self.shape_checker(input_tokens, ('batch', 's'))\n",
        "  self.shape_checker(target_tokens, ('batch', 't'))\n",
        "\n",
        "  # Convert IDs to masks.\n",
        "  input_mask = input_tokens != 0\n",
        "  self.shape_checker(input_mask, ('batch', 's'))\n",
        "\n",
        "  target_mask = target_tokens != 0\n",
        "  self.shape_checker(target_mask, ('batch', 't'))\n",
        "\n",
        "  return input_tokens, input_mask, target_tokens, target_mask"
      ],
      "metadata": {
        "id": "LhmkyRsrBK9C"
      },
      "execution_count": null,
      "outputs": []
    },
    {
      "cell_type": "code",
      "source": [
        "TrainTranslator._preprocess = _preprocess"
      ],
      "metadata": {
        "id": "jWCislNJBNOF"
      },
      "execution_count": null,
      "outputs": []
    },
    {
      "cell_type": "code",
      "source": [
        "def _train_step(self, inputs):\n",
        "  input_text, target_text = inputs  \n",
        "\n",
        "  (input_tokens, input_mask,\n",
        "   target_tokens, target_mask) = self._preprocess(input_text, target_text)\n",
        "\n",
        "  max_target_length = tf.shape(target_tokens)[1]\n",
        "\n",
        "  with tf.GradientTape() as tape:\n",
        "    # Encode the input\n",
        "    enc_output, enc_state = self.encoder(input_tokens)\n",
        "    self.shape_checker(enc_output, ('batch', 's', 'enc_units'))\n",
        "    self.shape_checker(enc_state, ('batch', 'enc_units'))\n",
        "\n",
        "    # Initialize the decoder's state to the encoder's final state.\n",
        "    # This only works if the encoder and decoder have the same number of\n",
        "    # units.\n",
        "    dec_state = enc_state\n",
        "    loss = tf.constant(0.0)\n",
        "\n",
        "    for t in tf.range(max_target_length-1):\n",
        "      # Pass in two tokens from the target sequence:\n",
        "      # 1. The current input to the decoder.\n",
        "      # 2. The target for the decoder's next prediction.\n",
        "      new_tokens = target_tokens[:, t:t+2]\n",
        "      step_loss, dec_state = self._loop_step(new_tokens, input_mask,\n",
        "                                             enc_output, dec_state)\n",
        "      loss = loss + step_loss\n",
        "\n",
        "    # Average the loss over all non padding tokens.\n",
        "    average_loss = loss / tf.reduce_sum(tf.cast(target_mask, tf.float32))\n",
        "\n",
        "  # Apply an optimization step\n",
        "  variables = self.trainable_variables \n",
        "  gradients = tape.gradient(average_loss, variables)\n",
        "  self.optimizer.apply_gradients(zip(gradients, variables))\n",
        "\n",
        "  # Return a dict mapping metric names to current value\n",
        "  return {'batch_loss': average_loss}"
      ],
      "metadata": {
        "id": "EYJpzardBTMr"
      },
      "execution_count": null,
      "outputs": []
    },
    {
      "cell_type": "code",
      "source": [
        "TrainTranslator._train_step = _train_step"
      ],
      "metadata": {
        "id": "8FCndemoBUVy"
      },
      "execution_count": null,
      "outputs": []
    },
    {
      "cell_type": "code",
      "source": [
        "def _loop_step(self, new_tokens, input_mask, enc_output, dec_state):\n",
        "  input_token, target_token = new_tokens[:, 0:1], new_tokens[:, 1:2]\n",
        "\n",
        "  # Run the decoder one step.\n",
        "  decoder_input = DecoderInput(new_tokens=input_token,\n",
        "                               enc_output=enc_output,\n",
        "                               mask=input_mask)\n",
        "\n",
        "  dec_result, dec_state = self.decoder(decoder_input, state=dec_state)\n",
        "  self.shape_checker(dec_result.logits, ('batch', 't1', 'logits'))\n",
        "  self.shape_checker(dec_result.attention_weights, ('batch', 't1', 's'))\n",
        "  self.shape_checker(dec_state, ('batch', 'dec_units'))\n",
        "\n",
        "  # `self.loss` returns the total for non-padded tokens\n",
        "  y = target_token\n",
        "  y_pred = dec_result.logits\n",
        "  step_loss = self.loss(y, y_pred)\n",
        "\n",
        "  return step_loss, dec_state"
      ],
      "metadata": {
        "id": "Pg7-1Bk7Bbor"
      },
      "execution_count": null,
      "outputs": []
    },
    {
      "cell_type": "code",
      "source": [
        "TrainTranslator._loop_step = _loop_step"
      ],
      "metadata": {
        "id": "QEkf9OcxBeIb"
      },
      "execution_count": null,
      "outputs": []
    },
    {
      "cell_type": "code",
      "source": [
        "translator = TrainTranslator(\n",
        "    embedding_dim, units,\n",
        "    input_text_processor=input_text_processor,\n",
        "    output_text_processor=output_text_processor,\n",
        "    use_tf_function=False)\n",
        "\n",
        "# Configure the loss and optimizer\n",
        "translator.compile(\n",
        "    optimizer=tf.optimizers.Adam(),\n",
        "    loss=MaskedLoss(),\n",
        ")"
      ],
      "metadata": {
        "id": "YfZr1nM4BkuT"
      },
      "execution_count": null,
      "outputs": []
    },
    {
      "cell_type": "code",
      "source": [
        "np.log(output_text_processor.vocabulary_size())"
      ],
      "metadata": {
        "colab": {
          "base_uri": "https://localhost:8080/"
        },
        "id": "XOrlwU39BoYk",
        "outputId": "4215831e-05cc-4fb3-d1fd-ad1f53e3ba0e"
      },
      "execution_count": null,
      "outputs": [
        {
          "output_type": "execute_result",
          "data": {
            "text/plain": [
              "7.165493475060845"
            ]
          },
          "metadata": {},
          "execution_count": 51
        }
      ]
    },
    {
      "cell_type": "code",
      "source": [
        "%%time\n",
        "for n in range(50):\n",
        "  print(translator.train_step([example_input_batch, example_target_batch]))\n",
        "print()"
      ],
      "metadata": {
        "colab": {
          "base_uri": "https://localhost:8080/"
        },
        "id": "JN8BPI1gByUv",
        "outputId": "aee0c640-1490-40ba-8e9a-d8e6075cf489"
      },
      "execution_count": null,
      "outputs": [
        {
          "output_type": "stream",
          "name": "stdout",
          "text": [
            "{'batch_loss': <tf.Tensor: shape=(), dtype=float32, numpy=6.655336>}\n",
            "{'batch_loss': <tf.Tensor: shape=(), dtype=float32, numpy=6.619282>}\n",
            "{'batch_loss': <tf.Tensor: shape=(), dtype=float32, numpy=6.5587654>}\n",
            "{'batch_loss': <tf.Tensor: shape=(), dtype=float32, numpy=6.4025254>}\n",
            "{'batch_loss': <tf.Tensor: shape=(), dtype=float32, numpy=5.851933>}\n",
            "{'batch_loss': <tf.Tensor: shape=(), dtype=float32, numpy=7.6219115>}\n",
            "{'batch_loss': <tf.Tensor: shape=(), dtype=float32, numpy=5.093694>}\n",
            "{'batch_loss': <tf.Tensor: shape=(), dtype=float32, numpy=5.316246>}\n",
            "{'batch_loss': <tf.Tensor: shape=(), dtype=float32, numpy=5.266414>}\n",
            "{'batch_loss': <tf.Tensor: shape=(), dtype=float32, numpy=5.0387774>}\n",
            "{'batch_loss': <tf.Tensor: shape=(), dtype=float32, numpy=4.873574>}\n",
            "{'batch_loss': <tf.Tensor: shape=(), dtype=float32, numpy=4.8476324>}\n",
            "{'batch_loss': <tf.Tensor: shape=(), dtype=float32, numpy=4.725425>}\n",
            "{'batch_loss': <tf.Tensor: shape=(), dtype=float32, numpy=4.589766>}\n",
            "{'batch_loss': <tf.Tensor: shape=(), dtype=float32, numpy=4.547938>}\n",
            "{'batch_loss': <tf.Tensor: shape=(), dtype=float32, numpy=4.450683>}\n",
            "{'batch_loss': <tf.Tensor: shape=(), dtype=float32, numpy=4.4028406>}\n",
            "{'batch_loss': <tf.Tensor: shape=(), dtype=float32, numpy=4.358408>}\n",
            "{'batch_loss': <tf.Tensor: shape=(), dtype=float32, numpy=4.3088193>}\n",
            "{'batch_loss': <tf.Tensor: shape=(), dtype=float32, numpy=4.250149>}\n",
            "{'batch_loss': <tf.Tensor: shape=(), dtype=float32, numpy=4.1906695>}\n",
            "{'batch_loss': <tf.Tensor: shape=(), dtype=float32, numpy=4.1322665>}\n",
            "{'batch_loss': <tf.Tensor: shape=(), dtype=float32, numpy=4.0544295>}\n",
            "{'batch_loss': <tf.Tensor: shape=(), dtype=float32, numpy=3.9784415>}\n",
            "{'batch_loss': <tf.Tensor: shape=(), dtype=float32, numpy=3.9066615>}\n",
            "{'batch_loss': <tf.Tensor: shape=(), dtype=float32, numpy=3.848259>}\n",
            "{'batch_loss': <tf.Tensor: shape=(), dtype=float32, numpy=3.7944047>}\n",
            "{'batch_loss': <tf.Tensor: shape=(), dtype=float32, numpy=3.7202995>}\n",
            "{'batch_loss': <tf.Tensor: shape=(), dtype=float32, numpy=3.6558232>}\n",
            "{'batch_loss': <tf.Tensor: shape=(), dtype=float32, numpy=3.594678>}\n",
            "{'batch_loss': <tf.Tensor: shape=(), dtype=float32, numpy=3.5523338>}\n",
            "{'batch_loss': <tf.Tensor: shape=(), dtype=float32, numpy=3.48825>}\n",
            "{'batch_loss': <tf.Tensor: shape=(), dtype=float32, numpy=3.420475>}\n",
            "{'batch_loss': <tf.Tensor: shape=(), dtype=float32, numpy=3.3464868>}\n",
            "{'batch_loss': <tf.Tensor: shape=(), dtype=float32, numpy=3.276669>}\n",
            "{'batch_loss': <tf.Tensor: shape=(), dtype=float32, numpy=3.220564>}\n",
            "{'batch_loss': <tf.Tensor: shape=(), dtype=float32, numpy=3.1541252>}\n",
            "{'batch_loss': <tf.Tensor: shape=(), dtype=float32, numpy=3.0854878>}\n",
            "{'batch_loss': <tf.Tensor: shape=(), dtype=float32, numpy=3.0147054>}\n",
            "{'batch_loss': <tf.Tensor: shape=(), dtype=float32, numpy=2.9359589>}\n",
            "{'batch_loss': <tf.Tensor: shape=(), dtype=float32, numpy=2.868146>}\n",
            "{'batch_loss': <tf.Tensor: shape=(), dtype=float32, numpy=2.7896101>}\n",
            "{'batch_loss': <tf.Tensor: shape=(), dtype=float32, numpy=2.7115>}\n",
            "{'batch_loss': <tf.Tensor: shape=(), dtype=float32, numpy=2.6300611>}\n",
            "{'batch_loss': <tf.Tensor: shape=(), dtype=float32, numpy=2.545643>}\n",
            "{'batch_loss': <tf.Tensor: shape=(), dtype=float32, numpy=2.4519577>}\n",
            "{'batch_loss': <tf.Tensor: shape=(), dtype=float32, numpy=2.3588324>}\n",
            "{'batch_loss': <tf.Tensor: shape=(), dtype=float32, numpy=2.2628014>}\n",
            "{'batch_loss': <tf.Tensor: shape=(), dtype=float32, numpy=2.1605463>}\n",
            "{'batch_loss': <tf.Tensor: shape=(), dtype=float32, numpy=2.0654702>}\n",
            "\n",
            "CPU times: user 1min 34s, sys: 944 ms, total: 1min 35s\n",
            "Wall time: 1min 40s\n"
          ]
        }
      ]
    },
    {
      "cell_type": "code",
      "source": [
        "@tf.function(input_signature=[[tf.TensorSpec(dtype=tf.string, shape=[None]),\n",
        "                               tf.TensorSpec(dtype=tf.string, shape=[None])]])\n",
        "def _tf_train_step(self, inputs):\n",
        "  return self._train_step(inputs)"
      ],
      "metadata": {
        "id": "Q8kFz4tNCEaP"
      },
      "execution_count": null,
      "outputs": []
    },
    {
      "cell_type": "code",
      "source": [
        "TrainTranslator._tf_train_step = _tf_train_step\n",
        "translator.use_tf_function = True\n",
        "translator.train_step([example_input_batch, example_target_batch])"
      ],
      "metadata": {
        "colab": {
          "base_uri": "https://localhost:8080/"
        },
        "id": "QIyt5ixcCIy2",
        "outputId": "3a04e2b0-0366-478a-b8e5-cb5d30209791"
      },
      "execution_count": null,
      "outputs": [
        {
          "output_type": "execute_result",
          "data": {
            "text/plain": [
              "{'batch_loss': <tf.Tensor: shape=(), dtype=float32, numpy=1.9776797>}"
            ]
          },
          "metadata": {},
          "execution_count": 54
        }
      ]
    },
    {
      "cell_type": "code",
      "source": [
        "%%time\n",
        "for n in range(50):\n",
        "  print(translator.train_step([example_input_batch, example_target_batch]))\n",
        "print()"
      ],
      "metadata": {
        "colab": {
          "base_uri": "https://localhost:8080/"
        },
        "id": "kt9MmONNCSFu",
        "outputId": "4eb92b8a-8752-4acc-9b9f-7a259888f065"
      },
      "execution_count": null,
      "outputs": [
        {
          "output_type": "stream",
          "name": "stdout",
          "text": [
            "{'batch_loss': <tf.Tensor: shape=(), dtype=float32, numpy=1.9059569>}\n",
            "{'batch_loss': <tf.Tensor: shape=(), dtype=float32, numpy=1.8491584>}\n",
            "{'batch_loss': <tf.Tensor: shape=(), dtype=float32, numpy=1.6817093>}\n",
            "{'batch_loss': <tf.Tensor: shape=(), dtype=float32, numpy=1.6100926>}\n",
            "{'batch_loss': <tf.Tensor: shape=(), dtype=float32, numpy=1.5065633>}\n",
            "{'batch_loss': <tf.Tensor: shape=(), dtype=float32, numpy=1.39391>}\n",
            "{'batch_loss': <tf.Tensor: shape=(), dtype=float32, numpy=1.3092724>}\n",
            "{'batch_loss': <tf.Tensor: shape=(), dtype=float32, numpy=1.2244928>}\n",
            "{'batch_loss': <tf.Tensor: shape=(), dtype=float32, numpy=1.1253309>}\n",
            "{'batch_loss': <tf.Tensor: shape=(), dtype=float32, numpy=1.0551301>}\n",
            "{'batch_loss': <tf.Tensor: shape=(), dtype=float32, numpy=0.9720672>}\n",
            "{'batch_loss': <tf.Tensor: shape=(), dtype=float32, numpy=0.904323>}\n",
            "{'batch_loss': <tf.Tensor: shape=(), dtype=float32, numpy=0.8271294>}\n",
            "{'batch_loss': <tf.Tensor: shape=(), dtype=float32, numpy=0.7652621>}\n",
            "{'batch_loss': <tf.Tensor: shape=(), dtype=float32, numpy=0.69949913>}\n",
            "{'batch_loss': <tf.Tensor: shape=(), dtype=float32, numpy=0.6417582>}\n",
            "{'batch_loss': <tf.Tensor: shape=(), dtype=float32, numpy=0.58318156>}\n",
            "{'batch_loss': <tf.Tensor: shape=(), dtype=float32, numpy=0.5350238>}\n",
            "{'batch_loss': <tf.Tensor: shape=(), dtype=float32, numpy=0.48449752>}\n",
            "{'batch_loss': <tf.Tensor: shape=(), dtype=float32, numpy=0.44157>}\n",
            "{'batch_loss': <tf.Tensor: shape=(), dtype=float32, numpy=0.40446007>}\n",
            "{'batch_loss': <tf.Tensor: shape=(), dtype=float32, numpy=0.36302483>}\n",
            "{'batch_loss': <tf.Tensor: shape=(), dtype=float32, numpy=0.33250618>}\n",
            "{'batch_loss': <tf.Tensor: shape=(), dtype=float32, numpy=0.30175754>}\n",
            "{'batch_loss': <tf.Tensor: shape=(), dtype=float32, numpy=0.27307132>}\n",
            "{'batch_loss': <tf.Tensor: shape=(), dtype=float32, numpy=0.24926907>}\n",
            "{'batch_loss': <tf.Tensor: shape=(), dtype=float32, numpy=0.22647966>}\n",
            "{'batch_loss': <tf.Tensor: shape=(), dtype=float32, numpy=0.20677282>}\n",
            "{'batch_loss': <tf.Tensor: shape=(), dtype=float32, numpy=0.18859243>}\n",
            "{'batch_loss': <tf.Tensor: shape=(), dtype=float32, numpy=0.17132007>}\n",
            "{'batch_loss': <tf.Tensor: shape=(), dtype=float32, numpy=0.15806052>}\n",
            "{'batch_loss': <tf.Tensor: shape=(), dtype=float32, numpy=0.14366396>}\n",
            "{'batch_loss': <tf.Tensor: shape=(), dtype=float32, numpy=0.13115913>}\n",
            "{'batch_loss': <tf.Tensor: shape=(), dtype=float32, numpy=0.12106473>}\n",
            "{'batch_loss': <tf.Tensor: shape=(), dtype=float32, numpy=0.1103293>}\n",
            "{'batch_loss': <tf.Tensor: shape=(), dtype=float32, numpy=0.10157288>}\n",
            "{'batch_loss': <tf.Tensor: shape=(), dtype=float32, numpy=0.0935415>}\n",
            "{'batch_loss': <tf.Tensor: shape=(), dtype=float32, numpy=0.08582944>}\n",
            "{'batch_loss': <tf.Tensor: shape=(), dtype=float32, numpy=0.0794596>}\n",
            "{'batch_loss': <tf.Tensor: shape=(), dtype=float32, numpy=0.07312088>}\n",
            "{'batch_loss': <tf.Tensor: shape=(), dtype=float32, numpy=0.06777137>}\n",
            "{'batch_loss': <tf.Tensor: shape=(), dtype=float32, numpy=0.06269589>}\n",
            "{'batch_loss': <tf.Tensor: shape=(), dtype=float32, numpy=0.058134712>}\n",
            "{'batch_loss': <tf.Tensor: shape=(), dtype=float32, numpy=0.053903893>}\n",
            "{'batch_loss': <tf.Tensor: shape=(), dtype=float32, numpy=0.050073322>}\n",
            "{'batch_loss': <tf.Tensor: shape=(), dtype=float32, numpy=0.04679745>}\n",
            "{'batch_loss': <tf.Tensor: shape=(), dtype=float32, numpy=0.043564763>}\n",
            "{'batch_loss': <tf.Tensor: shape=(), dtype=float32, numpy=0.040723536>}\n",
            "{'batch_loss': <tf.Tensor: shape=(), dtype=float32, numpy=0.03810704>}\n",
            "{'batch_loss': <tf.Tensor: shape=(), dtype=float32, numpy=0.035851713>}\n",
            "\n",
            "CPU times: user 43.6 s, sys: 5.2 s, total: 48.8 s\n",
            "Wall time: 30.5 s\n"
          ]
        }
      ]
    },
    {
      "cell_type": "code",
      "source": [
        "losses = []\n",
        "for n in range(200):\n",
        "  print('.', end='')\n",
        "  logs = translator.train_step([example_input_batch, example_target_batch])\n",
        "  losses.append(logs['batch_loss'].numpy())\n",
        "\n",
        "print()\n",
        "plt.plot(losses)"
      ],
      "metadata": {
        "colab": {
          "base_uri": "https://localhost:8080/",
          "height": 323
        },
        "id": "vUIqg8TECbPQ",
        "outputId": "91725463-62b4-401f-c01b-540b6501acc0"
      },
      "execution_count": null,
      "outputs": [
        {
          "output_type": "stream",
          "name": "stdout",
          "text": [
            "........................................................................................................................................................................................................\n"
          ]
        },
        {
          "output_type": "execute_result",
          "data": {
            "text/plain": [
              "[<matplotlib.lines.Line2D at 0x7f00c7620c10>]"
            ]
          },
          "metadata": {},
          "execution_count": 56
        },
        {
          "output_type": "display_data",
          "data": {
            "text/plain": [
              "<Figure size 432x288 with 1 Axes>"
            ],
            "image/png": "[encoded data removed]"
          },
          "metadata": {
            "needs_background": "light"
          }
        }
      ]
    },
    {
      "cell_type": "code",
      "source": [
        "train_translator = TrainTranslator(\n",
        "    embedding_dim, units,\n",
        "    input_text_processor=input_text_processor,\n",
        "    output_text_processor=output_text_processor)\n",
        "\n",
        "# Configure the loss and optimizer\n",
        "train_translator.compile(\n",
        "    optimizer=tf.optimizers.Adam(),\n",
        "    loss=MaskedLoss(),\n",
        ")"
      ],
      "metadata": {
        "id": "jTI7OxhcCj5j"
      },
      "execution_count": null,
      "outputs": []
    },
    {
      "cell_type": "code",
      "source": [
        "class BatchLogs(tf.keras.callbacks.Callback):\n",
        "  def __init__(self, key):\n",
        "    self.key = key\n",
        "    self.logs = []\n",
        "\n",
        "  def on_train_batch_end(self, n, logs):\n",
        "    self.logs.append(logs[self.key])\n",
        "\n",
        "batch_loss = BatchLogs('batch_loss')"
      ],
      "metadata": {
        "id": "c4Zzj_JICyaC"
      },
      "execution_count": null,
      "outputs": []
    },
    {
      "cell_type": "code",
      "source": [
        "train_translator.fit(dataset, epochs=50,callbacks=[batch_loss])"
      ],
      "metadata": {
        "colab": {
          "base_uri": "https://localhost:8080/"
        },
        "id": "FMQN5wBCC3wx",
        "outputId": "afcd7e44-cd4a-4ce7-f7bc-0314fa01994c"
      },
      "execution_count": null,
      "outputs": [
        {
          "output_type": "stream",
          "name": "stdout",
          "text": [
            "Epoch 1/50\n",
            "22/22 [==============================] - 21s 615ms/step - batch_loss: 6.1511\n",
            "Epoch 2/50\n",
            "22/22 [==============================] - 13s 611ms/step - batch_loss: 5.4876\n",
            "Epoch 3/50\n",
            "22/22 [==============================] - 13s 605ms/step - batch_loss: 5.2076\n",
            "Epoch 4/50\n",
            "22/22 [==============================] - 13s 596ms/step - batch_loss: 4.9833\n",
            "Epoch 5/50\n",
            "22/22 [==============================] - 14s 640ms/step - batch_loss: 4.6373\n",
            "Epoch 6/50\n",
            "22/22 [==============================] - 13s 596ms/step - batch_loss: 4.2165\n",
            "Epoch 7/50\n",
            "22/22 [==============================] - 13s 607ms/step - batch_loss: 3.7294\n",
            "Epoch 8/50\n",
            "22/22 [==============================] - 13s 597ms/step - batch_loss: 3.2801\n",
            "Epoch 9/50\n",
            "22/22 [==============================] - 13s 613ms/step - batch_loss: 2.8248\n",
            "Epoch 10/50\n",
            "22/22 [==============================] - 13s 596ms/step - batch_loss: 2.3967\n",
            "Epoch 11/50\n",
            "22/22 [==============================] - 14s 616ms/step - batch_loss: 1.9611\n",
            "Epoch 12/50\n",
            "22/22 [==============================] - 13s 595ms/step - batch_loss: 1.6484\n",
            "Epoch 13/50\n",
            "22/22 [==============================] - 13s 602ms/step - batch_loss: 1.3580\n",
            "Epoch 14/50\n",
            "22/22 [==============================] - 13s 590ms/step - batch_loss: 1.1026\n",
            "Epoch 15/50\n",
            "22/22 [==============================] - 13s 608ms/step - batch_loss: 0.8822\n",
            "Epoch 16/50\n",
            "22/22 [==============================] - 13s 601ms/step - batch_loss: 0.7029\n",
            "Epoch 17/50\n",
            "22/22 [==============================] - 13s 595ms/step - batch_loss: 0.5505\n",
            "Epoch 18/50\n",
            "22/22 [==============================] - 13s 583ms/step - batch_loss: 0.4200\n",
            "Epoch 19/50\n",
            "22/22 [==============================] - 13s 595ms/step - batch_loss: 0.3282\n",
            "Epoch 20/50\n",
            "22/22 [==============================] - 13s 592ms/step - batch_loss: 0.2449\n",
            "Epoch 21/50\n",
            "22/22 [==============================] - 13s 600ms/step - batch_loss: 0.1824\n",
            "Epoch 22/50\n",
            "22/22 [==============================] - 13s 586ms/step - batch_loss: 0.1412\n",
            "Epoch 23/50\n",
            "22/22 [==============================] - 13s 598ms/step - batch_loss: 0.1124\n",
            "Epoch 24/50\n",
            "22/22 [==============================] - 13s 600ms/step - batch_loss: 0.0881\n",
            "Epoch 25/50\n",
            "22/22 [==============================] - 13s 579ms/step - batch_loss: 0.0723\n",
            "Epoch 26/50\n",
            "22/22 [==============================] - 13s 593ms/step - batch_loss: 0.0640\n",
            "Epoch 27/50\n",
            "22/22 [==============================] - 13s 574ms/step - batch_loss: 0.0542\n",
            "Epoch 28/50\n",
            "22/22 [==============================] - 13s 586ms/step - batch_loss: 0.0457\n",
            "Epoch 29/50\n",
            "22/22 [==============================] - 13s 600ms/step - batch_loss: 0.0394\n",
            "Epoch 30/50\n",
            "22/22 [==============================] - 13s 607ms/step - batch_loss: 0.0373\n",
            "Epoch 31/50\n",
            "22/22 [==============================] - 13s 607ms/step - batch_loss: 0.0336\n",
            "Epoch 32/50\n",
            "22/22 [==============================] - 13s 583ms/step - batch_loss: 0.0311\n",
            "Epoch 33/50\n",
            "22/22 [==============================] - 13s 580ms/step - batch_loss: 0.0346\n",
            "Epoch 34/50\n",
            "22/22 [==============================] - 13s 617ms/step - batch_loss: 0.0312\n",
            "Epoch 35/50\n",
            "22/22 [==============================] - 13s 603ms/step - batch_loss: 0.0283\n",
            "Epoch 36/50\n",
            "22/22 [==============================] - 13s 586ms/step - batch_loss: 0.0284\n",
            "Epoch 37/50\n",
            "22/22 [==============================] - 13s 590ms/step - batch_loss: 0.0272\n",
            "Epoch 38/50\n",
            "22/22 [==============================] - 13s 603ms/step - batch_loss: 0.0264\n",
            "Epoch 39/50\n",
            "22/22 [==============================] - 13s 601ms/step - batch_loss: 0.0245\n",
            "Epoch 40/50\n",
            "22/22 [==============================] - 13s 585ms/step - batch_loss: 0.0207\n",
            "Epoch 41/50\n",
            "22/22 [==============================] - 13s 586ms/step - batch_loss: 0.0226\n",
            "Epoch 42/50\n",
            "22/22 [==============================] - 13s 581ms/step - batch_loss: 0.0202\n",
            "Epoch 43/50\n",
            "22/22 [==============================] - 13s 598ms/step - batch_loss: 0.0183\n",
            "Epoch 44/50\n",
            "22/22 [==============================] - 13s 598ms/step - batch_loss: 0.0212\n",
            "Epoch 45/50\n",
            "22/22 [==============================] - 13s 566ms/step - batch_loss: 0.0181\n",
            "Epoch 46/50\n",
            "22/22 [==============================] - 13s 587ms/step - batch_loss: 0.0188\n",
            "Epoch 47/50\n",
            "22/22 [==============================] - 14s 606ms/step - batch_loss: 0.0176\n",
            "Epoch 48/50\n",
            "22/22 [==============================] - 13s 604ms/step - batch_loss: 0.0158\n",
            "Epoch 49/50\n",
            "22/22 [==============================] - 13s 610ms/step - batch_loss: 0.0184\n",
            "Epoch 50/50\n",
            "22/22 [==============================] - 13s 591ms/step - batch_loss: 0.0176\n"
          ]
        },
        {
          "output_type": "execute_result",
          "data": {
            "text/plain": [
              "<keras.callbacks.History at 0x7f00c7aebf90>"
            ]
          },
          "metadata": {},
          "execution_count": 59
        }
      ]
    },
    {
      "cell_type": "code",
      "source": [
        "plt.plot(batch_loss.logs)\n",
        "plt.ylim([0, 3])\n",
        "plt.xlabel('Batch #')\n",
        "plt.ylabel('CE/token')"
      ],
      "metadata": {
        "colab": {
          "base_uri": "https://localhost:8080/",
          "height": 300
        },
        "id": "53udusQpDAax",
        "outputId": "49b22a93-ccfa-4e96-9a01-c90dac8e3291"
      },
      "execution_count": null,
      "outputs": [
        {
          "output_type": "execute_result",
          "data": {
            "text/plain": [
              "Text(0, 0.5, 'CE/token')"
            ]
          },
          "metadata": {},
          "execution_count": 60
        },
        {
          "output_type": "display_data",
          "data": {
            "text/plain": [
              "<Figure size 432x288 with 1 Axes>"
            ],
            "image/png": "[encoded data removed]"
          },
          "metadata": {
            "needs_background": "light"
          }
        }
      ]
    },
    {
      "cell_type": "code",
      "source": [
        "class Translator(tf.Module):\n",
        "\n",
        "  def __init__(self, encoder, decoder, input_text_processor,\n",
        "               output_text_processor):\n",
        "    self.encoder = encoder\n",
        "    self.decoder = decoder\n",
        "    self.input_text_processor = input_text_processor\n",
        "    self.output_text_processor = output_text_processor\n",
        "\n",
        "    self.output_token_string_from_index = (\n",
        "        tf.keras.layers.StringLookup(\n",
        "            vocabulary=output_text_processor.get_vocabulary(),\n",
        "            mask_token='',\n",
        "            invert=True))\n",
        "\n",
        "    # The output should never generate padding, unknown, or start.\n",
        "    index_from_string = tf.keras.layers.StringLookup(\n",
        "        vocabulary=output_text_processor.get_vocabulary(), mask_token='')\n",
        "    token_mask_ids = index_from_string(['', '[UNK]', '[START]']).numpy()\n",
        "\n",
        "    token_mask = np.zeros([index_from_string.vocabulary_size()], dtype=np.bool)\n",
        "    token_mask[np.array(token_mask_ids)] = True\n",
        "    self.token_mask = token_mask\n",
        "\n",
        "    self.start_token = index_from_string(tf.constant('[START]'))\n",
        "    self.end_token = index_from_string(tf.constant('[END]'))"
      ],
      "metadata": {
        "id": "N4bbO3c7DG8O"
      },
      "execution_count": null,
      "outputs": []
    },
    {
      "cell_type": "code",
      "source": [
        "translator = Translator(\n",
        "    encoder=train_translator.encoder,\n",
        "    decoder=train_translator.decoder,\n",
        "    input_text_processor=input_text_processor,\n",
        "    output_text_processor=output_text_processor,\n",
        ")"
      ],
      "metadata": {
        "colab": {
          "base_uri": "https://localhost:8080/"
        },
        "id": "zHBE1SGdDL3R",
        "outputId": "76abc987-1588-407a-fd91-4f5c5a3c618c"
      },
      "execution_count": null,
      "outputs": [
        {
          "output_type": "stream",
          "name": "stderr",
          "text": [
            "/usr/local/lib/python3.7/dist-packages/ipykernel_launcher.py:21: DeprecationWarning: `np.bool` is a deprecated alias for the builtin `bool`. To silence this warning, use `bool` by itself. Doing this will not modify any behavior and is safe. If you specifically wanted the numpy scalar type, use `np.bool_` here.\n",
            "Deprecated in NumPy 1.20; for more details and guidance: https://numpy.org/devdocs/release/1.20.0-notes.html#deprecations\n"
          ]
        }
      ]
    },
    {
      "cell_type": "code",
      "source": [
        "def tokens_to_text(self, result_tokens):\n",
        "  shape_checker = ShapeChecker()\n",
        "  shape_checker(result_tokens, ('batch', 't'))\n",
        "  result_text_tokens = self.output_token_string_from_index(result_tokens)\n",
        "  shape_checker(result_text_tokens, ('batch', 't'))\n",
        "\n",
        "  result_text = tf.strings.reduce_join(result_text_tokens,\n",
        "                                       axis=1, separator=' ')\n",
        "  shape_checker(result_text, ('batch'))\n",
        "\n",
        "  result_text = tf.strings.strip(result_text)\n",
        "  shape_checker(result_text, ('batch',))\n",
        "  return result_text"
      ],
      "metadata": {
        "id": "1dEmKEDLDNqk"
      },
      "execution_count": null,
      "outputs": []
    },
    {
      "cell_type": "code",
      "source": [
        "Translator.tokens_to_text = tokens_to_text"
      ],
      "metadata": {
        "id": "x7_3o8LBDSID"
      },
      "execution_count": null,
      "outputs": []
    },
    {
      "cell_type": "code",
      "source": [
        "example_output_tokens = tf.random.uniform(\n",
        "    shape=[5, 2], minval=0, dtype=tf.int64,\n",
        "    maxval=output_text_processor.vocabulary_size())\n",
        "translator.tokens_to_text(example_output_tokens).numpy()"
      ],
      "metadata": {
        "colab": {
          "base_uri": "https://localhost:8080/"
        },
        "id": "1OoQyfhSDWTN",
        "outputId": "31ba1b9b-277a-4fad-efa5-ae3bb7707718"
      },
      "execution_count": null,
      "outputs": [
        {
          "output_type": "execute_result",
          "data": {
            "text/plain": [
              "array([b'FACE+SAME MOW', b'fs-EDWARD NONE/NOTHING_2+ONE', b'DOG (2h)WOW',\n",
              "       b'FOLLOW no', b'SECOND-IN-LIST LIKE'], dtype=object)"
            ]
          },
          "metadata": {},
          "execution_count": 65
        }
      ]
    },
    {
      "cell_type": "code",
      "source": [
        "def sample(self, logits, temperature):\n",
        "  shape_checker = ShapeChecker()\n",
        "  # 't' is usually 1 here.\n",
        "  shape_checker(logits, ('batch', 't', 'vocab'))\n",
        "  shape_checker(self.token_mask, ('vocab',))\n",
        "\n",
        "  token_mask = self.token_mask[tf.newaxis, tf.newaxis, :]\n",
        "  shape_checker(token_mask, ('batch', 't', 'vocab'), broadcast=True)\n",
        "\n",
        "  # Set the logits for all masked tokens to -inf, so they are never chosen.\n",
        "  logits = tf.where(self.token_mask, -np.inf, logits)\n",
        "\n",
        "  if temperature == 0.0:\n",
        "    new_tokens = tf.argmax(logits, axis=-1)\n",
        "  else: \n",
        "    logits = tf.squeeze(logits, axis=1)\n",
        "    new_tokens = tf.random.categorical(logits/temperature,\n",
        "                                        num_samples=1)\n",
        "  \n",
        "  shape_checker(new_tokens, ('batch', 't'))\n",
        "\n",
        "  return new_tokens"
      ],
      "metadata": {
        "id": "CsLx3-Z2DZGb"
      },
      "execution_count": null,
      "outputs": []
    },
    {
      "cell_type": "code",
      "source": [
        "Translator.sample = sample"
      ],
      "metadata": {
        "id": "aGHbBs3EDdnd"
      },
      "execution_count": null,
      "outputs": []
    },
    {
      "cell_type": "code",
      "source": [
        "example_logits = tf.random.normal([5, 1, output_text_processor.vocabulary_size()])\n",
        "example_output_tokens = translator.sample(example_logits, temperature=1.0)\n",
        "example_output_tokens"
      ],
      "metadata": {
        "colab": {
          "base_uri": "https://localhost:8080/"
        },
        "id": "F4hekD9LDfL4",
        "outputId": "7f5ec07c-3958-49a0-d17b-cd0ac3da8f15"
      },
      "execution_count": null,
      "outputs": [
        {
          "output_type": "execute_result",
          "data": {
            "text/plain": [
              "<tf.Tensor: shape=(5, 1), dtype=int64, numpy=\n",
              "array([[ 153],\n",
              "       [ 295],\n",
              "       [ 176],\n",
              "       [ 203],\n",
              "       [1244]])>"
            ]
          },
          "metadata": {},
          "execution_count": 68
        }
      ]
    },
    {
      "cell_type": "code",
      "source": [
        "def translate_unrolled(self,\n",
        "                       input_text, *,\n",
        "                       max_length=50,\n",
        "                       return_attention=True,\n",
        "                       temperature=1.0):\n",
        "  batch_size = tf.shape(input_text)[0]\n",
        "  input_tokens = self.input_text_processor(input_text)\n",
        "  enc_output, enc_state = self.encoder(input_tokens)\n",
        "\n",
        "  dec_state = enc_state\n",
        "  new_tokens = tf.fill([batch_size, 1], self.start_token)\n",
        "\n",
        "  result_tokens = []\n",
        "  attention = []\n",
        "  done = tf.zeros([batch_size, 1], dtype=tf.bool)\n",
        "\n",
        "  for _ in range(max_length):\n",
        "    dec_input = DecoderInput(new_tokens=new_tokens,\n",
        "                             enc_output=enc_output,\n",
        "                             mask=(input_tokens!=0))\n",
        "    \n",
        "    dec_result, dec_state = self.decoder(dec_input, state=dec_state)\n",
        "\n",
        "    attention.append(dec_result.attention_weights)\n",
        "\n",
        "    new_tokens = self.sample(dec_result.logits, temperature)\n",
        "\n",
        "    # If a sequence produces an `end_token`, set it `done`\n",
        "    done = done | (new_tokens == self.end_token)\n",
        "    # Once a sequence is done it only produces 0-padding.\n",
        "    new_tokens = tf.where(done, tf.constant(0, dtype=tf.int64), new_tokens)\n",
        "\n",
        "    # Collect the generated tokens\n",
        "    result_tokens.append(new_tokens)\n",
        "\n",
        "    if tf.executing_eagerly() and tf.reduce_all(done):\n",
        "      break\n",
        "\n",
        "  # Convert the list of generates token ids to a list of strings.\n",
        "  result_tokens = tf.concat(result_tokens, axis=-1)\n",
        "  result_text = self.tokens_to_text(result_tokens)\n",
        "\n",
        "  if return_attention:\n",
        "    attention_stack = tf.concat(attention, axis=1)\n",
        "    return {'text': result_text, 'attention': attention_stack}\n",
        "  else:\n",
        "    return {'text': result_text}\n"
      ],
      "metadata": {
        "id": "DBcFaJ9IDnet"
      },
      "execution_count": null,
      "outputs": []
    },
    {
      "cell_type": "code",
      "source": [
        "Translator.translate = translate_unrolled"
      ],
      "metadata": {
        "id": "Jj_l9wbQExvW"
      },
      "execution_count": null,
      "outputs": []
    },
    {
      "cell_type": "code",
      "source": [
        "%%time\n",
        "input_text = tf.constant([\n",
        "    \"I starting making an invitation list for my BBQ party, I will have to make sure it's right.\", \n",
        "    \"If Father arrives home late, he can’t help us with our homework.\", \n",
        "])\n",
        "\n",
        "result = translator.translate(\n",
        "    input_text = input_text)\n",
        "\n",
        "print(result['text'][0].numpy().decode())\n",
        "print(result['text'][1].numpy().decode())\n",
        "print()"
      ],
      "metadata": {
        "colab": {
          "base_uri": "https://localhost:8080/"
        },
        "id": "xdpKEiJ8Eznc",
        "outputId": "6a5f73c2-2b51-4169-eddd-3aae6f3f1c51"
      },
      "execution_count": null,
      "outputs": [
        {
          "output_type": "stream",
          "name": "stdout",
          "text": [
            "IX-1p PROCEED START FILL-OUT FRIEND (2h)alt.INVITE/HIRE FOR #BBQ GROUP/TOGETHER IX-1p MAKE REALLY LIST #ALL CORRECT PROCEED START FILL-OUT FRIEND (2h)alt.INVITE/HIRE GROUP/TOGETHER MAKE LIST CORRECT\n",
            "#IF FATHERwg IX-loc:i ARRIVE HOME fs-LATE IX-3p:i CANNOT HELP-1p IX-1p WITH POSS-1p-pl-arc HOMEWORK (1h)part:indef ARRIVE CANNOT HELP-1p WITH HOMEWORK\n",
            "\n",
            "CPU times: user 1.1 s, sys: 19.6 ms, total: 1.11 s\n",
            "Wall time: 1.12 s\n"
          ]
        }
      ]
    },
    {
      "cell_type": "code",
      "source": [
        "test_file = \"/content/drive/MyDrive/NLP/sentencesTest.txt\"\n",
        "\n",
        "outputfile = \"sadia_sign_v3.txt\"\n",
        "out = open(outputfile, \"w\")\n",
        "\n"
      ],
      "metadata": {
        "id": "P_alMd_-FgyW"
      },
      "execution_count": null,
      "outputs": []
    },
    {
      "cell_type": "code",
      "source": [
        "with open(test_file,encoding=\"cp1252\" ) as f:\n",
        "    lines_test = f.read().split(\"\\n\")[:-1]\n",
        "\n",
        "for input_sentence in lines_test:\n",
        "    \n",
        "    \n",
        "    #input_sentence = random.choice(line2)\n",
        "    list_data = []\n",
        "    list_data.append(input_sentence)\n",
        "    input_text = tf.constant(list_data)\n",
        "    result = translator.translate(input_text = input_text)\n",
        "    translated = result['text'][0].numpy().decode()\n",
        "    translated = translated.replace(\" \", \",\")\n",
        "    \n",
        "    out.write(translated+'\\n')\n",
        "\n",
        "out.close()"
      ],
      "metadata": {
        "id": "WzMzqUQjMeEY"
      },
      "execution_count": null,
      "outputs": []
    }
  ]
}